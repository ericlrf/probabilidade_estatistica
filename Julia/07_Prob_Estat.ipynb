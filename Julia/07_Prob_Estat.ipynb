{
 "cells": [
  {
   "cell_type": "markdown",
   "metadata": {},
   "source": [
    "# Probabilidade e Estatística\n",
    "\n",
    "## Curso Superior de Tecnologia em Ciência de Dados\n",
    "\n",
    "### Prof. Dr. Neylson Crepalde\n",
    "\n",
    "Conteúdo abordado: teste de significância\n",
    "\n",
    "Principal fonte: STEVENSON, Wiliam J.; DE FARIAS, Alfredo Alves. **Estatística aplicada à administração.** São Paulo: Harper e Row do Brasil, 1981.\n",
    "\n",
    "---"
   ]
  },
  {
   "cell_type": "markdown",
   "metadata": {},
   "source": [
    "# Testes de significância\n",
    "\n",
    "> A *finalidade dos testes de significância* é avaliar afirmações sobre os valores de parâmetros populacionais.\n",
    "\n",
    "**O primeiro passo** consiste em formular duas hipóteses sobre a afirmação. As hipóteses são explicações potenciais (teorias) que procuram levar em conta fatos observados em situações onde existem algumas incógnitas. Mais formalmente, a hipótese que sugere que a afirmação é verdadeira chama-se *hipótese nula* e se designa pelo símbolo $H_0$; a que sugere que a afirmação é falsa chama-se *hipótese alternativa* e se designa pelo símbolo $H_1$.\n",
    "\n",
    ">A *hipótese nula* $H_0$ é uma afirmação que diz que o parâmetro populacional é tal como especificado (isto é, a afirmação é verdadeira).\n",
    ">\n",
    ">A *hipótese alternativa* $H_1$ é uma afirmação que oferece uma alternativa à alegação (isto é, o parâmetro é maior (ou menor) que o valor alegado).\n",
    "\n",
    "### Variação causal ou variação real?\n",
    "\n",
    "O \"teste\" consiste em verificar se uma estatística amostral observada pode razoalmente provir de uma poopulação com o parâmetro alegado. Logo, o que queremos levar em conta é a variabilidade amostral que pode ocorrer quando se tem uma população tal como a alegada. \n",
    "\n",
    "**O segundo passo** consiste em identificar a distribuiçâo amostral adequada, pois ela descreverá completamente a variação.\n",
    "\n",
    "$$\\sigma_p = \\sqrt{\\frac{p(1-p)}{n}}$$\n",
    "\n",
    "onde $p$ é a proporção populacional e $n$ é o tamanho da amostra.\n",
    "\n",
    ">O *nível de significância* de um teste é a probabilidade de uma hipótese nula ser rejeitada, quando verdadeira.\n",
    "\n",
    "#### Exemplo\n",
    "\n",
    "Considere a seguinte situação: Inspeciona-se uma amostra de 142 peças de uma grande remessa, encontrando-se 8% defeituosas. O fornecedor garante que não haverá mais de 6% de peças defeituosas em cada remessa. O que devemos responder, com auxílio dos testes de significância, é se a afirmação é verdadeira ou falsa.\n",
    "\n",
    "1º passo: montar o teste de hipótese\n",
    "\n",
    "\\begin{align}\n",
    "H_0 :& = 6\\% \\\\\n",
    "H_1 :& > 6\\% \\\\\n",
    "\\end{align}\n",
    "\n",
    "Se a afirmação do fornecedor é verdadeira, nossa proporção amostral de 8% provém de uma distribuição amostral com média 6% e desvio padrão\n",
    "\n",
    "$$\\sigma_p = \\sqrt{\\frac{(0,06)(0,94)}{142}} = 0,02$$\n",
    "\n",
    "Podemos agora ver que nossa discrepância de 2% está a um desvio padrão acima do valor esperado, supondo que 0,06 seja a verdadeira proporção populacional:\n",
    "\n",
    "$$z = \\frac{0,08 - 0,06}{0,02} = +1,0$$"
   ]
  }
 ],
 "metadata": {
  "kernelspec": {
   "display_name": "Julia 1.3.1",
   "language": "julia",
   "name": "julia-1.3"
  },
  "language_info": {
   "file_extension": ".jl",
   "mimetype": "application/julia",
   "name": "julia",
   "version": "1.3.1"
  }
 },
 "nbformat": 4,
 "nbformat_minor": 4
}
