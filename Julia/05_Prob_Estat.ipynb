{
 "cells": [
  {
   "cell_type": "markdown",
   "metadata": {},
   "source": [
    "# Probabilidade e Estatística\n",
    "\n",
    "## Curso Superior de Tecnologia em Ciência de Dados\n",
    "\n",
    "### Prof. Dr. Neylson Crepalde\n",
    "\n",
    "Conteúdo abordado: distribuições amostrais\n",
    "\n",
    "Principal fonte: STEVENSON, Wiliam J.; DE FARIAS, Alfredo Alves. **Estatística aplicada à administração.** São Paulo: Harper e Row do Brasil, 1981.\n",
    "\n",
    "---\n",
    "\n",
    "# Distribuições amostrais\n",
    "\n",
    "**A finalidade** da amostragem é obter uma indicação do valor de um ou mais parâmetros de uma população, tais como a média, o desvio padrão populacional, ou a proporção de itens que possuem determinada característica. As estatísticas amostrais que correspondem a esses parâmetros populacionais são usadas para aproximar os valores desconhecidos daqueles parâmetros. Assim é que a média amostral é usada para estimar a média da população, o desvio padrão amostral é usado para estimar o desvio padrão populacional, e a proporção amostral serve para estimar a proporção da população.\n",
    "\n",
    "Uma das realidades da amostragem aleatória é que, quando se extraem repetidas amostras da mesma população, há uma tendência de a estatística amostral variar de uma amostra para outra, e também em relação ao verdadeiro valor do parâmetro, simplesmente em razão de fatores causais relacionados à amostragem (*variabilidade amostral*). \n",
    "\n",
    "De modo geral, pode parecer difícil lidar, de maneira racional, com a variabilidade amostral. No caso da amostragem *aleatória*, entretanto, demonstra-se matematicamente que a variabilidade pode ser descrita por distribuições de probabilidades tais como a normal e a binomial. **Quando as distribuições de probabilidade são usadas desta maneira, são conhecidas como distribuições amostrais**. \n",
    "\n",
    "A questão a responder para cada amostra é: *Quão próxima está a estatística amostral do verdadeiro valor do parâmetro populacional?* A resposta depende de três fatores:\n",
    "\n",
    "1. A estatística a ser considerada;\n",
    "2. O tamanho da amostra;\n",
    "3. A variabilidade existente na própria população.\n",
    "\n",
    "> Uma *distribuição amostral* é uma distribuição de probabilidades que indica até que ponto uma estatística amostral tende a variar devido a variações causais na amostragem aleatória."
   ]
  },
  {
   "cell_type": "markdown",
   "metadata": {},
   "source": [
    "#### Exemplo\n",
    "\n",
    "Suponhamos que um fazendeiro deseja vender alguns porcos. Para simplicidade, limitemos a população a 5 porcos. Os respectivos pesos dos porcos são conforme a tabela abaixo:\n",
    "\n",
    "| Porco | Peso (lb) |\n",
    "|-------|-----------|\n",
    "| A     | 200       |\n",
    "| B     | 203       |\n",
    "| C     | 206       |\n",
    "| D     | 209       |\n",
    "| E     | 212       |\n",
    "|       | 1030      |\n",
    "\n",
    "Suponhamos que qualquer porco que pese menos que 205 lbs seja considerado magro e não pode ser vendido a preço razoável. A proporção de porcos magros é, portanto, $\\frac{2}{5}$ da população. Suponhamos que o fazendeiro quisesse estimar a proporção de seus porcos que estão abaixo do peso a partir de uma amostra de porcos. Que proporções amostrais são possíveis e quão viável é cada uma? Queremos a *distribuição amostral* da situação.\n",
    "\n",
    "A tabela abaixo ilustra todas as amostras possíveis da população de porcos do fazendeiro.\n",
    "\n",
    "| Tamanho da amostra | Número de amostras possíveis | Combinação de amostras | Pesos amostrais | Proporção de magros |\n",
    "|--------------------|------------------------------|------------------------|-----------------|---------------------|\n",
    "| 2 | 10 | A, B | 200, 203 | 2/2 |\n",
    "|  |  | A, C | 200, 206 | 1/2 |\n",
    "|  |  | A, D | 200, 209 | 1/2 |\n",
    "|  |  | A, E | 200, 212 | 1/2 |\n",
    "|  |  | B, C | 203, 206 | 1/2 |\n",
    "|  |  | B, D | 203, 206 | 1/2 |\n",
    "|  |  | B, E | 203, 212 | 1/2 |\n",
    "|  |  | C, D | 206, 209 | 0/2 |\n",
    "|  |  | C, E | 206, 212 | 0/2 |\n",
    "|  |  | D, E | 209, 212 | 0/2 |\n",
    "\n",
    "A distribuição amostral mostra que as propoções amostrais possíveis são 0/2, 1/2 e 2/2. Mostra também *quão provável* é cada proporção, sob a hipótese de que cada porco tenha a mesma chance de ser incluído na amostra (isto é, amostragem *aleatória*). Por exemplo, há uma probabilidade de 0,6 de a proporção amostral ser 1/2, o que está próximo da proporçao real (como são usadas amostras de 2, seria impossível termos uma proporção *amostral* de 2/5)."
   ]
  },
  {
   "cell_type": "code",
   "execution_count": null,
   "metadata": {},
   "outputs": [],
   "source": [
    "using Plots, LaTeXStrings, Distributions, StatsBase, StatsPlots, Random, KernelDensity"
   ]
  },
  {
   "cell_type": "code",
   "execution_count": null,
   "metadata": {},
   "outputs": [],
   "source": [
    "bar(1:3, [0.3, 0.6, 0.1], legend=false, title=\"Proporção amostral abaixo de 205 lbs\")\n",
    "xticks!(1:3, [L\"\\frac{0}{2}\", L\"\\frac{1}{2}\", L\"\\frac{2}{2}\"])"
   ]
  },
  {
   "cell_type": "markdown",
   "metadata": {},
   "source": [
    "# Efeito do tamanho da amostra sobre uma distribuição amostral\n",
    "\n",
    "Pode ser demonstrado que à medida que aumenta o tamanho da amostra, (1) a distribuição amostral das proporções tende para a normalidade e (2) a variabilidade amostral decresce.\n",
    "\n",
    "Vamos replicar o exemplo dos porcos agora com uma população simulada de 1000 porcos."
   ]
  },
  {
   "cell_type": "code",
   "execution_count": null,
   "metadata": {},
   "outputs": [],
   "source": [
    "pesos = trunc.(Int, rand(Uniform(200, 212), 1000))"
   ]
  },
  {
   "cell_type": "markdown",
   "metadata": {},
   "source": [
    "Vamos verificar qual é a real proporção de porcos abaixo do peso na população que geramos:"
   ]
  },
  {
   "cell_type": "code",
   "execution_count": null,
   "metadata": {},
   "outputs": [],
   "source": [
    "function get_prop_magros(x)\n",
    "    binaria = ifelse.(x .< 205, 1, 0)\n",
    "    return sum(binaria) / length(binaria)\n",
    "end"
   ]
  },
  {
   "cell_type": "code",
   "execution_count": null,
   "metadata": {},
   "outputs": [],
   "source": [
    "get_prop_magros(pesos)"
   ]
  },
  {
   "cell_type": "markdown",
   "metadata": {},
   "source": [
    "39%. Agora vamos verificar 1000 amostras com diferentes tamanhos para ver como a distribuição amostral se comporta:"
   ]
  },
  {
   "cell_type": "code",
   "execution_count": null,
   "metadata": {},
   "outputs": [],
   "source": [
    "function generate_samples()\n",
    "    amostras = Dict{Int, Any}()\n",
    "    for i in [10, 20, 50, 100, 200]\n",
    "        s = [sample(pesos, i, replace=false) for j in 1:1000]\n",
    "        amostras[i] = get_prop_magros.(s)\n",
    "    end\n",
    "    return amostras\n",
    "end"
   ]
  },
  {
   "cell_type": "code",
   "execution_count": null,
   "metadata": {},
   "outputs": [],
   "source": [
    "provas = generate_samples()"
   ]
  },
  {
   "cell_type": "code",
   "execution_count": null,
   "metadata": {},
   "outputs": [],
   "source": [
    "for i in [10, 20, 50, 100, 200]\n",
    "    if i == 10\n",
    "        density(provas[i], label=string(\"n = \", i), width=2)\n",
    "    else\n",
    "        density!(provas[i], label=string(\"n = \", i), width=2)\n",
    "    end\n",
    "end\n",
    "title!(\"Distribuições amostrais\")\n",
    "vline!([0.39], label=\"Proporção real\", color=:black, width=1)"
   ]
  },
  {
   "cell_type": "markdown",
   "metadata": {},
   "source": [
    "# Distribuições de médias amostrais\n",
    "\n",
    "A distribuição amostral das médias amostrais sofre o mesmo efeito observado nas proporções identificadas acima. \n",
    "\n",
    "#### Exemplo\n",
    "\n",
    "Uma turma da faculdade possui 5000 alunos. Vamos simular as idades desses alunos usando uma distribuição normal."
   ]
  },
  {
   "cell_type": "code",
   "execution_count": null,
   "metadata": {},
   "outputs": [],
   "source": [
    "idades = rand(Normal(35, 5), 5000)\n",
    "histogram(idades, legend=true, title=\"Distribuição de idades da faculdade fictícia\", label=\"Idades\")\n",
    "vline!([mean(idades)], label=\"Média\", width=2, color=:darkred)"
   ]
  },
  {
   "cell_type": "code",
   "execution_count": null,
   "metadata": {},
   "outputs": [],
   "source": [
    "print(\"Média real: \")\n",
    "mean(idades)"
   ]
  },
  {
   "cell_type": "markdown",
   "metadata": {},
   "source": [
    "Agora vamos observar como a distribuição amostral das médias de idade amostrais se comportam."
   ]
  },
  {
   "cell_type": "code",
   "execution_count": null,
   "metadata": {},
   "outputs": [],
   "source": [
    "tamanhos_amostra = [50, 100, 200, 500]"
   ]
  },
  {
   "cell_type": "code",
   "execution_count": null,
   "metadata": {},
   "outputs": [],
   "source": [
    "function generate_mean_distributions(vetor, tamanhos)\n",
    "    medias = Dict{Int, Any}()\n",
    "    for i in tamanhos\n",
    "        s = [sample(vetor, i, replace=false) for j in 1:i]\n",
    "        medias[i] = mean(s)\n",
    "    end\n",
    "    return medias\n",
    "end"
   ]
  },
  {
   "cell_type": "code",
   "execution_count": null,
   "metadata": {},
   "outputs": [],
   "source": [
    "@time medias = generate_mean_distributions(idades, tamanhos_amostra)"
   ]
  },
  {
   "cell_type": "code",
   "execution_count": null,
   "metadata": {},
   "outputs": [],
   "source": [
    "for i in tamanhos_amostra\n",
    "    if i == minimum(tamanhos_amostra)\n",
    "        density(medias[i], label=string(\"n = \", i), width=2)\n",
    "    else\n",
    "        density!(medias[i], label=string(\"n = \", i), width=2)\n",
    "    end\n",
    "end\n",
    "title!(\"Distribuições amostrais das médias amostrais\")\n",
    "vline!([mean(idades)], label=\"Média real\", color=:black, width=2)"
   ]
  },
  {
   "cell_type": "code",
   "execution_count": null,
   "metadata": {},
   "outputs": [],
   "source": [
    "for i in tamanhos_amostra\n",
    "    print(\"Desvio padrão na amostra de tamanho \" * string(i) * \" :\")\n",
    "    println(std(medias[i]))\n",
    "end"
   ]
  },
  {
   "cell_type": "markdown",
   "metadata": {},
   "source": [
    "---\n",
    "\n",
    "# Teorema do Limite Central\n",
    "\n",
    "A capacidade de usar amostras para fazer inferências sobre parâmetros populacionais depende do conhecimento da distribuição amostral. Além da média e do desvio padrão, precisamos também da **forma** da distribuição amostral. Já dissemos antes que há uma tendência para as distribuições de médias e de proporções se apresentarem aproximadamente normais. No caso das médias amostrais, pode-se demonstrar matematicamente que, se uma população tem distribuição normal, a distribuição das médias amostrais extraídas da população também tem distribuição normal, para qualquer tamanho de amostra. Além disso, mesmo no caso de uma distribuição não-normal, a distribuição das médias amostrais será aproximadamente normal, desde que a amostra seja grande. \n",
    "\n",
    "Este é um resultado notável, na verdade, pois nos diz que não é necessário conhecer a distribuição de uma população para podermos fazer inferências sobre ela a partir de dados amostrais. A única restrição é que **o tamanho da amostra seja grande**. Uma regra prática muito usada é que a amostra deve consistir de 30 ou mais observações.\n",
    "\n",
    "Estes resultados são conhecidos como o Teorema do Limite Central e representam talvez o conceito mais importante na inferência estatística.\n",
    "\n",
    ">#### O Teorema do Limite Central\n",
    ">\n",
    ">1. Se a população sob amostragem tem distribuição normal, a distribuição das médias amostrais também será normal para todos os tamanhos de amostra.\n",
    ">2. Se a população básica é não-normal, a distribuição de médias amostrais será aproximadamente normal para grandes amostras.\n",
    "\n",
    "EM sentido estrito, o Teorema do Limite Central só se aplica a médias amostrais. Não obstante, devemos recordar que, exceto para valores muito pequenos ou muito grandes de $p$, a distribuição normal constitui aproximação razoável das probabilidades binomiais para grandes amostras. Logo, a distribuição normal pode ser utilizada para médias e proporções em grandes amostras.\n",
    "\n",
    "#### Exemplo 1\n",
    "\n",
    "Uma população muioto grande tem média 20 e desvio padrão 1,4. Extrai-se uma amostra de 49 observações. Responda:\n",
    "\n",
    "1. Qual é a média da distribuição amostral?\n",
    "2. Qual é o desvio padrão da distribuição amostral?\n",
    "3. Qual é a percentagem das possíveis médias amostrais que diferirão por mais de 0,2 da média da população?\n",
    "\n",
    "**Solução**: \n",
    "\n",
    "(1) A média da distribuição amostral é sempre igual à média da população. Logo $\\mu_{\\bar{x}} = 20$. \n",
    "\n",
    "(2) O desvio padrão da distribuição amostral é\n",
    "\n",
    "$$\\sigma_{\\bar{x}} = \\frac{\\sigma_x}{\\sqrt{n}} = \\frac{1,4}{\\sqrt{49}} = \\frac{1,4}{7} = 0,2$$\n",
    "\n",
    "(3) A percentagem de médias amostrais que diferem pos mais de 0,2 da média populacional é \n",
    "\n",
    "\n",
    "\\begin{align}\n",
    "\\frac{20,2 - 20}{0,2} = + 1\\sigma_{\\bar{x}} \\quad \\quad & proporcao: 0,1587 \\\\\n",
    "\\frac{19,8 - 20}{0,2} = - 1\\sigma_{\\bar{x}} \\quad \\quad & proporcao: 0,1587 \\\\\n",
    " & total = 0,3174\n",
    "\\end{align}"
   ]
  },
  {
   "cell_type": "code",
   "execution_count": null,
   "metadata": {},
   "outputs": [],
   "source": [
    "function npdensity(z)\n",
    "    n = size(z,2)\n",
    "    for i = 1:n\n",
    "        x = z[:,i]\n",
    "        y = kde(x)\n",
    "        desv = std(x)\n",
    "        m = mean(x)\n",
    "\n",
    "        Plots.plot(range(-(desv*3), stop=-(desv*1), length=100),z->pdf(y,z), color=:blue, fill=(0,0.5,:grey), legend=false)\n",
    "        Plots.plot!(range(-(desv*1), stop=m, length=100),z->pdf(y,z), color=:blue, fill=(0,0.5,:white))\n",
    "        Plots.plot!(range(m, stop=desv, length=100),z->pdf(y,z), color=:blue, fill=(0,0.5,:white))\n",
    "        Plots.plot!(range(desv, stop=desv*3, length=100),z->pdf(y,z), color=:blue, fill=(0,0.5,:grey))\n",
    "    end\n",
    "end"
   ]
  },
  {
   "cell_type": "code",
   "execution_count": null,
   "metadata": {},
   "outputs": [],
   "source": [
    "vetor = rand( Normal( 0 , 1 ),10000000)\n",
    "npdensity(vetor)\n",
    "xticks!(-1:1, [\"19.8\", \"20\", \"20.2\"])\n",
    "annotate!([(-1.5, 0.03, text(\"0,1587\", 10)), (1.5, 0.03, text(\"0,1587\", 10)), (2, 0.35, text(\"Total: 0,3174\", 12))])"
   ]
  },
  {
   "cell_type": "markdown",
   "metadata": {},
   "source": [
    "#### Exemplo 2\n",
    "\n",
    "Um fabricante de baterias alega que seu artigo de primeira categoria tem uma vida esperada (média) de 50 meses. Sabe-se que o desvio padrão correspondente é de 4 meses. Que percentagem de amostras de 36 observações acusará vida média no intervalo de 1 mês em torno de 50 meses, admitindo ser de 50 meses a verdadeira vida média das baterias? Qual será a resposta para uma amostra de 64 observações?\n",
    "\n",
    "**Solução**: Sabemos que, como $n > 30$ a distribuição das médias amostrais será aproximadamente normal, com média igual à média populacional e desvio padrão igual ao desvio padrão populacional dividido pela raiz quadrada do tamanho da amostra. A solução envolve a determinação do número de desvios padrões que 49 e 51 meses distam da média: recorrendo a uma tabela de áreas sob a curva normal, obtemos as probabilidades procuradas.\n",
    "\n",
    "Primeiro, vamos determinar o desvio padrão:\n",
    "\n",
    "$$\\sigma_{\\bar{x}} = \\frac{\\sigma_x}{\\sqrt{n}}$$\n",
    "\n",
    "$$para \\quad n = 36: \\quad \\sigma_{\\bar{x}} = \\frac{4}{\\sqrt{36}} = \\frac{4}{6} = 0,67$$\n",
    "\n",
    "$$para \\quad n = 64: \\quad\\sigma_{\\bar{x}} = \\frac{4}{\\sqrt{64}} = \\frac{4}{8} = 0,50$$\n",
    "\n",
    "Em seguida determinemos a diferença em relação ao valor esperado:\n",
    "\n",
    "$$z = \\frac{estatistica - parametro}{\\sigma_{\\bar{x}}}$$\n",
    "\n",
    "$$para \\quad n = 36: \\quad \\frac{49 - 50}{0,67} = \\frac{-1}{0,67} = -1.5 \\sigma_{\\bar{x}} \\quad \\quad \\frac{51 - 50}{0,67} = \\frac{1}{0,67} = +1.5 \\sigma_{\\bar{x}}$$\n",
    "\n",
    "$$para \\quad n = 64: \\quad \\frac{49 - 50}{0,50} = \\frac{-1}{0,50} = -2 \\sigma_{\\bar{x}} \\quad \\quad \\frac{51 - 50}{0,50} = \\frac{1}{0,50} = +2 \\sigma_{\\bar{x}}$$\n",
    "\n",
    "Finalmente, determinemos as áreas com auxílio da Tabela.\n",
    "\n",
    "Para n = 36, z = 1,5. Área = 0,4332.\n",
    "\n",
    "$$P(49 \\leq \\bar{x} \\leq 51) = 0,4332 + 0,4332 = 0,8664$$\n",
    "\n",
    "Para n = 64, z = 2. Área = 0,4773\n",
    "\n",
    "$$P(49 \\leq \\bar{x} \\leq 51) = 0,4773 + 0,4773 = 0,9546$$\n",
    "\n",
    "#### Exemplo 3\n",
    "\n",
    "Usando a informação contida no exemplo 2, qual seria probabilidade de obter uma média amostral inferior a 49,8 meses com uma amostra de 100 observações?\n",
    "\n",
    "**Solução**:\n",
    "\n",
    "$$\\sigma_{\\bar{x}} = \\frac{\\sigma_x}{\\sqrt{n}} = \\frac{4}{10} = 0,4$$\n",
    "\n",
    "$$\\frac{49,8 - 50}{0,4} = -0,5 \\sigma_{\\bar{x}}$$\n",
    "\n",
    "A área abaixo de $-0,5 \\sigma_{\\bar{x}}$ é 0,3085\n",
    "\n",
    "---\n",
    "\n",
    "# Exercícios\n",
    "\n",
    "Stevenson (1981, p. 185-6), TODOS.\n",
    "\n",
    "---"
   ]
  },
  {
   "cell_type": "markdown",
   "metadata": {},
   "source": [
    "# Distribuições de proporções amostrais\n",
    "\n",
    "Uma distribuição de proporções amostrais indica quão provável é determinado conjunto de proporçõe amostrais, dados o tamanho da amostra e a proporção populacional. Quando o tamanho da amostra é 20 ou menos, as probabilidades dos diversos resultados possíveis podem ser lidos diretamente numa tabela de probabilidades binomiais simplesmente convertendo o número de sucessos em percentagens. Por exemplo, 3 ocorrências em 10 observações correspondem a 30%, 5 ocorrências em 20 correspondem a 25%. Para maiores amostras a aproximação normal da binomial dá resultados bastante satisfatórios.\n",
    "\n",
    "A média (proporção ou percentagem média) da distribuição amostral é sempre igual à proporção populacional. Isto é\n",
    "\n",
    "$$\\bar{p} = p$$\n",
    "\n",
    "onde $p$ é a proporção populacional e $\\bar{p}$ é a média da distribuição amostral das porporções.\n",
    "\n",
    "Quando a a população é muito grande ou infinita, o desvio padrão da distribuição amostral se calcula pela fórmula \n",
    "\n",
    "$$\\sigma_p = \\sqrt{\\frac{p(1-p)}{n}}$$\n",
    "\n",
    "\n",
    "#### Exemplo\n",
    "\n",
    "Um varejista compra copos diretamente da fábrica em grandes lotes. Os copos vêm embrulhados individualmente. Periodicamente o varejista inspeciona os lotes para determinar a proporção dos quebrados ou lascados. Se um grande lote contém 10% de quebrados ou lascados, qual a probabilidade de o varejista obter uma amostra de 100 copos com 17% ou mais defeituosos?\n",
    "\n",
    "**Solução**: A distribuição amostral se centrará em 10% que é a percentagem populacional de defeituosos. O primeiro passo é calcular o desvio padrão da população:\n",
    "\n",
    "$$\\sigma_p = \\sqrt{\\frac{p(1-p)}{n}} = \\sqrt{\\frac{0,10(1-0,10)}{100}} = \\frac{0,3}{100} = 0,03$$\n",
    "\n",
    "Podemos usar esse resultado para determinar a variação relativa:\n",
    "\n",
    "$$\\frac{17\\% - 10\\%}{3\\%} = \\frac{7\\%}{3\\%} = 2,33 \\sigma_p = z$$\n",
    "\n",
    "A área além de $2,33 \\sigma_p$ é 0,0099, conforme a tabela de referência."
   ]
  },
  {
   "cell_type": "markdown",
   "metadata": {},
   "source": [
    "# Distribuição amostral do número de ocorrências\n",
    "\n",
    "A distribuição amostral do número de ocorrências segue o mesmo padrão que vimos até aqui. Com dados de contagens a média é dada por $np$ e o desvio padrão por\n",
    "\n",
    "$$\\sigma_{np} = \\sqrt{np(1-np)}$$\n",
    "\n",
    "#### Exemplo\n",
    "\n",
    "Suponha que uma pesquisa recente tenha revelado que 60% de uma população de adultos do sexo masculino consista de não-fumantes. Tomada uma amostra de 600, calcule e interprete a média e o desvio padrão da distribuição amostral.\n",
    "\n",
    "**Solução**: Temos n = 600, 0 = 0,60, de modo que $1-p = 0,40$.\n",
    "\n",
    "$$M\\acute{e}dia = np = 600(0,60) = 360$$\n",
    "\n",
    "$$DesvioPadrao = \\sqrt{np(1-np)} = \\sqrt{600(0,60)(0,40)} = \\sqrt{144} = 12$$\n",
    "\n",
    "---\n",
    "\n",
    "# Exercícios\n",
    "\n",
    "Stevenson (1981, p. 188), todos. "
   ]
  },
  {
   "cell_type": "markdown",
   "metadata": {},
   "source": [
    "---\n",
    "\n",
    "# Amostragem de uma população finita\n",
    "\n",
    "A maior parte da amostragem se faz sem reposição. Enquanto o tamanho da amostra for pequeno em relação ao da populaçã, a amostragem sem reposição dará entre as amostras essencialmente a mesma variabilidade da amostragem com reposição. Entretanto, se o tamanho da amostra representa percentagem apreciável da população (digamos, mais do que 5%), já os resultados dos dois tipos de amostragem começam a diferir. Isso porque, na amostragem sem reposição, a probabilidade de extração de itens varia de uma para outra extração. Em tais condições, a distribuição adequada é a distribuição hipergeométrica. \n",
    "\n",
    "As fórmulas do desvio padrão das médias amostrais e do desvio padrão das proporções amostrais devem ser modificadas de modo a refletirem a probabilidade, se o tamanho da amostra é superior a 5% da população. Felizmente, a modificação hipergeométrica tem uma forma simples:\n",
    "\n",
    "$$\\sqrt{\\frac{N - n}{N - 1}}$$\n",
    "\n",
    "onde $N$ é o tamanho da população e $n$ é o tamanho da amostra.\n",
    "\n",
    "Essa fórmula é designada como *fator de correção finita*, ou às vezes, *multiplicador de população finita*. Já que multiplica as expressões usuais do desvio padrão. \n",
    "\n",
    "O desvio padrão das médias amostrais se torna\n",
    "\n",
    "$$\\sigma_{\\bar{x}} = \\frac{\\sigma_x}{\\sqrt{n}} \\sqrt{\\frac{N - n}{N - 1}}$$\n",
    "\n",
    "O desvio padrão das médias amostrais fica\n",
    "\n",
    "$$\\sigma_p = \\sqrt{\\frac{p(1-p)}{n}} \\sqrt{\\frac{N - n}{N - 1}}$$\n",
    "\n",
    "e o desvio padrão do número de ocorrências se escreve\n",
    "\n",
    "$$\\sigma_{np} = \\sqrt{np(1-np)} \\sqrt{\\frac{N - n}{N - 1}}$$\n",
    "\n",
    "#### Exemplo\n",
    "\n",
    "Uma máquina para recobrir cerejas com chocolate é regulada para produzir um revestimento de 3mm de espessura. O processo tem distribuição normal, com desvio padrão de 1 mm. Se o processo funciona conforme o esperado (isto é, a média de 3mm e o desvio padrão de 1mm), qual seria a probabilidade de extrair uma amostra de 25 de um lote de 169 cerejas e encontrar uma média amostral superior a 3,4 mm?\n",
    "\n",
    "**Solução**: Como a população é finita, e a amostra é maior do que 5%, cabe aplicar o fator de correção finita. A solução exige a determinação de quão afastado da média está o valor 3,4 mm (em termos de desvios padrões), usando-se o valor para obter a possiblidade na tabela da curva normal. \n",
    "\n",
    "\\begin{align}\n",
    "\\sigma_{\\bar{x}} & = \\frac{\\sigma_x}{\\sqrt{n}} \\sqrt{\\frac{N - n}{N - 1}} \\\\\n",
    " & = \\frac{1}{\\sqrt{25}} \\sqrt{\\frac{169-25}{168}} \\\\\n",
    " & = \\frac{1}{5} (0,92) \\\\\n",
    " & = 0,185\n",
    "\\end{align}\n",
    "\n",
    "Então...\n",
    "\n",
    "\\begin{align}\n",
    "\\frac{\\bar{x} - \\mu}{\\sigma_{\\bar{x}}} & = \\frac{3,4 - 3,0}{0,185} \\\\\n",
    " & = \\frac{0,4}{0,185} \\\\\n",
    " & \\approx 2,2 \\sigma_{\\bar{x}}\n",
    "\\end{align}\n",
    "\n",
    "A área sob a curva normal além de $\\mu + ,2 \\sigma_{\\bar{x}}$ é $0,0139$. Assim $P(x > 3,4) = 1,39\\%$."
   ]
  }
 ],
 "metadata": {
  "kernelspec": {
   "display_name": "Julia 1.4.1",
   "language": "julia",
   "name": "julia-1.4"
  },
  "language_info": {
   "file_extension": ".jl",
   "mimetype": "application/julia",
   "name": "julia",
   "version": "1.4.1"
  }
 },
 "nbformat": 4,
 "nbformat_minor": 4
}
