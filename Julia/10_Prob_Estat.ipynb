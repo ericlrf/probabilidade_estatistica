{
 "cells": [
  {
   "cell_type": "markdown",
   "metadata": {},
   "source": [
    "# Probabilidade e Estatística\n",
    "\n",
    "## Curso Superior de Tecnologia em Ciência de Dados\n",
    "\n",
    "### Prof. Dr. Neylson Crepalde\n",
    "\n",
    "Conteúdo abordado: testes de significância para proporções\n",
    "\n",
    "Principal fonte: STEVENSON, Wiliam J.; DE FARIAS, Alfredo Alves. **Estatística aplicada à administração.** São Paulo: Harper e Row do Brasil, 1981.\n",
    "\n",
    "---"
   ]
  },
  {
   "cell_type": "markdown",
   "metadata": {},
   "source": [
    "# Testes de uma amostra para proporções\n",
    "\n",
    "Os testes para proporções são adequados quando os dados sob análise consistem de contagens ou frequências de itens em duas ou mais classes.\n",
    "\n",
    "Montamos o teste de hipótese do mesmo modo conforme estudado nas lições anteriores. A hipótese nula pode ser, por exemplo,\n",
    "\n",
    "$$H_0 : p_0 = 0,20$$\n",
    "\n",
    "Devemos então usar o valor 0,20 juntamente com o tamanho amostral $n$ para calcular $\\sigma_{p_0}$. Suponhamos $n = 100$. Então\n",
    "\n",
    "$$\\sigma_{p_0} = \\sqrt{\\frac{(0,20)(1-0,20)}{100}} = 0,04$$\n",
    "\n",
    "O símbolo $p_0$ é usado para denotar o valor especificado em $H_0$. O teste requer o cálculo da estatística $z$:\n",
    "\n",
    "$$z = \\frac{\\text{proporção amostral} - \\text{proporção alegada}}{\\text{desvio padrão da proporção}} = \\frac{(x/n) - p_0}{\\sqrt{p_0(1-p_0)/n}}$$\n",
    "\n",
    "---\n",
    "\n",
    "# Exercícios\n",
    "\n",
    "Stevenson (1981, p. 281-1)\n",
    "\n",
    "---"
   ]
  },
  {
   "cell_type": "markdown",
   "metadata": {},
   "source": [
    "# Testes de duas amostras para proporções\n",
    "\n",
    "A finalidade de um teste de duas amostras é decidir se as duas *amostras independentes* foram extraídas de duas populações, ambas com a mesma proporção de elementos com determinada característica. O teste focaliza a diferença relativa (diferença dividida pelo desvio padrão da distribuição amostral) entre as duas proporções amostrais. \n",
    "\n",
    "A hipótese nula num teste de duas amostras é\n",
    "\n",
    "$$H_0 : p_1 = p_2$$\n",
    "\n",
    "As hipótese alternativas são\n",
    "\n",
    "$$H_1 : p_1 \\neq p_2$$\n",
    "$$H_1 : p_1 > p_2$$\n",
    "$$H_1 : p_1 < p_2$$\n",
    "\n",
    "Contudo, ao contrário do teste de uma amostra, não há indicação do parâmetro populacional em $H_0$. Portanto, o valor de $p$ a ser usado vai ser obtido de forma um pouco diferente.\n",
    "\n",
    "A estimativa combinada (\"pooled\") de $p$ pode ser calculada como segue\n",
    "\n",
    "$$p = \\frac{x_1 + x_2}{n_1 + n_2}$$\n",
    "\n",
    "Este valor de $p$ é usado para calcular o desvio padrão da proporção que é semelhante às fórmulas prévias, exceto ao fato de que, agora, ele deve ser \"ponderado\" pelos dois tamanhos de amostra:\n",
    "\n",
    "$$\\sigma_p = \\sqrt{p(1-p)[(1/n_1) + (1/n_2)]}$$\n",
    "\n",
    "---"
   ]
  },
  {
   "cell_type": "markdown",
   "metadata": {},
   "source": [
    "#### Exemplo\n",
    "\n",
    "Pergunta-se aos eleitores de duas cidades se eles são contra ou a favor de determinada lei em curso. Para determinar se os eleitores das duas cidades diferem em termos da percentagem dos que favorecem a lei, toma-se uma amostra de 100 eleitores em cada cidade. Numa delas, 30 são a favor da lei, na outra, apenas 20.\n",
    "\n",
    "Vamos implementar uma solução com `Julia`."
   ]
  },
  {
   "cell_type": "code",
   "execution_count": 1,
   "metadata": {},
   "outputs": [],
   "source": [
    "using Distributions, StatsPlots, StatsKit, Statistics"
   ]
  },
  {
   "cell_type": "code",
   "execution_count": 6,
   "metadata": {},
   "outputs": [
    {
     "data": {
      "text/plain": [
       "teste_z_prop (generic function with 1 method)"
      ]
     },
     "execution_count": 6,
     "metadata": {},
     "output_type": "execute_result"
    }
   ],
   "source": [
    "function teste_z_prop(x1, x2, n1, n2)\n",
    "    p = (x1 + x2) / (n1 + n2)\n",
    "    z = ((x1/n1) - (x2/n2)) / sqrt(p * (1-p) * ((1/n1) + (1/n2)))\n",
    "    pvalor = ccdf(Normal(), z)\n",
    "    return (round(z, digits=5), round(pvalor, digits=5))\n",
    "end"
   ]
  },
  {
   "cell_type": "code",
   "execution_count": 8,
   "metadata": {},
   "outputs": [
    {
     "data": {
      "text/plain": [
       "(1.63299, 0.05124)"
      ]
     },
     "execution_count": 8,
     "metadata": {},
     "output_type": "execute_result"
    }
   ],
   "source": [
    "teste_z_prop(30, 20, 100, 100)"
   ]
  },
  {
   "cell_type": "markdown",
   "metadata": {},
   "source": [
    "O p-valor de 0.051 indica o $z$ calculado na região de aceitação. Portanto, não rejeitamos a hipótese nula e concluímos que as duas proporções das cidades diferentes são estatisticamente iguais.\n",
    "\n",
    "---\n",
    "\n",
    "# Exercícios\n",
    "\n",
    "Stevenson (1981, p. 285)\n",
    "\n",
    "---"
   ]
  },
  {
   "cell_type": "markdown",
   "metadata": {},
   "source": [
    "# Teste de $k$ amostras para proporções\n",
    "\n",
    "A finalidade de um teste de $k$ amostras é avaliar a alegação de que $k$ amostras independentes provenham de populações que contenham a mesma proporção de determinado item. As hipóteses são\n",
    "\n",
    "$$H_0 : \\text{As proporções populacionais são todas iguais}$$\n",
    "$$H_1 : \\text{As proporções populacionais são não são iguais}$$\n",
    "\n"
   ]
  },
  {
   "cell_type": "code",
   "execution_count": null,
   "metadata": {},
   "outputs": [],
   "source": []
  }
 ],
 "metadata": {
  "kernelspec": {
   "display_name": "Julia 1.3.1",
   "language": "julia",
   "name": "julia-1.3"
  },
  "language_info": {
   "file_extension": ".jl",
   "mimetype": "application/julia",
   "name": "julia",
   "version": "1.3.1"
  }
 },
 "nbformat": 4,
 "nbformat_minor": 4
}
