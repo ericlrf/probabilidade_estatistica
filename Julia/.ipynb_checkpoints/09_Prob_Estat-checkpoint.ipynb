{
 "cells": [
  {
   "cell_type": "markdown",
   "metadata": {},
   "source": [
    "# Probabilidade e Estatística\n",
    "\n",
    "## Curso Superior de Tecnologia em Ciência de Dados\n",
    "\n",
    "### Prof. Dr. Neylson Crepalde\n",
    "\n",
    "Conteúdo abordado: análise da variância\n",
    "\n",
    "Principal fonte: STEVENSON, Wiliam J.; DE FARIAS, Alfredo Alves. **Estatística aplicada à administração.** São Paulo: Harper e Row do Brasil, 1981.\n",
    "\n",
    "---"
   ]
  },
  {
   "cell_type": "markdown",
   "metadata": {},
   "source": [
    "# Análise da Variância\n",
    "\n",
    ">Aplica-se a *análise de variância* para determinar se as médias de duas ou mais populações são iguais.\n",
    "\n",
    "#### Suposições:\n",
    "\n",
    "1. As amostras devem ser aleatórioas e independentes.\n",
    "2. As amostras devem ser extraídas de populações normais.\n",
    "3. As populações devem ter variâncias iguais (isto é, ${\\sigma_1}^2 = {\\sigma_2}^2 = \\dots = {\\sigma_k}^2$).\n",
    "\n",
    "### Revisão do processo de cálculo de uma variância amostral\n",
    "\n",
    "A análise de variância, como o nome indica, envolve o cálculo de variâncias. A variância de uma amostra é a média dos quadrados dos desvios em relação à media do grupo. Simbolicamente\n",
    "\n",
    "$$\\sigma^2 = \\frac{\\sum (x_i - \\overline{x})}{n-1}$$"
   ]
  },
  {
   "cell_type": "markdown",
   "metadata": {},
   "source": [
    "## Fundamentos Lógicos da Análise de Variância\n",
    "\n",
    "Embora possa parecer estranho, o exame das *variâncias* pode revelar se as *médias* populacionais são ou não são iguais. A análise ..."
   ]
  },
  {
   "cell_type": "code",
   "execution_count": 1,
   "metadata": {},
   "outputs": [],
   "source": [
    "using Distributions"
   ]
  }
 ],
 "metadata": {
  "kernelspec": {
   "display_name": "Julia 1.3.1",
   "language": "julia",
   "name": "julia-1.3"
  },
  "language_info": {
   "file_extension": ".jl",
   "mimetype": "application/julia",
   "name": "julia",
   "version": "1.3.1"
  }
 },
 "nbformat": 4,
 "nbformat_minor": 4
}
