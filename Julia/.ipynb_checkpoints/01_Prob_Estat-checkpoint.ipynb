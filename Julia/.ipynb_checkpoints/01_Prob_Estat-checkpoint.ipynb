{
 "cells": [
  {
   "cell_type": "markdown",
   "metadata": {},
   "source": [
    "# Probabilidade e Estatística\n",
    "\n",
    "## Curso Superior de Tecnologia em Ciência de Dados\n",
    "\n",
    "### Prof. Dr. Neylson Crepalde\n",
    "\n",
    "Conteúdo abordado: medidas de tendência central e medidas de dispersão.\n",
    "\n",
    "#### Principal fonte: \n",
    "\n",
    "STEVENSON, Wiliam J.; DE FARIAS, Alfredo Alves. **Estatística aplicada à administração.** São Paulo: Harper e Row do Brasil, 1981.\n",
    "\n",
    "---\n",
    "\n",
    "# Medidas de Tendência Central\n",
    "\n",
    "**Média**: somatório de todos os valores sobre o número de ítens no conjunto.\n",
    "\n",
    "$$\\overline{x} = \\frac{\\sum_{i=1}^{n}x_i}{n}$$\n",
    "\n",
    "#### Exemplo\n",
    "Um estudante fez quatro avaliações na disciplina Probabilidade e Estatística e obteve as notas 83, 94, 95 e 86. Qual foi a sua nota média?"
   ]
  },
  {
   "cell_type": "code",
   "execution_count": 1,
   "metadata": {},
   "outputs": [
    {
     "data": {
      "text/plain": [
       "89.5"
      ]
     },
     "execution_count": 1,
     "metadata": {},
     "output_type": "execute_result"
    }
   ],
   "source": [
    "# Ma mão\n",
    "(83+94+95+86) / 4"
   ]
  },
  {
   "cell_type": "markdown",
   "metadata": {},
   "source": [
    "A nota média do aluno foi 89,5."
   ]
  },
  {
   "cell_type": "code",
   "execution_count": 2,
   "metadata": {},
   "outputs": [
    {
     "data": {
      "text/plain": [
       "media (generic function with 1 method)"
      ]
     },
     "execution_count": 2,
     "metadata": {},
     "output_type": "execute_result"
    }
   ],
   "source": [
    "# Função para média em Julia\n",
    "function media(x)\n",
    "    n = length(x)\n",
    "    return sum(x) / n\n",
    "end"
   ]
  },
  {
   "cell_type": "code",
   "execution_count": 3,
   "metadata": {},
   "outputs": [
    {
     "data": {
      "text/plain": [
       "89.5"
      ]
     },
     "execution_count": 3,
     "metadata": {},
     "output_type": "execute_result"
    }
   ],
   "source": [
    "notas = [83, 94, 95, 86]\n",
    "media(notas)"
   ]
  },
  {
   "cell_type": "markdown",
   "metadata": {},
   "source": [
    "**Média Ponderada**: A média ponderada por algum vetor que dá peso diferente às observações.\n",
    "\n",
    "$$MediaPonderada = \\frac{\\sum_{i=1}^{n} w_i x_i}{\\sum_{i=1}^{n} w_i}$$\n",
    "\n",
    "#### Exemplo\n",
    "Um estudante fez três avaliações com pesos diferentes. Na tabela abaixo constam as notas e os pesos das avaliações do aluno:\n",
    "\n",
    "| Exame |Nota| Peso |\n",
    "|-------|----|------|\n",
    "| N1    | 80 | 0,30 |\n",
    "| N2    | 90 | 0,30 |\n",
    "| Final | 96 | 0,40 |\n",
    "\n",
    "Calcule a média ponderada das notas do aluno."
   ]
  },
  {
   "cell_type": "code",
   "execution_count": 4,
   "metadata": {},
   "outputs": [
    {
     "data": {
      "text/plain": [
       "89.4"
      ]
     },
     "execution_count": 4,
     "metadata": {},
     "output_type": "execute_result"
    }
   ],
   "source": [
    "# Na mão\n",
    "(80*0.30 + 90*0.30 + 96*0.40) / (0.30+0.30+0.40)"
   ]
  },
  {
   "cell_type": "markdown",
   "metadata": {},
   "source": [
    "A nota média do aluno foi 89,4"
   ]
  },
  {
   "cell_type": "code",
   "execution_count": 5,
   "metadata": {},
   "outputs": [
    {
     "data": {
      "text/plain": [
       "media_ponderada (generic function with 1 method)"
      ]
     },
     "execution_count": 5,
     "metadata": {},
     "output_type": "execute_result"
    }
   ],
   "source": [
    "# Função para média ponderada em Julia\n",
    "function media_ponderada(x, w)\n",
    "    if length(x) != length(w)\n",
    "        error(\"x and w must have the same length\")\n",
    "    end\n",
    "    somatorio = 0\n",
    "    for i in 1:length(x)\n",
    "        somatorio += x[i] * w[i]\n",
    "    end\n",
    "    return somatorio / sum(w)\n",
    "end"
   ]
  },
  {
   "cell_type": "code",
   "execution_count": 6,
   "metadata": {},
   "outputs": [
    {
     "data": {
      "text/plain": [
       "89.4"
      ]
     },
     "execution_count": 6,
     "metadata": {},
     "output_type": "execute_result"
    }
   ],
   "source": [
    "notas = [80, 90, 96]\n",
    "pesos = [0.3, 0.3, 0.4]\n",
    "media_ponderada(notas, pesos)"
   ]
  },
  {
   "cell_type": "code",
   "execution_count": 7,
   "metadata": {},
   "outputs": [
    {
     "data": {
      "text/plain": [
       "4-element Array{Int64,1}:\n",
       " 80\n",
       " 90\n",
       " 96\n",
       " 78"
      ]
     },
     "execution_count": 7,
     "metadata": {},
     "output_type": "execute_result"
    }
   ],
   "source": [
    "append!(notas, 78)"
   ]
  },
  {
   "cell_type": "code",
   "execution_count": 8,
   "metadata": {},
   "outputs": [
    {
     "ename": "ErrorException",
     "evalue": "x and w must have the same length",
     "output_type": "error",
     "traceback": [
      "x and w must have the same length",
      "",
      "Stacktrace:",
      " [1] error(::String) at .\\error.jl:33",
      " [2] media_ponderada(::Array{Int64,1}, ::Array{Float64,1}) at .\\In[5]:4",
      " [3] top-level scope at In[8]:1"
     ]
    }
   ],
   "source": [
    "# Checando se a exceção foi bem programada\n",
    "media_ponderada(notas, pesos)"
   ]
  },
  {
   "cell_type": "markdown",
   "metadata": {},
   "source": [
    "**Mediana**: Uma vez que o vetor está ordenado, a mediana é o caso que está na posição central do vetor. Caso o número de elementos no vetor seja par, a mediana é a média aritmética dos dois valores centrais.\n",
    "\n",
    "Segundo Stevenson (1981) o processo para determinar a mediana consiste de:\n",
    "\n",
    "1. Ordenar os valores\n",
    "2. Verificar se há um múmero ímpar ou par de valores\n",
    "3. Para um número ímpar de valores, a mediana é o valor do meio. Para um número par de valores, a mediana é a média  dos dois valores do meio.\n",
    "\n",
    "#### Exemplo\n",
    "Os alunos de uma sala tiraram, respectivamente, as seguintes notas finais no semestre: 80, 90, 78, 95, 86. Qual foi a nota mediana da sala? E se na turma houvesse mais um aluno que tivesse tirado 89, qual seria então a mediana?\n",
    "\n",
    "**Resposta**: Ordenando os valores: 78, 80, 86, 90 e 95. Mediana foi 86.\n",
    "\n",
    "Se tivesse também 89: 78, 80, 86, 89, 90 e 95. $Mediana = \\frac{86 + 89}{2} = 87,5$ "
   ]
  },
  {
   "cell_type": "code",
   "execution_count": 9,
   "metadata": {},
   "outputs": [
    {
     "data": {
      "text/plain": [
       "87.5"
      ]
     },
     "execution_count": 9,
     "metadata": {},
     "output_type": "execute_result"
    }
   ],
   "source": [
    "(86 + 89)/2"
   ]
  },
  {
   "cell_type": "code",
   "execution_count": 10,
   "metadata": {},
   "outputs": [
    {
     "data": {
      "text/plain": [
       "mediana (generic function with 1 method)"
      ]
     },
     "execution_count": 10,
     "metadata": {},
     "output_type": "execute_result"
    }
   ],
   "source": [
    "# Implmentando uma função de mediana em Julia\n",
    "function mediana(x)\n",
    "    #1 - ordenar os valores\n",
    "    res = sort(x)\n",
    "    n = length(x)\n",
    "    #2 - Verificar se o tamanho é par ou ímpar\n",
    "    if n % 2 == 1\n",
    "        indice = trunc(Int, (n+1)/2)\n",
    "        return res[indice]\n",
    "    else\n",
    "        indice1 = trunc(Int, n/2)\n",
    "        indice2 = indice1+1\n",
    "        return media([res[indice1], res[indice2]])\n",
    "    end\n",
    "end"
   ]
  },
  {
   "cell_type": "code",
   "execution_count": 11,
   "metadata": {},
   "outputs": [
    {
     "data": {
      "text/plain": [
       "86"
      ]
     },
     "execution_count": 11,
     "metadata": {},
     "output_type": "execute_result"
    }
   ],
   "source": [
    "notas = [80, 90, 78, 95, 86]\n",
    "mediana(notas)"
   ]
  },
  {
   "cell_type": "code",
   "execution_count": 12,
   "metadata": {},
   "outputs": [
    {
     "data": {
      "text/plain": [
       "87.5"
      ]
     },
     "execution_count": 12,
     "metadata": {},
     "output_type": "execute_result"
    }
   ],
   "source": [
    "append!(notas, 89)\n",
    "mediana(notas)"
   ]
  },
  {
   "cell_type": "markdown",
   "metadata": {},
   "source": [
    "**Moda**: A moda é o valor que ocorre com maior frequência. Se não houver apenas um valor com maior frequência, não foi possível encontrar uma moda.\n",
    "\n",
    "#### Exemplo\n",
    "Calcule a moda entre os números 10, 10, 8, 6 e 10.\n",
    "Moda = 10\n",
    "\n",
    "Implementando a moda em `Julia`:"
   ]
  },
  {
   "cell_type": "code",
   "execution_count": 13,
   "metadata": {},
   "outputs": [],
   "source": [
    "using StatsBase"
   ]
  },
  {
   "cell_type": "code",
   "execution_count": 14,
   "metadata": {},
   "outputs": [
    {
     "data": {
      "text/plain": [
       "Dict{Int64,Int64} with 3 entries:\n",
       "  10 => 3\n",
       "  8  => 1\n",
       "  6  => 1"
      ]
     },
     "execution_count": 14,
     "metadata": {},
     "output_type": "execute_result"
    }
   ],
   "source": [
    "numeros = [10,10, 8, 6, 10]\n",
    "dic = countmap(numeros)"
   ]
  },
  {
   "cell_type": "code",
   "execution_count": 15,
   "metadata": {},
   "outputs": [
    {
     "data": {
      "text/plain": [
       "moda (generic function with 1 method)"
      ]
     },
     "execution_count": 15,
     "metadata": {},
     "output_type": "execute_result"
    }
   ],
   "source": [
    "function moda(x)\n",
    "    contagens = countmap(x)\n",
    "    valores = sort(collect(values(contagens)), rev=true)\n",
    "    if valores[1] == valores[2]\n",
    "        return \"Não existe moda\"\n",
    "    else\n",
    "        res = collect(keys(contagens))[findmax(collect(values(contagens)))[2]]\n",
    "        return res\n",
    "    end\n",
    "end"
   ]
  },
  {
   "cell_type": "code",
   "execution_count": 16,
   "metadata": {},
   "outputs": [
    {
     "data": {
      "text/plain": [
       "10"
      ]
     },
     "execution_count": 16,
     "metadata": {},
     "output_type": "execute_result"
    }
   ],
   "source": [
    "moda(numeros)"
   ]
  },
  {
   "cell_type": "code",
   "execution_count": 17,
   "metadata": {},
   "outputs": [
    {
     "data": {
      "text/plain": [
       "Dict{Int64,Int64} with 5 entries:\n",
       "  4  => 2\n",
       "  10 => 1\n",
       "  2  => 1\n",
       "  6  => 2\n",
       "  1  => 1"
      ]
     },
     "execution_count": 17,
     "metadata": {},
     "output_type": "execute_result"
    }
   ],
   "source": [
    "numeros2 = [1,2,4,4,6,6,10]\n",
    "countmap(numeros2)"
   ]
  },
  {
   "cell_type": "code",
   "execution_count": 18,
   "metadata": {},
   "outputs": [
    {
     "name": "stdout",
     "output_type": "stream",
     "text": [
      "Não existe moda\n"
     ]
    }
   ],
   "source": [
    "println(moda(numeros2))"
   ]
  },
  {
   "cell_type": "markdown",
   "metadata": {},
   "source": [
    "**Quartis**: Os quartis são valores que dividem o conjunto ordenado de dados em partes iguais. O primeiro quartil representa 25% dos dados, o terceiro quartil representa 75% dos dados (o que seria o segundo quartil, representando 50% dos dados é a mediana). \n",
    "\n",
    "Seja $n$ igual ao número de elementos no conjunto, calculamos $\\frac{j(n+1)}{4}$, para $j = 1, 2$ e $3$. Assim $Q_k$ será sempre um número compreendido no intervalo $X_k$ e $X_{k+1}$ onde $k$ é o maior inteiro menor ou igual a $\\frac{j(n+1)}{4}$ e será calculado da seguinte forma:\n",
    "\n",
    "$$Q_j = X_k + \\left( \\frac{j(n+1)}{4} - k \\right) (X_{k+1} - X_k)$$\n",
    "\n",
    "#### Exemplo\n",
    "Calcule os quartis para a amostra $\\{6, 47, 49, 15, 42, 41, 7, 39, 43, 40, 36\\}$."
   ]
  },
  {
   "cell_type": "markdown",
   "metadata": {},
   "source": [
    "Na mão:\n",
    "\n",
    "**Vetor ordenado** = {7, 6, 15, 36, 39, 40, 41, 42, 43, 47, 49}\n",
    "\n",
    "- 1º quartil = 15\n",
    "- Mediana = 40\n",
    "- 3º quartil = 43"
   ]
  },
  {
   "cell_type": "code",
   "execution_count": 19,
   "metadata": {},
   "outputs": [
    {
     "data": {
      "text/plain": [
       "quartis (generic function with 1 method)"
      ]
     },
     "execution_count": 19,
     "metadata": {},
     "output_type": "execute_result"
    }
   ],
   "source": [
    "# Implementando uma função em Julia para cálculo dos quartis\n",
    "function quartis(x)\n",
    "    x1 = sort(x)\n",
    "    n = length(x)\n",
    "    q0 = minimum(x)\n",
    "    q1 = x1[round(Int, 0.25*(n+1))]\n",
    "    q2 = mediana(x)\n",
    "    q3 = x1[round(Int, 0.75*(n+1))]\n",
    "    q4 = maximum(x)\n",
    "    res = [q0, q1, q2, q3, q4]\n",
    "    return res\n",
    "end"
   ]
  },
  {
   "cell_type": "code",
   "execution_count": 20,
   "metadata": {},
   "outputs": [
    {
     "data": {
      "text/plain": [
       "5-element Array{Int64,1}:\n",
       "  6\n",
       " 15\n",
       " 40\n",
       " 43\n",
       " 49"
      ]
     },
     "execution_count": 20,
     "metadata": {},
     "output_type": "execute_result"
    }
   ],
   "source": [
    "vetor = [6, 47, 49, 15, 42, 41, 7, 39, 43, 40, 36]\n",
    "quartis(vetor)"
   ]
  },
  {
   "cell_type": "markdown",
   "metadata": {},
   "source": [
    "---\n",
    "# Exercícios\n",
    "Stevenson (1981, p. 24), exercícios 1, 2 e 3"
   ]
  },
  {
   "cell_type": "code",
   "execution_count": 21,
   "metadata": {},
   "outputs": [],
   "source": [
    "# 1) Coloque seu código aqui\n",
    "#"
   ]
  },
  {
   "cell_type": "code",
   "execution_count": 22,
   "metadata": {},
   "outputs": [],
   "source": [
    "# 2) Coloque seu código aqui\n",
    "#"
   ]
  },
  {
   "cell_type": "code",
   "execution_count": 23,
   "metadata": {},
   "outputs": [],
   "source": [
    "# 3) Coloque seu código aqui\n",
    "#"
   ]
  },
  {
   "cell_type": "markdown",
   "metadata": {},
   "source": [
    "---\n",
    "# Medidas de dispersão\n",
    "\n",
    "**Desvio médio absoluto**: é a média dos desvios dos valores a contar da média, ignorando-se o sinal de diferença.\n",
    "\n",
    "$$DMA = \\frac{\\sum |x_i - \\bar{x}|}{n}$$\n",
    "\n",
    "#### Exemplo\n",
    "Determine o desvio médio para o seguinte conjunto de números: 2,4,6,8,10."
   ]
  },
  {
   "cell_type": "code",
   "execution_count": 24,
   "metadata": {},
   "outputs": [
    {
     "data": {
      "text/plain": [
       "desvio (generic function with 1 method)"
      ]
     },
     "execution_count": 24,
     "metadata": {},
     "output_type": "execute_result"
    }
   ],
   "source": [
    "# Implementando uma funcao de desvio\n",
    "function desvio(x)\n",
    "    n = length(x)\n",
    "    somatorio = 0\n",
    "    for i in 1:n\n",
    "        somatorio += abs(x[i] - media(x))\n",
    "    end\n",
    "    return somatorio / n\n",
    "end"
   ]
  },
  {
   "cell_type": "code",
   "execution_count": 25,
   "metadata": {},
   "outputs": [
    {
     "data": {
      "text/plain": [
       "2.4"
      ]
     },
     "execution_count": 25,
     "metadata": {},
     "output_type": "execute_result"
    }
   ],
   "source": [
    "numeros = [2,4,6,8,10]\n",
    "desvio(numeros)"
   ]
  },
  {
   "cell_type": "markdown",
   "metadata": {},
   "source": [
    "**Variância**: é a média dos quadrados dos desvios dos valores a contar da média, calculada usando-se n-1 em lugar de n (variância amostral)\n",
    "\n",
    "$${S_x}^2 = \\frac{\\sum (x_i - \\bar{x})^2}{n-1}$$\n",
    "\n",
    "#### Exemplo\n",
    "Calcule a variância para o vetor 2, 4, 6, 8, 10."
   ]
  },
  {
   "cell_type": "code",
   "execution_count": 26,
   "metadata": {},
   "outputs": [
    {
     "data": {
      "text/plain": [
       "variancia (generic function with 1 method)"
      ]
     },
     "execution_count": 26,
     "metadata": {},
     "output_type": "execute_result"
    }
   ],
   "source": [
    "function variancia(x)\n",
    "    n = length(x)\n",
    "    somatorio = 0\n",
    "    for i in 1:n\n",
    "        somatorio += (x[i] - media(x))^2\n",
    "    end\n",
    "    return somatorio / (n-1)\n",
    "end"
   ]
  },
  {
   "cell_type": "code",
   "execution_count": 27,
   "metadata": {},
   "outputs": [
    {
     "data": {
      "text/plain": [
       "10.0"
      ]
     },
     "execution_count": 27,
     "metadata": {},
     "output_type": "execute_result"
    }
   ],
   "source": [
    "variancia([2,4,6,8,10])"
   ]
  },
  {
   "cell_type": "markdown",
   "metadata": {},
   "source": [
    "**Desvio Padrão**: é a raiz quadrada da variância. Formalmente:\n",
    "\n",
    "$${S_x} = \\sqrt{\\frac{\\sum (x_i - \\bar{x})^2}{n-1} }$$\n",
    "\n",
    "#### Exemplo\n",
    "Calcule o desvio padrão da amostra 20, 5, 10, 15, 25."
   ]
  },
  {
   "cell_type": "code",
   "execution_count": 28,
   "metadata": {},
   "outputs": [
    {
     "data": {
      "text/plain": [
       "desvio_padrao (generic function with 1 method)"
      ]
     },
     "execution_count": 28,
     "metadata": {},
     "output_type": "execute_result"
    }
   ],
   "source": [
    "function desvio_padrao(x)\n",
    "    return sqrt(variancia(x))\n",
    "end"
   ]
  },
  {
   "cell_type": "code",
   "execution_count": 29,
   "metadata": {},
   "outputs": [
    {
     "data": {
      "text/plain": [
       "7.905694150420948"
      ]
     },
     "execution_count": 29,
     "metadata": {},
     "output_type": "execute_result"
    }
   ],
   "source": [
    "desvio_padrao([20,5,10,15,25])"
   ]
  },
  {
   "cell_type": "code",
   "execution_count": 30,
   "metadata": {},
   "outputs": [
    {
     "data": {
      "text/plain": [
       "7.91"
      ]
     },
     "execution_count": 30,
     "metadata": {},
     "output_type": "execute_result"
    }
   ],
   "source": [
    "# Arredondando para dois dígitos (como no livro)\n",
    "round(desvio_padrao([20,5,10,15,25]), digits=2)"
   ]
  },
  {
   "cell_type": "code",
   "execution_count": 31,
   "metadata": {},
   "outputs": [
    {
     "name": "stdout",
     "output_type": "stream",
     "text": [
      "Variância do vetor: 62.5\n",
      "Raiz quadrada calculada da variância: 7.905694150420948\n"
     ]
    }
   ],
   "source": [
    "println(\"Variância do vetor: \", variancia([20,5,10,15,25]))\n",
    "println(\"Raiz quadrada calculada da variância: \", sqrt(variancia([20,5,10,15,25])))"
   ]
  },
  {
   "cell_type": "markdown",
   "metadata": {},
   "source": [
    "---\n",
    "# Exercícios\n",
    "Stevenson (1981, p. 30-31), exercícios 1, 2, 3, 5, 6, 7, 9, 10, 11"
   ]
  },
  {
   "cell_type": "code",
   "execution_count": 32,
   "metadata": {},
   "outputs": [],
   "source": [
    "# 1) Seu código aqui"
   ]
  },
  {
   "cell_type": "code",
   "execution_count": 33,
   "metadata": {},
   "outputs": [],
   "source": [
    "# 2) Seu código aqui"
   ]
  },
  {
   "cell_type": "code",
   "execution_count": 34,
   "metadata": {},
   "outputs": [],
   "source": [
    "# 3) Seu código aqui"
   ]
  },
  {
   "cell_type": "code",
   "execution_count": 35,
   "metadata": {},
   "outputs": [],
   "source": [
    "# 5) Seu código aqui"
   ]
  },
  {
   "cell_type": "code",
   "execution_count": 36,
   "metadata": {},
   "outputs": [],
   "source": [
    "# 6) Seu código aqui"
   ]
  },
  {
   "cell_type": "code",
   "execution_count": 37,
   "metadata": {},
   "outputs": [],
   "source": [
    "# 7) Seu código aqui"
   ]
  },
  {
   "cell_type": "code",
   "execution_count": 38,
   "metadata": {},
   "outputs": [],
   "source": [
    "# 9) Seu código aqui"
   ]
  },
  {
   "cell_type": "code",
   "execution_count": 39,
   "metadata": {},
   "outputs": [],
   "source": [
    "# 10) Seu código aqui"
   ]
  },
  {
   "cell_type": "code",
   "execution_count": 40,
   "metadata": {},
   "outputs": [],
   "source": [
    "# 11) Seu código aqui"
   ]
  },
  {
   "cell_type": "markdown",
   "metadata": {},
   "source": [
    "---\n",
    "# Distribuições de Frequência\n",
    "\n",
    "Uma **distribuição de frequência** é um agrupamento de dados em classes, exibindo o número ou porcentagem de observações em cada classe.\n",
    "\n",
    "#### Distribuição de frequência para dados contínuos\n",
    "\n",
    "Para construir uma distribuição de frequências  para dados contínuos, podemos:\n",
    "\n",
    "1. Estabelecer as classes ou intervalos de grupamento dos dados;\n",
    "2. Enquadrar os dados nas classes mediante contagem;\n",
    "3. Contar o número em cada classe;\n",
    "4. Apresentar os dados.\n",
    "\n",
    "#### Exemplo:\n",
    "Construa uma distribuição de frequências das seguintes idades: 25, 30, 69, 18, 24, 28, 44, 36, 19.\n",
    "\n",
    "1. Vamos organizar os dados em 3 classes: Até 29, de 30 a 60 e acima de 60.\n",
    "2. Fazendo as contagens: Até 29: 5 casos. De 30 a 60: 3 casos. Acima de 60: 1 caso.\n",
    "3. Construindo a tabela ou a visualização:\n",
    "\n",
    "| Classe | Observações | Percentual | Perc. Acumulado |\n",
    "|--------|-------------|------------|-----------------|\n",
    "| Até 29 | 5 |  55.56%| 55.56% |\n",
    "| De 30 a 60 | 3 | 33.33% | 88.89% |\n",
    "| Acima de 60 | 1 | 11.11% | 100.00%\n",
    "| Total | 9 | 100.00% | |"
   ]
  },
  {
   "cell_type": "code",
   "execution_count": 56,
   "metadata": {},
   "outputs": [],
   "source": [
    "using Plots"
   ]
  },
  {
   "cell_type": "code",
   "execution_count": 57,
   "metadata": {},
   "outputs": [
    {
     "data": {
      "image/svg+xml": [
       "<?xml version=\"1.0\" encoding=\"utf-8\"?>\n",
       "<svg xmlns=\"http://www.w3.org/2000/svg\" xmlns:xlink=\"http://www.w3.org/1999/xlink\" width=\"600\" height=\"400\" viewBox=\"0 0 2400 1600\">\n",
       "<defs>\n",
       "  <clipPath id=\"clip0900\">\n",
       "    <rect x=\"0\" y=\"0\" width=\"2400\" height=\"1600\"/>\n",
       "  </clipPath>\n",
       "</defs>\n",
       "<path clip-path=\"url(#clip0900)\" d=\"\n",
       "M0 1600 L2400 1600 L2400 0 L0 0  Z\n",
       "  \" fill=\"#ffffff\" fill-rule=\"evenodd\" fill-opacity=\"1\"/>\n",
       "<defs>\n",
       "  <clipPath id=\"clip0901\">\n",
       "    <rect x=\"480\" y=\"0\" width=\"1681\" height=\"1600\"/>\n",
       "  </clipPath>\n",
       "</defs>\n",
       "<path clip-path=\"url(#clip0900)\" d=\"\n",
       "M113.754 1487.47 L2352.76 1487.47 L2352.76 121.675 L113.754 121.675  Z\n",
       "  \" fill=\"#ffffff\" fill-rule=\"evenodd\" fill-opacity=\"1\"/>\n",
       "<defs>\n",
       "  <clipPath id=\"clip0902\">\n",
       "    <rect x=\"113\" y=\"121\" width=\"2240\" height=\"1367\"/>\n",
       "  </clipPath>\n",
       "</defs>\n",
       "<polyline clip-path=\"url(#clip0902)\" style=\"stroke:#000000; stroke-width:2; stroke-opacity:0.1; fill:none\" points=\"\n",
       "  521.575,1487.47 521.575,121.675 \n",
       "  \"/>\n",
       "<polyline clip-path=\"url(#clip0902)\" style=\"stroke:#000000; stroke-width:2; stroke-opacity:0.1; fill:none\" points=\"\n",
       "  1233.26,1487.47 1233.26,121.675 \n",
       "  \"/>\n",
       "<polyline clip-path=\"url(#clip0902)\" style=\"stroke:#000000; stroke-width:2; stroke-opacity:0.1; fill:none\" points=\"\n",
       "  1944.93,1487.47 1944.93,121.675 \n",
       "  \"/>\n",
       "<polyline clip-path=\"url(#clip0902)\" style=\"stroke:#000000; stroke-width:2; stroke-opacity:0.1; fill:none\" points=\"\n",
       "  113.754,1448.82 2352.76,1448.82 \n",
       "  \"/>\n",
       "<polyline clip-path=\"url(#clip0902)\" style=\"stroke:#000000; stroke-width:2; stroke-opacity:0.1; fill:none\" points=\"\n",
       "  113.754,1191.12 2352.76,1191.12 \n",
       "  \"/>\n",
       "<polyline clip-path=\"url(#clip0902)\" style=\"stroke:#000000; stroke-width:2; stroke-opacity:0.1; fill:none\" points=\"\n",
       "  113.754,933.424 2352.76,933.424 \n",
       "  \"/>\n",
       "<polyline clip-path=\"url(#clip0902)\" style=\"stroke:#000000; stroke-width:2; stroke-opacity:0.1; fill:none\" points=\"\n",
       "  113.754,675.726 2352.76,675.726 \n",
       "  \"/>\n",
       "<polyline clip-path=\"url(#clip0902)\" style=\"stroke:#000000; stroke-width:2; stroke-opacity:0.1; fill:none\" points=\"\n",
       "  113.754,418.028 2352.76,418.028 \n",
       "  \"/>\n",
       "<polyline clip-path=\"url(#clip0902)\" style=\"stroke:#000000; stroke-width:2; stroke-opacity:0.1; fill:none\" points=\"\n",
       "  113.754,160.33 2352.76,160.33 \n",
       "  \"/>\n",
       "<polyline clip-path=\"url(#clip0900)\" style=\"stroke:#000000; stroke-width:4; stroke-opacity:1; fill:none\" points=\"\n",
       "  113.754,1487.47 2352.76,1487.47 \n",
       "  \"/>\n",
       "<polyline clip-path=\"url(#clip0900)\" style=\"stroke:#000000; stroke-width:4; stroke-opacity:1; fill:none\" points=\"\n",
       "  113.754,1487.47 113.754,121.675 \n",
       "  \"/>\n",
       "<polyline clip-path=\"url(#clip0900)\" style=\"stroke:#000000; stroke-width:4; stroke-opacity:1; fill:none\" points=\"\n",
       "  521.575,1487.47 521.575,1471.09 \n",
       "  \"/>\n",
       "<polyline clip-path=\"url(#clip0900)\" style=\"stroke:#000000; stroke-width:4; stroke-opacity:1; fill:none\" points=\"\n",
       "  1233.26,1487.47 1233.26,1471.09 \n",
       "  \"/>\n",
       "<polyline clip-path=\"url(#clip0900)\" style=\"stroke:#000000; stroke-width:4; stroke-opacity:1; fill:none\" points=\"\n",
       "  1944.93,1487.47 1944.93,1471.09 \n",
       "  \"/>\n",
       "<polyline clip-path=\"url(#clip0900)\" style=\"stroke:#000000; stroke-width:4; stroke-opacity:1; fill:none\" points=\"\n",
       "  113.754,1448.82 140.622,1448.82 \n",
       "  \"/>\n",
       "<polyline clip-path=\"url(#clip0900)\" style=\"stroke:#000000; stroke-width:4; stroke-opacity:1; fill:none\" points=\"\n",
       "  113.754,1191.12 140.622,1191.12 \n",
       "  \"/>\n",
       "<polyline clip-path=\"url(#clip0900)\" style=\"stroke:#000000; stroke-width:4; stroke-opacity:1; fill:none\" points=\"\n",
       "  113.754,933.424 140.622,933.424 \n",
       "  \"/>\n",
       "<polyline clip-path=\"url(#clip0900)\" style=\"stroke:#000000; stroke-width:4; stroke-opacity:1; fill:none\" points=\"\n",
       "  113.754,675.726 140.622,675.726 \n",
       "  \"/>\n",
       "<polyline clip-path=\"url(#clip0900)\" style=\"stroke:#000000; stroke-width:4; stroke-opacity:1; fill:none\" points=\"\n",
       "  113.754,418.028 140.622,418.028 \n",
       "  \"/>\n",
       "<polyline clip-path=\"url(#clip0900)\" style=\"stroke:#000000; stroke-width:4; stroke-opacity:1; fill:none\" points=\"\n",
       "  113.754,160.33 140.622,160.33 \n",
       "  \"/>\n",
       "<g clip-path=\"url(#clip0900)\">\n",
       "<text style=\"fill:#000000; fill-opacity:1; font-family:Arial,Helvetica Neue,Helvetica,sans-serif; font-size:48px; text-anchor:middle;\" transform=\"rotate(0, 521.575, 1541.47)\" x=\"521.575\" y=\"1541.47\">Até 29</text>\n",
       "</g>\n",
       "<g clip-path=\"url(#clip0900)\">\n",
       "<text style=\"fill:#000000; fill-opacity:1; font-family:Arial,Helvetica Neue,Helvetica,sans-serif; font-size:48px; text-anchor:middle;\" transform=\"rotate(0, 1233.26, 1541.47)\" x=\"1233.26\" y=\"1541.47\">De 30 a 60</text>\n",
       "</g>\n",
       "<g clip-path=\"url(#clip0900)\">\n",
       "<text style=\"fill:#000000; fill-opacity:1; font-family:Arial,Helvetica Neue,Helvetica,sans-serif; font-size:48px; text-anchor:middle;\" transform=\"rotate(0, 1944.93, 1541.47)\" x=\"1944.93\" y=\"1541.47\">Acima de 60</text>\n",
       "</g>\n",
       "<g clip-path=\"url(#clip0900)\">\n",
       "<text style=\"fill:#000000; fill-opacity:1; font-family:Arial,Helvetica Neue,Helvetica,sans-serif; font-size:48px; text-anchor:end;\" transform=\"rotate(0, 89.7545, 1466.32)\" x=\"89.7545\" y=\"1466.32\">0</text>\n",
       "</g>\n",
       "<g clip-path=\"url(#clip0900)\">\n",
       "<text style=\"fill:#000000; fill-opacity:1; font-family:Arial,Helvetica Neue,Helvetica,sans-serif; font-size:48px; text-anchor:end;\" transform=\"rotate(0, 89.7545, 1208.62)\" x=\"89.7545\" y=\"1208.62\">1</text>\n",
       "</g>\n",
       "<g clip-path=\"url(#clip0900)\">\n",
       "<text style=\"fill:#000000; fill-opacity:1; font-family:Arial,Helvetica Neue,Helvetica,sans-serif; font-size:48px; text-anchor:end;\" transform=\"rotate(0, 89.7545, 950.924)\" x=\"89.7545\" y=\"950.924\">2</text>\n",
       "</g>\n",
       "<g clip-path=\"url(#clip0900)\">\n",
       "<text style=\"fill:#000000; fill-opacity:1; font-family:Arial,Helvetica Neue,Helvetica,sans-serif; font-size:48px; text-anchor:end;\" transform=\"rotate(0, 89.7545, 693.226)\" x=\"89.7545\" y=\"693.226\">3</text>\n",
       "</g>\n",
       "<g clip-path=\"url(#clip0900)\">\n",
       "<text style=\"fill:#000000; fill-opacity:1; font-family:Arial,Helvetica Neue,Helvetica,sans-serif; font-size:48px; text-anchor:end;\" transform=\"rotate(0, 89.7545, 435.528)\" x=\"89.7545\" y=\"435.528\">4</text>\n",
       "</g>\n",
       "<g clip-path=\"url(#clip0900)\">\n",
       "<text style=\"fill:#000000; fill-opacity:1; font-family:Arial,Helvetica Neue,Helvetica,sans-serif; font-size:48px; text-anchor:end;\" transform=\"rotate(0, 89.7545, 177.83)\" x=\"89.7545\" y=\"177.83\">5</text>\n",
       "</g>\n",
       "<g clip-path=\"url(#clip0900)\">\n",
       "<text style=\"fill:#000000; fill-opacity:1; font-family:Arial,Helvetica Neue,Helvetica,sans-serif; font-size:84px; text-anchor:middle;\" transform=\"rotate(0, 1233.26, 73.2)\" x=\"1233.26\" y=\"73.2\">Gráfico de barras</text>\n",
       "</g>\n",
       "<path clip-path=\"url(#clip0902)\" d=\"\n",
       "M236.904 160.33 L236.904 1448.82 L806.247 1448.82 L806.247 160.33 L236.904 160.33 L236.904 160.33  Z\n",
       "  \" fill=\"#009af9\" fill-rule=\"evenodd\" fill-opacity=\"1\"/>\n",
       "<polyline clip-path=\"url(#clip0902)\" style=\"stroke:#000000; stroke-width:4; stroke-opacity:1; fill:none\" points=\"\n",
       "  236.904,160.33 236.904,1448.82 806.247,1448.82 806.247,160.33 236.904,160.33 \n",
       "  \"/>\n",
       "<path clip-path=\"url(#clip0902)\" d=\"\n",
       "M948.583 675.726 L948.583 1448.82 L1517.93 1448.82 L1517.93 675.726 L948.583 675.726 L948.583 675.726  Z\n",
       "  \" fill=\"#009af9\" fill-rule=\"evenodd\" fill-opacity=\"1\"/>\n",
       "<polyline clip-path=\"url(#clip0902)\" style=\"stroke:#000000; stroke-width:4; stroke-opacity:1; fill:none\" points=\"\n",
       "  948.583,675.726 948.583,1448.82 1517.93,1448.82 1517.93,675.726 948.583,675.726 \n",
       "  \"/>\n",
       "<path clip-path=\"url(#clip0902)\" d=\"\n",
       "M1660.26 1191.12 L1660.26 1448.82 L2229.61 1448.82 L2229.61 1191.12 L1660.26 1191.12 L1660.26 1191.12  Z\n",
       "  \" fill=\"#009af9\" fill-rule=\"evenodd\" fill-opacity=\"1\"/>\n",
       "<polyline clip-path=\"url(#clip0902)\" style=\"stroke:#000000; stroke-width:4; stroke-opacity:1; fill:none\" points=\"\n",
       "  1660.26,1191.12 1660.26,1448.82 2229.61,1448.82 2229.61,1191.12 1660.26,1191.12 \n",
       "  \"/>\n",
       "</svg>\n"
      ]
     },
     "execution_count": 57,
     "metadata": {},
     "output_type": "execute_result"
    }
   ],
   "source": [
    "x = [\"Até 29\", \"De 30 a 60\", \"Acima de 60\"]\n",
    "y = [5,3,1]\n",
    "bar(x,y, legend=false)\n",
    "title!(\"Gráfico de barras\")"
   ]
  },
  {
   "cell_type": "markdown",
   "metadata": {},
   "source": [
    "Podemos utilizar um histograma para obter a distribuição de frequências de uma variável contínua."
   ]
  },
  {
   "cell_type": "code",
   "execution_count": 58,
   "metadata": {},
   "outputs": [],
   "source": [
    "using Random"
   ]
  },
  {
   "cell_type": "code",
   "execution_count": 59,
   "metadata": {},
   "outputs": [
    {
     "data": {
      "image/svg+xml": [
       "<?xml version=\"1.0\" encoding=\"utf-8\"?>\n",
       "<svg xmlns=\"http://www.w3.org/2000/svg\" xmlns:xlink=\"http://www.w3.org/1999/xlink\" width=\"600\" height=\"400\" viewBox=\"0 0 2400 1600\">\n",
       "<defs>\n",
       "  <clipPath id=\"clip1300\">\n",
       "    <rect x=\"0\" y=\"0\" width=\"2400\" height=\"1600\"/>\n",
       "  </clipPath>\n",
       "</defs>\n",
       "<path clip-path=\"url(#clip1300)\" d=\"\n",
       "M0 1600 L2400 1600 L2400 0 L0 0  Z\n",
       "  \" fill=\"#ffffff\" fill-rule=\"evenodd\" fill-opacity=\"1\"/>\n",
       "<defs>\n",
       "  <clipPath id=\"clip1301\">\n",
       "    <rect x=\"480\" y=\"0\" width=\"1681\" height=\"1600\"/>\n",
       "  </clipPath>\n",
       "</defs>\n",
       "<path clip-path=\"url(#clip1300)\" d=\"\n",
       "M167.279 1487.47 L2352.76 1487.47 L2352.76 121.675 L167.279 121.675  Z\n",
       "  \" fill=\"#ffffff\" fill-rule=\"evenodd\" fill-opacity=\"1\"/>\n",
       "<defs>\n",
       "  <clipPath id=\"clip1302\">\n",
       "    <rect x=\"167\" y=\"121\" width=\"2186\" height=\"1367\"/>\n",
       "  </clipPath>\n",
       "</defs>\n",
       "<polyline clip-path=\"url(#clip1302)\" style=\"stroke:#000000; stroke-width:2; stroke-opacity:0.1; fill:none\" points=\"\n",
       "  287.484,1487.47 287.484,121.675 \n",
       "  \"/>\n",
       "<polyline clip-path=\"url(#clip1302)\" style=\"stroke:#000000; stroke-width:2; stroke-opacity:0.1; fill:none\" points=\"\n",
       "  773.751,1487.47 773.751,121.675 \n",
       "  \"/>\n",
       "<polyline clip-path=\"url(#clip1302)\" style=\"stroke:#000000; stroke-width:2; stroke-opacity:0.1; fill:none\" points=\"\n",
       "  1260.02,1487.47 1260.02,121.675 \n",
       "  \"/>\n",
       "<polyline clip-path=\"url(#clip1302)\" style=\"stroke:#000000; stroke-width:2; stroke-opacity:0.1; fill:none\" points=\"\n",
       "  1746.28,1487.47 1746.28,121.675 \n",
       "  \"/>\n",
       "<polyline clip-path=\"url(#clip1302)\" style=\"stroke:#000000; stroke-width:2; stroke-opacity:0.1; fill:none\" points=\"\n",
       "  2232.55,1487.47 2232.55,121.675 \n",
       "  \"/>\n",
       "<polyline clip-path=\"url(#clip1302)\" style=\"stroke:#000000; stroke-width:2; stroke-opacity:0.1; fill:none\" points=\"\n",
       "  167.279,1448.82 2352.76,1448.82 \n",
       "  \"/>\n",
       "<polyline clip-path=\"url(#clip1302)\" style=\"stroke:#000000; stroke-width:2; stroke-opacity:0.1; fill:none\" points=\"\n",
       "  167.279,1125.08 2352.76,1125.08 \n",
       "  \"/>\n",
       "<polyline clip-path=\"url(#clip1302)\" style=\"stroke:#000000; stroke-width:2; stroke-opacity:0.1; fill:none\" points=\"\n",
       "  167.279,801.338 2352.76,801.338 \n",
       "  \"/>\n",
       "<polyline clip-path=\"url(#clip1302)\" style=\"stroke:#000000; stroke-width:2; stroke-opacity:0.1; fill:none\" points=\"\n",
       "  167.279,477.596 2352.76,477.596 \n",
       "  \"/>\n",
       "<polyline clip-path=\"url(#clip1302)\" style=\"stroke:#000000; stroke-width:2; stroke-opacity:0.1; fill:none\" points=\"\n",
       "  167.279,153.855 2352.76,153.855 \n",
       "  \"/>\n",
       "<polyline clip-path=\"url(#clip1300)\" style=\"stroke:#000000; stroke-width:4; stroke-opacity:1; fill:none\" points=\"\n",
       "  167.279,1487.47 2352.76,1487.47 \n",
       "  \"/>\n",
       "<polyline clip-path=\"url(#clip1300)\" style=\"stroke:#000000; stroke-width:4; stroke-opacity:1; fill:none\" points=\"\n",
       "  167.279,1487.47 167.279,121.675 \n",
       "  \"/>\n",
       "<polyline clip-path=\"url(#clip1300)\" style=\"stroke:#000000; stroke-width:4; stroke-opacity:1; fill:none\" points=\"\n",
       "  287.484,1487.47 287.484,1471.09 \n",
       "  \"/>\n",
       "<polyline clip-path=\"url(#clip1300)\" style=\"stroke:#000000; stroke-width:4; stroke-opacity:1; fill:none\" points=\"\n",
       "  773.751,1487.47 773.751,1471.09 \n",
       "  \"/>\n",
       "<polyline clip-path=\"url(#clip1300)\" style=\"stroke:#000000; stroke-width:4; stroke-opacity:1; fill:none\" points=\"\n",
       "  1260.02,1487.47 1260.02,1471.09 \n",
       "  \"/>\n",
       "<polyline clip-path=\"url(#clip1300)\" style=\"stroke:#000000; stroke-width:4; stroke-opacity:1; fill:none\" points=\"\n",
       "  1746.28,1487.47 1746.28,1471.09 \n",
       "  \"/>\n",
       "<polyline clip-path=\"url(#clip1300)\" style=\"stroke:#000000; stroke-width:4; stroke-opacity:1; fill:none\" points=\"\n",
       "  2232.55,1487.47 2232.55,1471.09 \n",
       "  \"/>\n",
       "<polyline clip-path=\"url(#clip1300)\" style=\"stroke:#000000; stroke-width:4; stroke-opacity:1; fill:none\" points=\"\n",
       "  167.279,1448.82 193.505,1448.82 \n",
       "  \"/>\n",
       "<polyline clip-path=\"url(#clip1300)\" style=\"stroke:#000000; stroke-width:4; stroke-opacity:1; fill:none\" points=\"\n",
       "  167.279,1125.08 193.505,1125.08 \n",
       "  \"/>\n",
       "<polyline clip-path=\"url(#clip1300)\" style=\"stroke:#000000; stroke-width:4; stroke-opacity:1; fill:none\" points=\"\n",
       "  167.279,801.338 193.505,801.338 \n",
       "  \"/>\n",
       "<polyline clip-path=\"url(#clip1300)\" style=\"stroke:#000000; stroke-width:4; stroke-opacity:1; fill:none\" points=\"\n",
       "  167.279,477.596 193.505,477.596 \n",
       "  \"/>\n",
       "<polyline clip-path=\"url(#clip1300)\" style=\"stroke:#000000; stroke-width:4; stroke-opacity:1; fill:none\" points=\"\n",
       "  167.279,153.855 193.505,153.855 \n",
       "  \"/>\n",
       "<g clip-path=\"url(#clip1300)\">\n",
       "<text style=\"fill:#000000; fill-opacity:1; font-family:Arial,Helvetica Neue,Helvetica,sans-serif; font-size:48px; text-anchor:middle;\" transform=\"rotate(0, 287.484, 1541.47)\" x=\"287.484\" y=\"1541.47\">-4</text>\n",
       "</g>\n",
       "<g clip-path=\"url(#clip1300)\">\n",
       "<text style=\"fill:#000000; fill-opacity:1; font-family:Arial,Helvetica Neue,Helvetica,sans-serif; font-size:48px; text-anchor:middle;\" transform=\"rotate(0, 773.751, 1541.47)\" x=\"773.751\" y=\"1541.47\">-2</text>\n",
       "</g>\n",
       "<g clip-path=\"url(#clip1300)\">\n",
       "<text style=\"fill:#000000; fill-opacity:1; font-family:Arial,Helvetica Neue,Helvetica,sans-serif; font-size:48px; text-anchor:middle;\" transform=\"rotate(0, 1260.02, 1541.47)\" x=\"1260.02\" y=\"1541.47\">0</text>\n",
       "</g>\n",
       "<g clip-path=\"url(#clip1300)\">\n",
       "<text style=\"fill:#000000; fill-opacity:1; font-family:Arial,Helvetica Neue,Helvetica,sans-serif; font-size:48px; text-anchor:middle;\" transform=\"rotate(0, 1746.28, 1541.47)\" x=\"1746.28\" y=\"1541.47\">2</text>\n",
       "</g>\n",
       "<g clip-path=\"url(#clip1300)\">\n",
       "<text style=\"fill:#000000; fill-opacity:1; font-family:Arial,Helvetica Neue,Helvetica,sans-serif; font-size:48px; text-anchor:middle;\" transform=\"rotate(0, 2232.55, 1541.47)\" x=\"2232.55\" y=\"1541.47\">4</text>\n",
       "</g>\n",
       "<g clip-path=\"url(#clip1300)\">\n",
       "<text style=\"fill:#000000; fill-opacity:1; font-family:Arial,Helvetica Neue,Helvetica,sans-serif; font-size:48px; text-anchor:end;\" transform=\"rotate(0, 143.279, 1466.32)\" x=\"143.279\" y=\"1466.32\">0</text>\n",
       "</g>\n",
       "<g clip-path=\"url(#clip1300)\">\n",
       "<text style=\"fill:#000000; fill-opacity:1; font-family:Arial,Helvetica Neue,Helvetica,sans-serif; font-size:48px; text-anchor:end;\" transform=\"rotate(0, 143.279, 1142.58)\" x=\"143.279\" y=\"1142.58\">50</text>\n",
       "</g>\n",
       "<g clip-path=\"url(#clip1300)\">\n",
       "<text style=\"fill:#000000; fill-opacity:1; font-family:Arial,Helvetica Neue,Helvetica,sans-serif; font-size:48px; text-anchor:end;\" transform=\"rotate(0, 143.279, 818.838)\" x=\"143.279\" y=\"818.838\">100</text>\n",
       "</g>\n",
       "<g clip-path=\"url(#clip1300)\">\n",
       "<text style=\"fill:#000000; fill-opacity:1; font-family:Arial,Helvetica Neue,Helvetica,sans-serif; font-size:48px; text-anchor:end;\" transform=\"rotate(0, 143.279, 495.096)\" x=\"143.279\" y=\"495.096\">150</text>\n",
       "</g>\n",
       "<g clip-path=\"url(#clip1300)\">\n",
       "<text style=\"fill:#000000; fill-opacity:1; font-family:Arial,Helvetica Neue,Helvetica,sans-serif; font-size:48px; text-anchor:end;\" transform=\"rotate(0, 143.279, 171.355)\" x=\"143.279\" y=\"171.355\">200</text>\n",
       "</g>\n",
       "<g clip-path=\"url(#clip1300)\">\n",
       "<text style=\"fill:#000000; fill-opacity:1; font-family:Arial,Helvetica Neue,Helvetica,sans-serif; font-size:84px; text-anchor:middle;\" transform=\"rotate(0, 1260.02, 73.2)\" x=\"1260.02\" y=\"73.2\">Histograma</text>\n",
       "</g>\n",
       "<path clip-path=\"url(#clip1302)\" d=\"\n",
       "M287.484 1442.35 L287.484 1448.82 L409.051 1448.82 L409.051 1442.35 L287.484 1442.35 L287.484 1442.35  Z\n",
       "  \" fill=\"#009af9\" fill-rule=\"evenodd\" fill-opacity=\"1\"/>\n",
       "<polyline clip-path=\"url(#clip1302)\" style=\"stroke:#000000; stroke-width:4; stroke-opacity:1; fill:none\" points=\"\n",
       "  287.484,1442.35 287.484,1448.82 409.051,1448.82 409.051,1442.35 287.484,1442.35 \n",
       "  \"/>\n",
       "<path clip-path=\"url(#clip1302)\" d=\"\n",
       "M409.051 1429.4 L409.051 1448.82 L530.618 1448.82 L530.618 1429.4 L409.051 1429.4 L409.051 1429.4  Z\n",
       "  \" fill=\"#009af9\" fill-rule=\"evenodd\" fill-opacity=\"1\"/>\n",
       "<polyline clip-path=\"url(#clip1302)\" style=\"stroke:#000000; stroke-width:4; stroke-opacity:1; fill:none\" points=\"\n",
       "  409.051,1429.4 409.051,1448.82 530.618,1448.82 530.618,1429.4 409.051,1429.4 \n",
       "  \"/>\n",
       "<path clip-path=\"url(#clip1302)\" d=\"\n",
       "M530.618 1397.02 L530.618 1448.82 L652.184 1448.82 L652.184 1397.02 L530.618 1397.02 L530.618 1397.02  Z\n",
       "  \" fill=\"#009af9\" fill-rule=\"evenodd\" fill-opacity=\"1\"/>\n",
       "<polyline clip-path=\"url(#clip1302)\" style=\"stroke:#000000; stroke-width:4; stroke-opacity:1; fill:none\" points=\"\n",
       "  530.618,1397.02 530.618,1448.82 652.184,1448.82 652.184,1397.02 530.618,1397.02 \n",
       "  \"/>\n",
       "<path clip-path=\"url(#clip1302)\" d=\"\n",
       "M652.184 1358.17 L652.184 1448.82 L773.751 1448.82 L773.751 1358.17 L652.184 1358.17 L652.184 1358.17  Z\n",
       "  \" fill=\"#009af9\" fill-rule=\"evenodd\" fill-opacity=\"1\"/>\n",
       "<polyline clip-path=\"url(#clip1302)\" style=\"stroke:#000000; stroke-width:4; stroke-opacity:1; fill:none\" points=\"\n",
       "  652.184,1358.17 652.184,1448.82 773.751,1448.82 773.751,1358.17 652.184,1358.17 \n",
       "  \"/>\n",
       "<path clip-path=\"url(#clip1302)\" d=\"\n",
       "M773.751 1183.35 L773.751 1448.82 L895.318 1448.82 L895.318 1183.35 L773.751 1183.35 L773.751 1183.35  Z\n",
       "  \" fill=\"#009af9\" fill-rule=\"evenodd\" fill-opacity=\"1\"/>\n",
       "<polyline clip-path=\"url(#clip1302)\" style=\"stroke:#000000; stroke-width:4; stroke-opacity:1; fill:none\" points=\"\n",
       "  773.751,1183.35 773.751,1448.82 895.318,1448.82 895.318,1183.35 773.751,1183.35 \n",
       "  \"/>\n",
       "<path clip-path=\"url(#clip1302)\" d=\"\n",
       "M895.318 788.388 L895.318 1448.82 L1016.88 1448.82 L1016.88 788.388 L895.318 788.388 L895.318 788.388  Z\n",
       "  \" fill=\"#009af9\" fill-rule=\"evenodd\" fill-opacity=\"1\"/>\n",
       "<polyline clip-path=\"url(#clip1302)\" style=\"stroke:#000000; stroke-width:4; stroke-opacity:1; fill:none\" points=\"\n",
       "  895.318,788.388 895.318,1448.82 1016.88,1448.82 1016.88,788.388 895.318,788.388 \n",
       "  \"/>\n",
       "<path clip-path=\"url(#clip1302)\" d=\"\n",
       "M1016.88 464.647 L1016.88 1448.82 L1138.45 1448.82 L1138.45 464.647 L1016.88 464.647 L1016.88 464.647  Z\n",
       "  \" fill=\"#009af9\" fill-rule=\"evenodd\" fill-opacity=\"1\"/>\n",
       "<polyline clip-path=\"url(#clip1302)\" style=\"stroke:#000000; stroke-width:4; stroke-opacity:1; fill:none\" points=\"\n",
       "  1016.88,464.647 1016.88,1448.82 1138.45,1448.82 1138.45,464.647 1016.88,464.647 \n",
       "  \"/>\n",
       "<path clip-path=\"url(#clip1302)\" d=\"\n",
       "M1138.45 160.33 L1138.45 1448.82 L1260.02 1448.82 L1260.02 160.33 L1138.45 160.33 L1138.45 160.33  Z\n",
       "  \" fill=\"#009af9\" fill-rule=\"evenodd\" fill-opacity=\"1\"/>\n",
       "<polyline clip-path=\"url(#clip1302)\" style=\"stroke:#000000; stroke-width:4; stroke-opacity:1; fill:none\" points=\"\n",
       "  1138.45,160.33 1138.45,1448.82 1260.02,1448.82 1260.02,160.33 1138.45,160.33 \n",
       "  \"/>\n",
       "<path clip-path=\"url(#clip1302)\" d=\"\n",
       "M1260.02 205.654 L1260.02 1448.82 L1381.58 1448.82 L1381.58 205.654 L1260.02 205.654 L1260.02 205.654  Z\n",
       "  \" fill=\"#009af9\" fill-rule=\"evenodd\" fill-opacity=\"1\"/>\n",
       "<polyline clip-path=\"url(#clip1302)\" style=\"stroke:#000000; stroke-width:4; stroke-opacity:1; fill:none\" points=\"\n",
       "  1260.02,205.654 1260.02,1448.82 1381.58,1448.82 1381.58,205.654 1260.02,205.654 \n",
       "  \"/>\n",
       "<path clip-path=\"url(#clip1302)\" d=\"\n",
       "M1381.58 484.071 L1381.58 1448.82 L1503.15 1448.82 L1503.15 484.071 L1381.58 484.071 L1381.58 484.071  Z\n",
       "  \" fill=\"#009af9\" fill-rule=\"evenodd\" fill-opacity=\"1\"/>\n",
       "<polyline clip-path=\"url(#clip1302)\" style=\"stroke:#000000; stroke-width:4; stroke-opacity:1; fill:none\" points=\"\n",
       "  1381.58,484.071 1381.58,1448.82 1503.15,1448.82 1503.15,484.071 1381.58,484.071 \n",
       "  \"/>\n",
       "<path clip-path=\"url(#clip1302)\" d=\"\n",
       "M1503.15 891.985 L1503.15 1448.82 L1624.72 1448.82 L1624.72 891.985 L1503.15 891.985 L1503.15 891.985  Z\n",
       "  \" fill=\"#009af9\" fill-rule=\"evenodd\" fill-opacity=\"1\"/>\n",
       "<polyline clip-path=\"url(#clip1302)\" style=\"stroke:#000000; stroke-width:4; stroke-opacity:1; fill:none\" points=\"\n",
       "  1503.15,891.985 1503.15,1448.82 1624.72,1448.82 1624.72,891.985 1503.15,891.985 \n",
       "  \"/>\n",
       "<path clip-path=\"url(#clip1302)\" d=\"\n",
       "M1624.72 1215.73 L1624.72 1448.82 L1746.28 1448.82 L1746.28 1215.73 L1624.72 1215.73 L1624.72 1215.73  Z\n",
       "  \" fill=\"#009af9\" fill-rule=\"evenodd\" fill-opacity=\"1\"/>\n",
       "<polyline clip-path=\"url(#clip1302)\" style=\"stroke:#000000; stroke-width:4; stroke-opacity:1; fill:none\" points=\"\n",
       "  1624.72,1215.73 1624.72,1448.82 1746.28,1448.82 1746.28,1215.73 1624.72,1215.73 \n",
       "  \"/>\n",
       "<path clip-path=\"url(#clip1302)\" d=\"\n",
       "M1746.28 1371.12 L1746.28 1448.82 L1867.85 1448.82 L1867.85 1371.12 L1746.28 1371.12 L1746.28 1371.12  Z\n",
       "  \" fill=\"#009af9\" fill-rule=\"evenodd\" fill-opacity=\"1\"/>\n",
       "<polyline clip-path=\"url(#clip1302)\" style=\"stroke:#000000; stroke-width:4; stroke-opacity:1; fill:none\" points=\"\n",
       "  1746.28,1371.12 1746.28,1448.82 1867.85,1448.82 1867.85,1371.12 1746.28,1371.12 \n",
       "  \"/>\n",
       "<path clip-path=\"url(#clip1302)\" d=\"\n",
       "M1867.85 1429.4 L1867.85 1448.82 L1989.42 1448.82 L1989.42 1429.4 L1867.85 1429.4 L1867.85 1429.4  Z\n",
       "  \" fill=\"#009af9\" fill-rule=\"evenodd\" fill-opacity=\"1\"/>\n",
       "<polyline clip-path=\"url(#clip1302)\" style=\"stroke:#000000; stroke-width:4; stroke-opacity:1; fill:none\" points=\"\n",
       "  1867.85,1429.4 1867.85,1448.82 1989.42,1448.82 1989.42,1429.4 1867.85,1429.4 \n",
       "  \"/>\n",
       "<path clip-path=\"url(#clip1302)\" d=\"\n",
       "M1989.42 1442.35 L1989.42 1448.82 L2110.98 1448.82 L2110.98 1442.35 L1989.42 1442.35 L1989.42 1442.35  Z\n",
       "  \" fill=\"#009af9\" fill-rule=\"evenodd\" fill-opacity=\"1\"/>\n",
       "<polyline clip-path=\"url(#clip1302)\" style=\"stroke:#000000; stroke-width:4; stroke-opacity:1; fill:none\" points=\"\n",
       "  1989.42,1442.35 1989.42,1448.82 2110.98,1448.82 2110.98,1442.35 1989.42,1442.35 \n",
       "  \"/>\n",
       "<path clip-path=\"url(#clip1302)\" d=\"\n",
       "M2110.98 1442.35 L2110.98 1448.82 L2232.55 1448.82 L2232.55 1442.35 L2110.98 1442.35 L2110.98 1442.35  Z\n",
       "  \" fill=\"#009af9\" fill-rule=\"evenodd\" fill-opacity=\"1\"/>\n",
       "<polyline clip-path=\"url(#clip1302)\" style=\"stroke:#000000; stroke-width:4; stroke-opacity:1; fill:none\" points=\"\n",
       "  2110.98,1442.35 2110.98,1448.82 2232.55,1448.82 2232.55,1442.35 2110.98,1442.35 \n",
       "  \"/>\n",
       "</svg>\n"
      ]
     },
     "execution_count": 59,
     "metadata": {},
     "output_type": "execute_result"
    }
   ],
   "source": [
    "# Gerando 1000 números com distribuição normal\n",
    "x = randn(1000)\n",
    "histogram(x, legend=false)\n",
    "title!(\"Histograma\")"
   ]
  },
  {
   "cell_type": "code",
   "execution_count": 60,
   "metadata": {},
   "outputs": [],
   "source": [
    "using StatsPlots"
   ]
  },
  {
   "cell_type": "code",
   "execution_count": 61,
   "metadata": {},
   "outputs": [
    {
     "data": {
      "image/svg+xml": [
       "<?xml version=\"1.0\" encoding=\"utf-8\"?>\n",
       "<svg xmlns=\"http://www.w3.org/2000/svg\" xmlns:xlink=\"http://www.w3.org/1999/xlink\" width=\"600\" height=\"400\" viewBox=\"0 0 2400 1600\">\n",
       "<defs>\n",
       "  <clipPath id=\"clip1700\">\n",
       "    <rect x=\"0\" y=\"0\" width=\"2400\" height=\"1600\"/>\n",
       "  </clipPath>\n",
       "</defs>\n",
       "<path clip-path=\"url(#clip1700)\" d=\"\n",
       "M0 1600 L2400 1600 L2400 0 L0 0  Z\n",
       "  \" fill=\"#ffffff\" fill-rule=\"evenodd\" fill-opacity=\"1\"/>\n",
       "<defs>\n",
       "  <clipPath id=\"clip1701\">\n",
       "    <rect x=\"480\" y=\"0\" width=\"1681\" height=\"1600\"/>\n",
       "  </clipPath>\n",
       "</defs>\n",
       "<path clip-path=\"url(#clip1700)\" d=\"\n",
       "M153.898 1487.47 L2352.76 1487.47 L2352.76 121.675 L153.898 121.675  Z\n",
       "  \" fill=\"#ffffff\" fill-rule=\"evenodd\" fill-opacity=\"1\"/>\n",
       "<defs>\n",
       "  <clipPath id=\"clip1702\">\n",
       "    <rect x=\"153\" y=\"121\" width=\"2200\" height=\"1367\"/>\n",
       "  </clipPath>\n",
       "</defs>\n",
       "<polyline clip-path=\"url(#clip1702)\" style=\"stroke:#000000; stroke-width:2; stroke-opacity:0.1; fill:none\" points=\"\n",
       "  317.819,1487.47 317.819,121.675 \n",
       "  \"/>\n",
       "<polyline clip-path=\"url(#clip1702)\" style=\"stroke:#000000; stroke-width:2; stroke-opacity:0.1; fill:none\" points=\"\n",
       "  779.869,1487.47 779.869,121.675 \n",
       "  \"/>\n",
       "<polyline clip-path=\"url(#clip1702)\" style=\"stroke:#000000; stroke-width:2; stroke-opacity:0.1; fill:none\" points=\"\n",
       "  1241.92,1487.47 1241.92,121.675 \n",
       "  \"/>\n",
       "<polyline clip-path=\"url(#clip1702)\" style=\"stroke:#000000; stroke-width:2; stroke-opacity:0.1; fill:none\" points=\"\n",
       "  1703.97,1487.47 1703.97,121.675 \n",
       "  \"/>\n",
       "<polyline clip-path=\"url(#clip1702)\" style=\"stroke:#000000; stroke-width:2; stroke-opacity:0.1; fill:none\" points=\"\n",
       "  2166.02,1487.47 2166.02,121.675 \n",
       "  \"/>\n",
       "<polyline clip-path=\"url(#clip1702)\" style=\"stroke:#000000; stroke-width:2; stroke-opacity:0.1; fill:none\" points=\"\n",
       "  153.898,1448.82 2352.76,1448.82 \n",
       "  \"/>\n",
       "<polyline clip-path=\"url(#clip1702)\" style=\"stroke:#000000; stroke-width:2; stroke-opacity:0.1; fill:none\" points=\"\n",
       "  153.898,1120.26 2352.76,1120.26 \n",
       "  \"/>\n",
       "<polyline clip-path=\"url(#clip1702)\" style=\"stroke:#000000; stroke-width:2; stroke-opacity:0.1; fill:none\" points=\"\n",
       "  153.898,791.694 2352.76,791.694 \n",
       "  \"/>\n",
       "<polyline clip-path=\"url(#clip1702)\" style=\"stroke:#000000; stroke-width:2; stroke-opacity:0.1; fill:none\" points=\"\n",
       "  153.898,463.13 2352.76,463.13 \n",
       "  \"/>\n",
       "<polyline clip-path=\"url(#clip1702)\" style=\"stroke:#000000; stroke-width:2; stroke-opacity:0.1; fill:none\" points=\"\n",
       "  153.898,134.566 2352.76,134.566 \n",
       "  \"/>\n",
       "<polyline clip-path=\"url(#clip1700)\" style=\"stroke:#000000; stroke-width:4; stroke-opacity:1; fill:none\" points=\"\n",
       "  153.898,1487.47 2352.76,1487.47 \n",
       "  \"/>\n",
       "<polyline clip-path=\"url(#clip1700)\" style=\"stroke:#000000; stroke-width:4; stroke-opacity:1; fill:none\" points=\"\n",
       "  153.898,1487.47 153.898,121.675 \n",
       "  \"/>\n",
       "<polyline clip-path=\"url(#clip1700)\" style=\"stroke:#000000; stroke-width:4; stroke-opacity:1; fill:none\" points=\"\n",
       "  317.819,1487.47 317.819,1471.09 \n",
       "  \"/>\n",
       "<polyline clip-path=\"url(#clip1700)\" style=\"stroke:#000000; stroke-width:4; stroke-opacity:1; fill:none\" points=\"\n",
       "  779.869,1487.47 779.869,1471.09 \n",
       "  \"/>\n",
       "<polyline clip-path=\"url(#clip1700)\" style=\"stroke:#000000; stroke-width:4; stroke-opacity:1; fill:none\" points=\"\n",
       "  1241.92,1487.47 1241.92,1471.09 \n",
       "  \"/>\n",
       "<polyline clip-path=\"url(#clip1700)\" style=\"stroke:#000000; stroke-width:4; stroke-opacity:1; fill:none\" points=\"\n",
       "  1703.97,1487.47 1703.97,1471.09 \n",
       "  \"/>\n",
       "<polyline clip-path=\"url(#clip1700)\" style=\"stroke:#000000; stroke-width:4; stroke-opacity:1; fill:none\" points=\"\n",
       "  2166.02,1487.47 2166.02,1471.09 \n",
       "  \"/>\n",
       "<polyline clip-path=\"url(#clip1700)\" style=\"stroke:#000000; stroke-width:4; stroke-opacity:1; fill:none\" points=\"\n",
       "  153.898,1448.82 180.284,1448.82 \n",
       "  \"/>\n",
       "<polyline clip-path=\"url(#clip1700)\" style=\"stroke:#000000; stroke-width:4; stroke-opacity:1; fill:none\" points=\"\n",
       "  153.898,1120.26 180.284,1120.26 \n",
       "  \"/>\n",
       "<polyline clip-path=\"url(#clip1700)\" style=\"stroke:#000000; stroke-width:4; stroke-opacity:1; fill:none\" points=\"\n",
       "  153.898,791.694 180.284,791.694 \n",
       "  \"/>\n",
       "<polyline clip-path=\"url(#clip1700)\" style=\"stroke:#000000; stroke-width:4; stroke-opacity:1; fill:none\" points=\"\n",
       "  153.898,463.13 180.284,463.13 \n",
       "  \"/>\n",
       "<polyline clip-path=\"url(#clip1700)\" style=\"stroke:#000000; stroke-width:4; stroke-opacity:1; fill:none\" points=\"\n",
       "  153.898,134.566 180.284,134.566 \n",
       "  \"/>\n",
       "<g clip-path=\"url(#clip1700)\">\n",
       "<text style=\"fill:#000000; fill-opacity:1; font-family:Arial,Helvetica Neue,Helvetica,sans-serif; font-size:48px; text-anchor:middle;\" transform=\"rotate(0, 317.819, 1541.47)\" x=\"317.819\" y=\"1541.47\">-4</text>\n",
       "</g>\n",
       "<g clip-path=\"url(#clip1700)\">\n",
       "<text style=\"fill:#000000; fill-opacity:1; font-family:Arial,Helvetica Neue,Helvetica,sans-serif; font-size:48px; text-anchor:middle;\" transform=\"rotate(0, 779.869, 1541.47)\" x=\"779.869\" y=\"1541.47\">-2</text>\n",
       "</g>\n",
       "<g clip-path=\"url(#clip1700)\">\n",
       "<text style=\"fill:#000000; fill-opacity:1; font-family:Arial,Helvetica Neue,Helvetica,sans-serif; font-size:48px; text-anchor:middle;\" transform=\"rotate(0, 1241.92, 1541.47)\" x=\"1241.92\" y=\"1541.47\">0</text>\n",
       "</g>\n",
       "<g clip-path=\"url(#clip1700)\">\n",
       "<text style=\"fill:#000000; fill-opacity:1; font-family:Arial,Helvetica Neue,Helvetica,sans-serif; font-size:48px; text-anchor:middle;\" transform=\"rotate(0, 1703.97, 1541.47)\" x=\"1703.97\" y=\"1541.47\">2</text>\n",
       "</g>\n",
       "<g clip-path=\"url(#clip1700)\">\n",
       "<text style=\"fill:#000000; fill-opacity:1; font-family:Arial,Helvetica Neue,Helvetica,sans-serif; font-size:48px; text-anchor:middle;\" transform=\"rotate(0, 2166.02, 1541.47)\" x=\"2166.02\" y=\"1541.47\">4</text>\n",
       "</g>\n",
       "<g clip-path=\"url(#clip1700)\">\n",
       "<text style=\"fill:#000000; fill-opacity:1; font-family:Arial,Helvetica Neue,Helvetica,sans-serif; font-size:48px; text-anchor:end;\" transform=\"rotate(0, 129.898, 1466.32)\" x=\"129.898\" y=\"1466.32\">0.0</text>\n",
       "</g>\n",
       "<g clip-path=\"url(#clip1700)\">\n",
       "<text style=\"fill:#000000; fill-opacity:1; font-family:Arial,Helvetica Neue,Helvetica,sans-serif; font-size:48px; text-anchor:end;\" transform=\"rotate(0, 129.898, 1137.76)\" x=\"129.898\" y=\"1137.76\">0.1</text>\n",
       "</g>\n",
       "<g clip-path=\"url(#clip1700)\">\n",
       "<text style=\"fill:#000000; fill-opacity:1; font-family:Arial,Helvetica Neue,Helvetica,sans-serif; font-size:48px; text-anchor:end;\" transform=\"rotate(0, 129.898, 809.194)\" x=\"129.898\" y=\"809.194\">0.2</text>\n",
       "</g>\n",
       "<g clip-path=\"url(#clip1700)\">\n",
       "<text style=\"fill:#000000; fill-opacity:1; font-family:Arial,Helvetica Neue,Helvetica,sans-serif; font-size:48px; text-anchor:end;\" transform=\"rotate(0, 129.898, 480.63)\" x=\"129.898\" y=\"480.63\">0.3</text>\n",
       "</g>\n",
       "<g clip-path=\"url(#clip1700)\">\n",
       "<text style=\"fill:#000000; fill-opacity:1; font-family:Arial,Helvetica Neue,Helvetica,sans-serif; font-size:48px; text-anchor:end;\" transform=\"rotate(0, 129.898, 152.066)\" x=\"129.898\" y=\"152.066\">0.4</text>\n",
       "</g>\n",
       "<g clip-path=\"url(#clip1700)\">\n",
       "<text style=\"fill:#000000; fill-opacity:1; font-family:Arial,Helvetica Neue,Helvetica,sans-serif; font-size:84px; text-anchor:middle;\" transform=\"rotate(0, 1253.33, 73.2)\" x=\"1253.33\" y=\"73.2\">Density plot</text>\n",
       "</g>\n",
       "<polyline clip-path=\"url(#clip1702)\" style=\"stroke:#009af9; stroke-width:4; stroke-opacity:1; fill:none\" points=\"\n",
       "  216.13,1448.82 226.554,1448.82 236.978,1448.81 247.402,1448.8 257.826,1448.78 268.25,1448.74 278.674,1448.68 289.098,1448.57 299.523,1448.39 309.947,1448.12 \n",
       "  320.371,1447.74 330.795,1447.2 341.219,1446.48 351.643,1445.57 362.067,1444.46 372.491,1443.19 382.915,1441.78 393.339,1440.31 403.763,1438.84 414.188,1437.43 \n",
       "  424.612,1436.14 435.036,1434.98 445.46,1433.95 455.884,1432.99 466.308,1432.05 476.732,1431.06 487.156,1429.96 497.58,1428.71 508.004,1427.3 518.428,1425.72 \n",
       "  528.853,1423.98 539.277,1422.07 549.701,1419.95 560.125,1417.58 570.549,1414.92 580.973,1411.92 591.397,1408.59 601.821,1404.94 612.245,1401.04 622.669,1396.94 \n",
       "  633.093,1392.69 643.518,1388.32 653.942,1383.76 664.366,1378.91 674.79,1373.61 685.214,1367.7 695.638,1361.02 706.062,1353.48 716.486,1345.04 726.91,1335.72 \n",
       "  737.334,1325.58 747.758,1314.64 758.183,1302.93 768.607,1290.39 779.031,1276.91 789.455,1262.35 799.879,1246.58 810.303,1229.47 820.727,1210.92 831.151,1190.86 \n",
       "  841.575,1169.17 851.999,1145.71 862.423,1120.23 872.848,1092.4 883.272,1061.88 893.696,1028.38 904.12,991.798 914.544,952.268 924.968,910.243 935.392,866.459 \n",
       "  945.816,821.868 956.24,777.506 966.664,734.345 977.089,693.152 987.513,654.391 997.937,618.183 1008.36,584.329 1018.78,552.385 1029.21,521.775 1039.63,491.907 \n",
       "  1050.06,462.273 1060.48,432.528 1070.91,402.535 1081.33,372.377 1091.75,342.354 1102.18,312.961 1112.6,284.841 1123.03,258.72 1133.45,235.316 1143.87,215.229 \n",
       "  1154.3,198.833 1164.72,186.196 1175.15,177.05 1185.57,170.835 1195.99,166.807 1206.42,164.204 1216.84,162.41 1227.27,161.105 1237.69,160.33 1248.11,160.479 \n",
       "  1258.54,162.201 1268.96,166.244 1279.39,173.287 1289.81,183.802 1300.24,197.963 1310.66,215.646 1321.08,236.482 1331.51,259.954 1341.93,285.498 1352.36,312.582 \n",
       "  1362.78,340.744 1373.2,369.601 1383.63,398.839 1394.05,428.215 1404.48,457.577 1414.9,486.907 1425.32,516.358 1435.75,546.273 1446.17,577.14 1456.6,609.497 \n",
       "  1467.02,643.798 1477.44,680.277 1487.87,718.851 1498.29,759.101 1508.72,800.331 1519.14,841.691 1529.57,882.333 1539.99,921.544 1550.41,958.832 1560.84,993.947 \n",
       "  1571.26,1026.84 1581.69,1057.62 1592.11,1086.42 1602.53,1113.41 1612.96,1138.72 1623.38,1162.47 1633.81,1184.73 1644.23,1205.6 1654.65,1225.15 1665.08,1243.45 \n",
       "  1675.5,1260.57 1685.93,1276.51 1696.35,1291.28 1706.77,1304.85 1717.2,1317.22 1727.62,1328.41 1738.05,1338.5 1748.47,1347.62 1758.9,1355.94 1769.32,1363.64 \n",
       "  1779.74,1370.91 1790.17,1377.89 1800.59,1384.67 1811.02,1391.3 1821.44,1397.78 1831.86,1404.06 1842.29,1410.04 1852.71,1415.62 1863.14,1420.68 1873.56,1425.13 \n",
       "  1883.98,1428.9 1894.41,1431.98 1904.83,1434.4 1915.26,1436.22 1925.68,1437.53 1936.1,1438.43 1946.53,1439.01 1956.95,1439.36 1967.38,1439.52 1977.8,1439.55 \n",
       "  1988.23,1439.47 1998.65,1439.34 2009.07,1439.18 2019.5,1439.03 2029.92,1438.93 2040.35,1438.92 2050.77,1439.03 2061.19,1439.28 2071.62,1439.68 2082.04,1440.24 \n",
       "  2092.47,1440.95 2102.89,1441.78 2113.31,1442.7 2123.74,1443.66 2134.16,1444.61 2144.59,1445.49 2155.01,1446.29 2165.43,1446.96 2175.86,1447.51 2186.28,1447.93 \n",
       "  2196.71,1448.24 2207.13,1448.45 2217.56,1448.6 2227.98,1448.69 2238.4,1448.75 2248.83,1448.78 2259.25,1448.8 2269.68,1448.81 2280.1,1448.82 2290.52,1448.82 \n",
       "  \n",
       "  \"/>\n",
       "</svg>\n"
      ]
     },
     "execution_count": 61,
     "metadata": {},
     "output_type": "execute_result"
    }
   ],
   "source": [
    "# Para representar o mesmo conjunto de dados como uma distribuição contínua, usamos um gráfico de densidade\n",
    "density(x, legend=false)\n",
    "title!(\"Density plot\")"
   ]
  },
  {
   "cell_type": "markdown",
   "metadata": {},
   "source": [
    "---\n",
    "## Exercícios\n",
    "Stevenson (1981, p. 51-52), exercícios suplementares 1, 2, 3, 4, 7, 8 e 10."
   ]
  },
  {
   "cell_type": "code",
   "execution_count": 47,
   "metadata": {},
   "outputs": [],
   "source": [
    "# 1) Seu código aqui!"
   ]
  },
  {
   "cell_type": "code",
   "execution_count": 48,
   "metadata": {},
   "outputs": [],
   "source": [
    "# 2) Seu código aqui!"
   ]
  },
  {
   "cell_type": "code",
   "execution_count": 49,
   "metadata": {},
   "outputs": [],
   "source": [
    "# 3) Seu código aqui!"
   ]
  },
  {
   "cell_type": "code",
   "execution_count": 50,
   "metadata": {},
   "outputs": [],
   "source": [
    "# 4) Seu código aqui!"
   ]
  },
  {
   "cell_type": "code",
   "execution_count": 51,
   "metadata": {},
   "outputs": [],
   "source": [
    "# 7) Seu código aqui!"
   ]
  },
  {
   "cell_type": "code",
   "execution_count": 52,
   "metadata": {},
   "outputs": [],
   "source": [
    "# 8) Seu código aqui!"
   ]
  },
  {
   "cell_type": "code",
   "execution_count": 53,
   "metadata": {},
   "outputs": [],
   "source": [
    "# 10) Seu código aqui!"
   ]
  }
 ],
 "metadata": {
  "kernelspec": {
   "display_name": "Julia 1.3.1",
   "language": "julia",
   "name": "julia-1.3"
  },
  "language_info": {
   "file_extension": ".jl",
   "mimetype": "application/julia",
   "name": "julia",
   "version": "1.3.1"
  }
 },
 "nbformat": 4,
 "nbformat_minor": 4
}
