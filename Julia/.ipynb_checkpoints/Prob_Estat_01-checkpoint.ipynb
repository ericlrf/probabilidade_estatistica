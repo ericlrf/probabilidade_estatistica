{
 "cells": [
  {
   "cell_type": "markdown",
   "metadata": {},
   "source": [
    "# Probabilidade e Estatística\n",
    "\n",
    "## Curso Superior de Tecnologia em Ciência de Dados\n",
    "\n",
    "### Prof. Dr. Neylson Crepalde\n",
    "\n",
    "Conteúdo abordado: medidas de tendência central e medidas de dispersão.\n",
    "\n",
    "---\n",
    "\n",
    "# Medidas de Tendência Central\n",
    "\n",
    "**Média**: somatório de todos os valores sobre o número de ítens no conjunto.\n",
    "\n",
    "$$\\overline{x} = \\frac{\\sum_{i=1}^{n}x_i}{n}$$\n",
    "\n",
    "#### Exemplo\n",
    "Um estudante fez quatro avaliações na disciplina Probabilidade e Estatística e obteve as notas 83, 94, 95 e 86. Qual foi a sua nota média?"
   ]
  },
  {
   "cell_type": "code",
   "execution_count": 1,
   "metadata": {},
   "outputs": [
    {
     "data": {
      "text/plain": [
       "89.5"
      ]
     },
     "execution_count": 1,
     "metadata": {},
     "output_type": "execute_result"
    }
   ],
   "source": [
    "# Ma mão\n",
    "(83+94+95+86) / 4"
   ]
  },
  {
   "cell_type": "markdown",
   "metadata": {},
   "source": [
    "A nota média do aluno foi 89,5."
   ]
  },
  {
   "cell_type": "code",
   "execution_count": 2,
   "metadata": {},
   "outputs": [
    {
     "data": {
      "text/plain": [
       "media (generic function with 1 method)"
      ]
     },
     "execution_count": 2,
     "metadata": {},
     "output_type": "execute_result"
    }
   ],
   "source": [
    "# Função para média em Julia\n",
    "function media(x)\n",
    "    n = length(x)\n",
    "    return sum(x) / n\n",
    "end"
   ]
  },
  {
   "cell_type": "code",
   "execution_count": 3,
   "metadata": {},
   "outputs": [
    {
     "data": {
      "text/plain": [
       "89.5"
      ]
     },
     "execution_count": 3,
     "metadata": {},
     "output_type": "execute_result"
    }
   ],
   "source": [
    "notas = [83, 94, 95, 86]\n",
    "media(notas)"
   ]
  },
  {
   "cell_type": "markdown",
   "metadata": {},
   "source": [
    "**Média Ponderada**: A média ponderada por algum vetor que dá peso diferente às observações.\n",
    "\n",
    "$$MediaPonderada = \\frac{\\sum_{i=1}^{n} w_i x_i}{\\sum_{i=1}^{n} w_i}$$\n",
    "\n",
    "#### Exemplo\n",
    "Um estudante fez três avaliações com pesos diferentes. Na tabela abaixo constam as notas e os pesos das avaliações do aluno:\n",
    "\n",
    "| Exame |Nota| Peso |\n",
    "|-------|----|------|\n",
    "| N1    | 80 | 0,30 |\n",
    "| N2    | 90 | 0,30 |\n",
    "| Final | 96 | 0,40 |\n",
    "\n",
    "Calcule a média ponderada das notas do aluno."
   ]
  },
  {
   "cell_type": "code",
   "execution_count": 4,
   "metadata": {},
   "outputs": [
    {
     "data": {
      "text/plain": [
       "89.4"
      ]
     },
     "execution_count": 4,
     "metadata": {},
     "output_type": "execute_result"
    }
   ],
   "source": [
    "# Na mão\n",
    "(80*0.30 + 90*0.30 + 96*0.40) / (0.30+0.30+0.40)"
   ]
  },
  {
   "cell_type": "markdown",
   "metadata": {},
   "source": [
    "A nota média do aluno foi 89,4"
   ]
  },
  {
   "cell_type": "code",
   "execution_count": 5,
   "metadata": {},
   "outputs": [
    {
     "data": {
      "text/plain": [
       "media_ponderada (generic function with 1 method)"
      ]
     },
     "execution_count": 5,
     "metadata": {},
     "output_type": "execute_result"
    }
   ],
   "source": [
    "# Função para média ponderada em Julia\n",
    "function media_ponderada(x, w)\n",
    "    if length(x) != length(w)\n",
    "        error(\"x and w must have the same length\")\n",
    "    end\n",
    "    somatorio = 0\n",
    "    for i in 1:length(x)\n",
    "        somatorio += x[i] * w[i]\n",
    "    end\n",
    "    return somatorio / sum(w)\n",
    "end"
   ]
  },
  {
   "cell_type": "code",
   "execution_count": 6,
   "metadata": {},
   "outputs": [
    {
     "data": {
      "text/plain": [
       "89.4"
      ]
     },
     "execution_count": 6,
     "metadata": {},
     "output_type": "execute_result"
    }
   ],
   "source": [
    "notas = [80, 90, 96]\n",
    "pesos = [0.3, 0.3, 0.4]\n",
    "media_ponderada(notas, pesos)"
   ]
  },
  {
   "cell_type": "code",
   "execution_count": 7,
   "metadata": {},
   "outputs": [
    {
     "data": {
      "text/plain": [
       "4-element Array{Int64,1}:\n",
       " 80\n",
       " 90\n",
       " 96\n",
       " 78"
      ]
     },
     "execution_count": 7,
     "metadata": {},
     "output_type": "execute_result"
    }
   ],
   "source": [
    "append!(notas, 78)"
   ]
  },
  {
   "cell_type": "code",
   "execution_count": 8,
   "metadata": {},
   "outputs": [
    {
     "ename": "ErrorException",
     "evalue": "x and w must have the same length",
     "output_type": "error",
     "traceback": [
      "x and w must have the same length",
      "",
      "Stacktrace:",
      " [1] error(::String) at .\\error.jl:33",
      " [2] media_ponderada(::Array{Int64,1}, ::Array{Float64,1}) at .\\In[5]:4",
      " [3] top-level scope at In[8]:1"
     ]
    }
   ],
   "source": [
    "# Checando se a exceção foi bem programada\n",
    "media_ponderada(notas, pesos)"
   ]
  },
  {
   "cell_type": "markdown",
   "metadata": {},
   "source": [
    "**Mediana**: Uma vez que o vetor está ordenado, a mediana é o caso que está na posição central do vetor. Caso o número de elementos no vetor seja par, a mediana é a média aritmética dos dois valores centrais.\n",
    "\n",
    "Segundo Stevenson (1981) o processo para determinar a mediana consiste de:\n",
    "\n",
    "1. Ordenar os valores\n",
    "2. Verificar se há um múmero ímpar ou par de valores\n",
    "3. Para um número ímpar de valores, a mediana é o valor do meio. Para um número par de valores, a mediana é a média  dos dois valores do meio.\n",
    "\n",
    "#### Exemplo\n",
    "Os alunos de uma sala tiraram, respectivamente, as seguintes notas finais no semestre: 80, 90, 78, 95, 86. Qual foi a nota mediana da sala? E se na turma houvesse mais um aluno que tivesse tirado 89, qual seria então a mediana?\n",
    "\n",
    "**Resposta**: Ordenando os valores: 78, 80, 86, 90 e 95. Mediana foi 86.\n",
    "\n",
    "Se tivesse também 89: 78, 80, 86, 89, 90 e 95. $Mediana = \\frac{86 + 89}{2} = 87,5$ "
   ]
  },
  {
   "cell_type": "code",
   "execution_count": 9,
   "metadata": {},
   "outputs": [
    {
     "data": {
      "text/plain": [
       "87.5"
      ]
     },
     "execution_count": 9,
     "metadata": {},
     "output_type": "execute_result"
    }
   ],
   "source": [
    "(86 + 89)/2"
   ]
  },
  {
   "cell_type": "code",
   "execution_count": 10,
   "metadata": {},
   "outputs": [
    {
     "data": {
      "text/plain": [
       "mediana (generic function with 1 method)"
      ]
     },
     "execution_count": 10,
     "metadata": {},
     "output_type": "execute_result"
    }
   ],
   "source": [
    "# Implmentando uma função de mediana em Julia\n",
    "function mediana(x)\n",
    "    #1 - ordenar os valores\n",
    "    res = sort(x)\n",
    "    n = length(x)\n",
    "    #2 - Verificar se o tamanho é par ou ímpar\n",
    "    if n % 2 == 1\n",
    "        indice = trunc(Int, (n+1)/2)\n",
    "        return res[indice]\n",
    "    else\n",
    "        indice1 = trunc(Int, n/2)\n",
    "        indice2 = indice1+1\n",
    "        return media([res[indice1], res[indice2]])\n",
    "    end\n",
    "end"
   ]
  },
  {
   "cell_type": "code",
   "execution_count": 11,
   "metadata": {},
   "outputs": [
    {
     "data": {
      "text/plain": [
       "86"
      ]
     },
     "execution_count": 11,
     "metadata": {},
     "output_type": "execute_result"
    }
   ],
   "source": [
    "notas = [80, 90, 78, 95, 86]\n",
    "mediana(notas)"
   ]
  },
  {
   "cell_type": "code",
   "execution_count": 12,
   "metadata": {},
   "outputs": [
    {
     "data": {
      "text/plain": [
       "87.5"
      ]
     },
     "execution_count": 12,
     "metadata": {},
     "output_type": "execute_result"
    }
   ],
   "source": [
    "append!(notas, 89)\n",
    "mediana(notas)"
   ]
  },
  {
   "cell_type": "markdown",
   "metadata": {},
   "source": [
    "**Moda**: A moda é o valor que ocorre com maior frequência. Se não houver apenas um valor com maior frequência, não foi possível encontrar uma moda.\n",
    "\n",
    "#### Exemplo\n",
    "Calcule a moda entre os números 10, 10, 8, 6 e 10.\n",
    "Moda = 10\n",
    "\n",
    "Implementando a moda em `Julia`:"
   ]
  },
  {
   "cell_type": "code",
   "execution_count": 13,
   "metadata": {},
   "outputs": [],
   "source": [
    "using StatsBase"
   ]
  },
  {
   "cell_type": "code",
   "execution_count": 14,
   "metadata": {},
   "outputs": [
    {
     "data": {
      "text/plain": [
       "Dict{Int64,Int64} with 3 entries:\n",
       "  10 => 3\n",
       "  8  => 1\n",
       "  6  => 1"
      ]
     },
     "execution_count": 14,
     "metadata": {},
     "output_type": "execute_result"
    }
   ],
   "source": [
    "numeros = [10,10, 8, 6, 10]\n",
    "dic = countmap(numeros)"
   ]
  },
  {
   "cell_type": "code",
   "execution_count": 15,
   "metadata": {},
   "outputs": [
    {
     "data": {
      "text/plain": [
       "moda (generic function with 1 method)"
      ]
     },
     "execution_count": 15,
     "metadata": {},
     "output_type": "execute_result"
    }
   ],
   "source": [
    "function moda(x)\n",
    "    contagens = countmap(x)\n",
    "    valores = sort(collect(values(contagens)), rev=true)\n",
    "    if valores[1] == valores[2]\n",
    "        return \"Não existe moda\"\n",
    "    else\n",
    "        res = collect(keys(contagens))[findmax(collect(values(contagens)))[2]]\n",
    "        return res\n",
    "    end\n",
    "end"
   ]
  },
  {
   "cell_type": "code",
   "execution_count": 16,
   "metadata": {},
   "outputs": [
    {
     "data": {
      "text/plain": [
       "10"
      ]
     },
     "execution_count": 16,
     "metadata": {},
     "output_type": "execute_result"
    }
   ],
   "source": [
    "moda(numeros)"
   ]
  },
  {
   "cell_type": "code",
   "execution_count": 17,
   "metadata": {},
   "outputs": [
    {
     "data": {
      "text/plain": [
       "Dict{Int64,Int64} with 5 entries:\n",
       "  4  => 2\n",
       "  10 => 1\n",
       "  2  => 1\n",
       "  6  => 2\n",
       "  1  => 1"
      ]
     },
     "execution_count": 17,
     "metadata": {},
     "output_type": "execute_result"
    }
   ],
   "source": [
    "numeros2 = [1,2,4,4,6,6,10]\n",
    "countmap(numeros2)"
   ]
  },
  {
   "cell_type": "code",
   "execution_count": 18,
   "metadata": {},
   "outputs": [
    {
     "name": "stdout",
     "output_type": "stream",
     "text": [
      "Não existe moda\n"
     ]
    }
   ],
   "source": [
    "println(moda(numeros2))"
   ]
  },
  {
   "cell_type": "markdown",
   "metadata": {},
   "source": [
    "---\n",
    "# Exercícios\n",
    "Stevenson (1981, p. 24), exercícios 1, 2 e 3"
   ]
  },
  {
   "cell_type": "code",
   "execution_count": 19,
   "metadata": {},
   "outputs": [],
   "source": [
    "# 1) Coloque seu código aqui\n",
    "#"
   ]
  },
  {
   "cell_type": "code",
   "execution_count": 20,
   "metadata": {},
   "outputs": [],
   "source": [
    "# 2) Coloque seu código aqui\n",
    "#"
   ]
  },
  {
   "cell_type": "code",
   "execution_count": 21,
   "metadata": {},
   "outputs": [],
   "source": [
    "# 3) Coloque seu código aqui\n",
    "#"
   ]
  },
  {
   "cell_type": "markdown",
   "metadata": {},
   "source": [
    "---\n",
    "# Medidas de dispersão\n",
    "\n",
    "**Desvio médio absoluto**: é a média dos desvios dos valores a contar da média, ignorando-se o sinal de diferença.\n",
    "\n",
    "$$DMA = \\frac{\\sum |x_i - \\bar{x}|}{n}$$\n",
    "\n",
    "#### Exemplo\n",
    "Determine o desvio médio para o seguinte conjunto de números: 2,4,6,8,10."
   ]
  },
  {
   "cell_type": "code",
   "execution_count": 22,
   "metadata": {},
   "outputs": [
    {
     "data": {
      "text/plain": [
       "desvio (generic function with 1 method)"
      ]
     },
     "execution_count": 22,
     "metadata": {},
     "output_type": "execute_result"
    }
   ],
   "source": [
    "# Implementando uma funcao de desvio\n",
    "function desvio(x)\n",
    "    n = length(x)\n",
    "    somatorio = 0\n",
    "    for i in 1:n\n",
    "        somatorio += abs(x[i] - media(x))\n",
    "    end\n",
    "    return somatorio / n\n",
    "end"
   ]
  },
  {
   "cell_type": "code",
   "execution_count": 23,
   "metadata": {},
   "outputs": [
    {
     "data": {
      "text/plain": [
       "2.4"
      ]
     },
     "execution_count": 23,
     "metadata": {},
     "output_type": "execute_result"
    }
   ],
   "source": [
    "numeros = [2,4,6,8,10]\n",
    "desvio(numeros)"
   ]
  },
  {
   "cell_type": "markdown",
   "metadata": {},
   "source": [
    "**Variância**: é a média dos quadrados dos desvios dos valores a contar da média, calculada usando-se n-1 em lugar de n (variância amostral)\n",
    "\n",
    "$${S_x}^2 = \\frac{\\sum (x_i - \\bar{x})^2}{n-1}$$\n",
    "\n",
    "#### Exemplo\n",
    "Calcule a variância para o vetor 2, 4, 6, 8, 10."
   ]
  },
  {
   "cell_type": "code",
   "execution_count": 24,
   "metadata": {},
   "outputs": [
    {
     "data": {
      "text/plain": [
       "variancia (generic function with 1 method)"
      ]
     },
     "execution_count": 24,
     "metadata": {},
     "output_type": "execute_result"
    }
   ],
   "source": [
    "function variancia(x)\n",
    "    n = length(x)\n",
    "    somatorio = 0\n",
    "    for i in 1:n\n",
    "        somatorio += (x[i] - media(x))^2\n",
    "    end\n",
    "    return somatorio / (n-1)\n",
    "end"
   ]
  },
  {
   "cell_type": "code",
   "execution_count": 25,
   "metadata": {},
   "outputs": [
    {
     "data": {
      "text/plain": [
       "10.0"
      ]
     },
     "execution_count": 25,
     "metadata": {},
     "output_type": "execute_result"
    }
   ],
   "source": [
    "variancia([2,4,6,8,10])"
   ]
  },
  {
   "cell_type": "markdown",
   "metadata": {},
   "source": [
    "**Desvio Padrão**: é a raiz quadrada da variância. Formalmente:\n",
    "\n",
    "$${S_x} = \\sqrt{\\frac{\\sum (x_i - \\bar{x})^2}{n-1} }$$\n",
    "\n",
    "#### Exemplo\n",
    "Calcule o desvio padrão da amostra 20, 5, 10, 15, 25."
   ]
  },
  {
   "cell_type": "code",
   "execution_count": 26,
   "metadata": {},
   "outputs": [
    {
     "data": {
      "text/plain": [
       "desvio_padrao (generic function with 1 method)"
      ]
     },
     "execution_count": 26,
     "metadata": {},
     "output_type": "execute_result"
    }
   ],
   "source": [
    "function desvio_padrao(x)\n",
    "    return sqrt(variancia(x))\n",
    "end"
   ]
  },
  {
   "cell_type": "code",
   "execution_count": 27,
   "metadata": {},
   "outputs": [
    {
     "data": {
      "text/plain": [
       "7.905694150420948"
      ]
     },
     "execution_count": 27,
     "metadata": {},
     "output_type": "execute_result"
    }
   ],
   "source": [
    "desvio_padrao([20,5,10,15,25])"
   ]
  },
  {
   "cell_type": "code",
   "execution_count": 28,
   "metadata": {},
   "outputs": [
    {
     "data": {
      "text/plain": [
       "7.91"
      ]
     },
     "execution_count": 28,
     "metadata": {},
     "output_type": "execute_result"
    }
   ],
   "source": [
    "# Arredondando para dois dígitos (como no livro)\n",
    "round(desvio_padrao([20,5,10,15,25]), digits=2)"
   ]
  },
  {
   "cell_type": "code",
   "execution_count": 29,
   "metadata": {},
   "outputs": [
    {
     "name": "stdout",
     "output_type": "stream",
     "text": [
      "Variância do vetor: 62.5\n",
      "Raiz quadrada calculada da variância: 7.905694150420948\n"
     ]
    }
   ],
   "source": [
    "println(\"Variância do vetor: \", variancia([20,5,10,15,25]))\n",
    "println(\"Raiz quadrada calculada da variância: \", sqrt(variancia([20,5,10,15,25])))"
   ]
  },
  {
   "cell_type": "markdown",
   "metadata": {},
   "source": [
    "---\n",
    "# Exercícios\n",
    "Stevenson (1981, p. 30), exercícios 1, 2, 3, 5, 6, 7."
   ]
  },
  {
   "cell_type": "code",
   "execution_count": 30,
   "metadata": {},
   "outputs": [],
   "source": [
    "# 1) Seu código aqui"
   ]
  },
  {
   "cell_type": "code",
   "execution_count": null,
   "metadata": {},
   "outputs": [],
   "source": [
    "# 2) Seu código aqui"
   ]
  },
  {
   "cell_type": "code",
   "execution_count": null,
   "metadata": {},
   "outputs": [],
   "source": [
    "# 3) Seu código aqui"
   ]
  },
  {
   "cell_type": "code",
   "execution_count": null,
   "metadata": {},
   "outputs": [],
   "source": [
    "# 5) Seu código aqui"
   ]
  },
  {
   "cell_type": "code",
   "execution_count": null,
   "metadata": {},
   "outputs": [],
   "source": [
    "# 6) Seu código aqui"
   ]
  },
  {
   "cell_type": "code",
   "execution_count": null,
   "metadata": {},
   "outputs": [],
   "source": [
    "# 7) Seu código aqui"
   ]
  }
 ],
 "metadata": {
  "kernelspec": {
   "display_name": "Julia 1.2.0",
   "language": "julia",
   "name": "julia-1.2"
  },
  "language_info": {
   "file_extension": ".jl",
   "mimetype": "application/julia",
   "name": "julia",
   "version": "1.2.0"
  }
 },
 "nbformat": 4,
 "nbformat_minor": 4
}
