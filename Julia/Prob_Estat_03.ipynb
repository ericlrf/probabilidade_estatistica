{
 "cells": [
  {
   "cell_type": "markdown",
   "metadata": {},
   "source": [
    "# Probabilidade e Estatística\n",
    "\n",
    "## Curso Superior de Tecnologia em Ciência de Dados\n",
    "\n",
    "### Prof. Dr. Neylson Crepalde\n",
    "\n",
    "Conteúdo abordado: distribuições descontínuas de probabilidade\n",
    "\n",
    "---"
   ]
  },
  {
   "cell_type": "markdown",
   "metadata": {},
   "source": [
    "## Variáveis aleatórias\n",
    "\n",
    "> Uma variável aleatória é uma função com valores numéricos, cujo valor é determinado por fatores de chance.\n",
    ">\n",
    "> Uma variável aleatória é considerada *discreta* se toma valores que podem ser *contados*.\n",
    ">\n",
    "> Uma variável aleatória é considerada *contínua* quando pode tomar *qualquer* valor de determinado intervalo.\n",
    "\n",
    "## Valor esperado de uma variável aleatória\n",
    "\n",
    "Se uma variável aleatória x toma os valores $x_1$, $x_2$, $x_3$, ..., $x_n$, com as probabilidades correspondentes $p_1$, $p_2$, $p_3$, ..., $p_n$, então seu *valor esperado*, $E(x)$ é \n",
    "\n",
    "$$p_1x_1 + p_2x_2 + p_3x_3 + ... + p_nx_n$$\n",
    "\n",
    "Assim, o *valor esperado* de um experimento é uma média, e pode ser calculado como:\n",
    "\n",
    "$$E(x) = \\sum_{i=1}^{n}p_ix_i$$\n",
    "\n",
    "#### Exemplo\n",
    "\n",
    "Suponha que uma loja tenha compilado os seguintes dados sobre vendas de refrigeradores:\n",
    "\n",
    "| Número vendido $(x_i)$ | Frequência relativa $P(x)$ |\n",
    "|------------------------|----------------------------|\n",
    "| 0 | 0,20 |\n",
    "| 1 | 0,30 |\n",
    "| 2 | 0,30 |\n",
    "| 3 | 0,15 | \n",
    "| 4 | 0,05 |\n",
    "| TOTAL  | 1,00 |\n",
    "\n",
    "Desse modo, \n",
    "\n",
    "$$E(x) = 0,20(0) + 0,30(1) + 0,30(2) + 0,15(3) + 0,05(4) = 1,55$$\n",
    "\n",
    "Como a firma não pode vender 1,55 refrigeradores em nenhum dia a pergunta óbvia é: Como interpretar aquele valor? O valor esperado é uma média a longo prazo.\n",
    "\n",
    "## Soma de Variáveis Aleatórias"
   ]
  },
  {
   "cell_type": "code",
   "execution_count": null,
   "metadata": {},
   "outputs": [],
   "source": []
  }
 ],
 "metadata": {
  "kernelspec": {
   "display_name": "Julia 1.2.0",
   "language": "julia",
   "name": "julia-1.2"
  },
  "language_info": {
   "file_extension": ".jl",
   "mimetype": "application/julia",
   "name": "julia",
   "version": "1.2.0"
  }
 },
 "nbformat": 4,
 "nbformat_minor": 4
}
