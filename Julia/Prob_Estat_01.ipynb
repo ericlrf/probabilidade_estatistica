{
 "cells": [
  {
   "cell_type": "markdown",
   "metadata": {},
   "source": [
    "# Probabilidade e Estatística\n",
    "\n",
    "## Curso Superior de Tecnologia em Ciência de Dados\n",
    "\n",
    "### Prof. Dr. Neylson Crepalde\n",
    "\n",
    "Conteúdo abordado: medidas de tendência central e medidas de dispersão.\n",
    "\n",
    "---\n",
    "\n",
    "# Medidas de Tendência Central\n",
    "\n",
    "**Média**: somatório de todos os valores sobre o número de ítens no conjunto.\n",
    "\n",
    "$$\\overline{x} = \\frac{\\sum_{i=1}^{n}x_i}{n}$$\n",
    "\n",
    "#### Exemplo\n",
    "Um estudante fez quatro avaliações na disciplina Probabilidade e Estatística e obteve as notas 83, 94, 95 e 86. Qual foi a sua nota média?"
   ]
  },
  {
   "cell_type": "code",
   "execution_count": 1,
   "metadata": {},
   "outputs": [
    {
     "data": {
      "text/plain": [
       "89.5"
      ]
     },
     "execution_count": 1,
     "metadata": {},
     "output_type": "execute_result"
    }
   ],
   "source": [
    "# Ma mão\n",
    "(83+94+95+86) / 4"
   ]
  },
  {
   "cell_type": "markdown",
   "metadata": {},
   "source": [
    "A nota média do aluno foi 89,5."
   ]
  },
  {
   "cell_type": "code",
   "execution_count": 2,
   "metadata": {},
   "outputs": [
    {
     "data": {
      "text/plain": [
       "media (generic function with 1 method)"
      ]
     },
     "execution_count": 2,
     "metadata": {},
     "output_type": "execute_result"
    }
   ],
   "source": [
    "# Função para média em Julia\n",
    "function media(x)\n",
    "    n = length(x)\n",
    "    return sum(x) / n\n",
    "end"
   ]
  },
  {
   "cell_type": "code",
   "execution_count": 3,
   "metadata": {},
   "outputs": [
    {
     "data": {
      "text/plain": [
       "89.5"
      ]
     },
     "execution_count": 3,
     "metadata": {},
     "output_type": "execute_result"
    }
   ],
   "source": [
    "notas = [83, 94, 95, 86]\n",
    "media(notas)"
   ]
  },
  {
   "cell_type": "markdown",
   "metadata": {},
   "source": [
    "**Média Ponderada**: A média ponderada por algum vetor que dá peso diferente às observações.\n",
    "\n",
    "$$MediaPonderada = \\frac{\\sum_{i=1}^{n} w_i x_i}{\\sum_{i=1}^{n} w_i}$$\n",
    "\n",
    "#### Exemplo\n",
    "Um estudante fez três avaliações com pesos diferentes. Na tabela abaixo constam as notas e os pesos das avaliações do aluno:\n",
    "\n",
    "| Exame |Nota| Peso |\n",
    "|-------|----|------|\n",
    "| N1    | 80 | 0,30 |\n",
    "| N2    | 90 | 0,30 |\n",
    "| Final | 96 | 0,40 |\n",
    "\n",
    "Calcule a média ponderada das notas do aluno."
   ]
  },
  {
   "cell_type": "code",
   "execution_count": 4,
   "metadata": {},
   "outputs": [
    {
     "data": {
      "text/plain": [
       "89.4"
      ]
     },
     "execution_count": 4,
     "metadata": {},
     "output_type": "execute_result"
    }
   ],
   "source": [
    "# Na mão\n",
    "(80*0.30 + 90*0.30 + 96*0.40) / (0.30+0.30+0.40)"
   ]
  },
  {
   "cell_type": "markdown",
   "metadata": {},
   "source": [
    "A nota média do aluno foi 89,4"
   ]
  },
  {
   "cell_type": "code",
   "execution_count": 5,
   "metadata": {},
   "outputs": [
    {
     "data": {
      "text/plain": [
       "media_ponderada (generic function with 1 method)"
      ]
     },
     "execution_count": 5,
     "metadata": {},
     "output_type": "execute_result"
    }
   ],
   "source": [
    "# Função para média ponderada em Julia\n",
    "function media_ponderada(x, w)\n",
    "    if length(x) != length(w)\n",
    "        error(\"x and w must have the same length\")\n",
    "    end\n",
    "    somatorio = 0\n",
    "    for i in 1:length(x)\n",
    "        somatorio += x[i] * w[i]\n",
    "    end\n",
    "    return somatorio / sum(w)\n",
    "end"
   ]
  },
  {
   "cell_type": "code",
   "execution_count": 6,
   "metadata": {},
   "outputs": [
    {
     "data": {
      "text/plain": [
       "89.4"
      ]
     },
     "execution_count": 6,
     "metadata": {},
     "output_type": "execute_result"
    }
   ],
   "source": [
    "notas = [80, 90, 96]\n",
    "pesos = [0.3, 0.3, 0.4]\n",
    "media_ponderada(notas, pesos)"
   ]
  },
  {
   "cell_type": "code",
   "execution_count": 7,
   "metadata": {},
   "outputs": [
    {
     "data": {
      "text/plain": [
       "4-element Array{Int64,1}:\n",
       " 80\n",
       " 90\n",
       " 96\n",
       " 78"
      ]
     },
     "execution_count": 7,
     "metadata": {},
     "output_type": "execute_result"
    }
   ],
   "source": [
    "append!(notas, 78)"
   ]
  },
  {
   "cell_type": "code",
   "execution_count": 8,
   "metadata": {},
   "outputs": [
    {
     "ename": "ErrorException",
     "evalue": "x and w must have the same length",
     "output_type": "error",
     "traceback": [
      "x and w must have the same length",
      "",
      "Stacktrace:",
      " [1] error(::String) at .\\error.jl:33",
      " [2] media_ponderada(::Array{Int64,1}, ::Array{Float64,1}) at .\\In[5]:4",
      " [3] top-level scope at In[8]:1"
     ]
    }
   ],
   "source": [
    "# Checando se a exceção foi bem programada\n",
    "media_ponderada(notas, pesos)"
   ]
  },
  {
   "cell_type": "markdown",
   "metadata": {},
   "source": [
    "**Mediana**: Uma vez que o vetor está ordenado, a mediana é o caso que está na posição central do vetor. Caso o número de elementos no vetor seja par, a mediana é a média aritmética dos dois valores centrais.\n",
    "\n",
    "Segundo Stevenson (1981) o processo para determinar a mediana consiste de:\n",
    "\n",
    "1. Ordenar os valores\n",
    "2. Verificar se há um múmero ímpar ou par de valores\n",
    "3. Para um número ímpar de valores, a mediana é o valor do meio. Para um número par de valores, a mediana é a média  dos dois valores do meio.\n",
    "\n",
    "#### Exemplo\n",
    "Os alunos de uma sala tiraram, respectivamente, as seguintes notas finais no semestre: 80, 90, 78, 95, 86. Qual foi a nota mediana da sala? E se na turma houvesse mais um aluno que tivesse tirado 89, qual seria então a mediana?\n",
    "\n",
    "**Resposta**: Ordenando os valores: 78, 80, 86, 90 e 95. Mediana foi 86.\n",
    "\n",
    "Se tivesse também 89: 78, 80, 86, 89, 90 e 95. $Mediana = \\frac{86 + 89}{2} = 87,5$ "
   ]
  },
  {
   "cell_type": "code",
   "execution_count": 9,
   "metadata": {},
   "outputs": [
    {
     "data": {
      "text/plain": [
       "87.5"
      ]
     },
     "execution_count": 9,
     "metadata": {},
     "output_type": "execute_result"
    }
   ],
   "source": [
    "(86 + 89)/2"
   ]
  },
  {
   "cell_type": "code",
   "execution_count": 11,
   "metadata": {},
   "outputs": [
    {
     "data": {
      "text/plain": [
       "mediana (generic function with 1 method)"
      ]
     },
     "execution_count": 11,
     "metadata": {},
     "output_type": "execute_result"
    }
   ],
   "source": [
    "# Implmentando uma função de mediana em Julia\n",
    "function mediana(x)\n",
    "    #1 - ordenar os valores\n",
    "    res = sort(x)\n",
    "    n = length(x)\n",
    "    #2 - Verificar se o tamanho é par ou ímpar\n",
    "    if n % 2 == 1\n",
    "        indice = trunc(Int, (n+1)/2)\n",
    "        return res[indice]\n",
    "    else\n",
    "        indice1 = trunc(Int, n/2)\n",
    "        indice2 = indice1+1\n",
    "        return media([res[indice1], res[indice2]])\n",
    "    end\n",
    "end"
   ]
  },
  {
   "cell_type": "code",
   "execution_count": 11,
   "metadata": {},
   "outputs": [
    {
     "data": {
      "text/plain": [
       "86"
      ]
     },
     "execution_count": 11,
     "metadata": {},
     "output_type": "execute_result"
    }
   ],
   "source": [
    "notas = [80, 90, 78, 95, 86]\n",
    "mediana(notas)"
   ]
  },
  {
   "cell_type": "code",
   "execution_count": 12,
   "metadata": {},
   "outputs": [
    {
     "data": {
      "text/plain": [
       "87.5"
      ]
     },
     "execution_count": 12,
     "metadata": {},
     "output_type": "execute_result"
    }
   ],
   "source": [
    "append!(notas, 89)\n",
    "mediana(notas)"
   ]
  },
  {
   "cell_type": "markdown",
   "metadata": {},
   "source": [
    "**Moda**: A moda é o valor que ocorre com maior frequência. Se não houver apenas um valor com maior frequência, não foi possível encontrar uma moda.\n",
    "\n",
    "#### Exemplo\n",
    "Calcule a moda entre os números 10, 10, 8, 6 e 10.\n",
    "Moda = 10\n",
    "\n",
    "Implementando a moda em `Julia`:"
   ]
  },
  {
   "cell_type": "code",
   "execution_count": 30,
   "metadata": {},
   "outputs": [],
   "source": [
    "using StatsBase"
   ]
  },
  {
   "cell_type": "code",
   "execution_count": 14,
   "metadata": {},
   "outputs": [
    {
     "data": {
      "text/plain": [
       "Dict{Int64,Int64} with 3 entries:\n",
       "  10 => 3\n",
       "  8  => 1\n",
       "  6  => 1"
      ]
     },
     "execution_count": 14,
     "metadata": {},
     "output_type": "execute_result"
    }
   ],
   "source": [
    "numeros = [10,10, 8, 6, 10]\n",
    "dic = countmap(numeros)"
   ]
  },
  {
   "cell_type": "code",
   "execution_count": 15,
   "metadata": {},
   "outputs": [
    {
     "data": {
      "text/plain": [
       "moda (generic function with 1 method)"
      ]
     },
     "execution_count": 15,
     "metadata": {},
     "output_type": "execute_result"
    }
   ],
   "source": [
    "function moda(x)\n",
    "    contagens = countmap(x)\n",
    "    valores = sort(collect(values(contagens)), rev=true)\n",
    "    if valores[1] == valores[2]\n",
    "        return \"Não existe moda\"\n",
    "    else\n",
    "        res = collect(keys(contagens))[findmax(collect(values(contagens)))[2]]\n",
    "        return res\n",
    "    end\n",
    "end"
   ]
  },
  {
   "cell_type": "code",
   "execution_count": 16,
   "metadata": {},
   "outputs": [
    {
     "data": {
      "text/plain": [
       "10"
      ]
     },
     "execution_count": 16,
     "metadata": {},
     "output_type": "execute_result"
    }
   ],
   "source": [
    "moda(numeros)"
   ]
  },
  {
   "cell_type": "code",
   "execution_count": 17,
   "metadata": {},
   "outputs": [
    {
     "data": {
      "text/plain": [
       "Dict{Int64,Int64} with 5 entries:\n",
       "  4  => 2\n",
       "  10 => 1\n",
       "  2  => 1\n",
       "  6  => 2\n",
       "  1  => 1"
      ]
     },
     "execution_count": 17,
     "metadata": {},
     "output_type": "execute_result"
    }
   ],
   "source": [
    "numeros2 = [1,2,4,4,6,6,10]\n",
    "countmap(numeros2)"
   ]
  },
  {
   "cell_type": "code",
   "execution_count": 18,
   "metadata": {},
   "outputs": [
    {
     "name": "stdout",
     "output_type": "stream",
     "text": [
      "Não existe moda\n"
     ]
    }
   ],
   "source": [
    "println(moda(numeros2))"
   ]
  },
  {
   "cell_type": "markdown",
   "metadata": {},
   "source": [
    "**Quartis**: Os quartis são valores que dividem o conjunto ordenado de dados em partes iguais. O primeiro quartil representa 25% dos dados, o terceiro quartil representa 75% dos dados (o que seria o segundo quartil, representando 50% dos dados é a mediana). \n",
    "\n",
    "Seja $n$ igual ao número de elementos no conjunto, calculamos $\\frac{j(n+1)}{4}$, para $j = 1, 2$ e $3$. Assim $Q_k$ será sempre um número compreendido no intervalo $X_k$ e $X_{k+1}$ onde $k$ é o maior inteiro menor ou igual a $\\frac{j(n+1)}{4}$ e será calculado da seguinte forma:\n",
    "\n",
    "$$Q_j = X_k + \\left( \\frac{j(n+1)}{4} - k \\right) (X_{k+1} - X_k)$$\n",
    "\n",
    "#### Exemplo\n",
    "Calcule os quartis para a amostra $\\{6, 47, 49, 15, 42, 41, 7, 39, 43, 40, 36\\}$."
   ]
  },
  {
   "cell_type": "markdown",
   "metadata": {},
   "source": [
    "Na mão:\n",
    "\n",
    "**Vetor ordenado** = {7, 6, 15, 36, 39, 40, 41, 42, 43, 47, 49}\n",
    "\n",
    "- 1º quartil = 15\n",
    "- Mediana = 40\n",
    "- 3º quartil = 43"
   ]
  },
  {
   "cell_type": "code",
   "execution_count": 15,
   "metadata": {},
   "outputs": [
    {
     "data": {
      "text/plain": [
       "quartis (generic function with 1 method)"
      ]
     },
     "execution_count": 15,
     "metadata": {},
     "output_type": "execute_result"
    }
   ],
   "source": [
    "# Implementando uma função em Julia para cálculo dos quartis\n",
    "function quartis(x)\n",
    "    x1 = sort(x)\n",
    "    n = length(x)\n",
    "    q0 = minimum(x)\n",
    "    q1 = x1[round(Int, 0.25*(n+1))]\n",
    "    q2 = mediana(x)\n",
    "    q3 = x1[round(Int, 0.75*(n+1))]\n",
    "    q4 = maximum(x)\n",
    "    res = [q0, q1, q2, q3, q4]\n",
    "    return res\n",
    "end"
   ]
  },
  {
   "cell_type": "code",
   "execution_count": 16,
   "metadata": {},
   "outputs": [
    {
     "data": {
      "text/plain": [
       "5-element Array{Int64,1}:\n",
       "  6\n",
       " 15\n",
       " 40\n",
       " 43\n",
       " 49"
      ]
     },
     "execution_count": 16,
     "metadata": {},
     "output_type": "execute_result"
    }
   ],
   "source": [
    "vetor = [6, 47, 49, 15, 42, 41, 7, 39, 43, 40, 36]\n",
    "quartis(vetor)"
   ]
  },
  {
   "cell_type": "markdown",
   "metadata": {},
   "source": [
    "---\n",
    "# Exercícios\n",
    "Stevenson (1981, p. 24), exercícios 1, 2 e 3"
   ]
  },
  {
   "cell_type": "code",
   "execution_count": 19,
   "metadata": {},
   "outputs": [],
   "source": [
    "# 1) Coloque seu código aqui\n",
    "#"
   ]
  },
  {
   "cell_type": "code",
   "execution_count": 20,
   "metadata": {},
   "outputs": [],
   "source": [
    "# 2) Coloque seu código aqui\n",
    "#"
   ]
  },
  {
   "cell_type": "code",
   "execution_count": 21,
   "metadata": {},
   "outputs": [],
   "source": [
    "# 3) Coloque seu código aqui\n",
    "#"
   ]
  },
  {
   "cell_type": "markdown",
   "metadata": {},
   "source": [
    "---\n",
    "# Medidas de dispersão\n",
    "\n",
    "**Desvio médio absoluto**: é a média dos desvios dos valores a contar da média, ignorando-se o sinal de diferença.\n",
    "\n",
    "$$DMA = \\frac{\\sum |x_i - \\bar{x}|}{n}$$\n",
    "\n",
    "#### Exemplo\n",
    "Determine o desvio médio para o seguinte conjunto de números: 2,4,6,8,10."
   ]
  },
  {
   "cell_type": "code",
   "execution_count": 22,
   "metadata": {},
   "outputs": [
    {
     "data": {
      "text/plain": [
       "desvio (generic function with 1 method)"
      ]
     },
     "execution_count": 22,
     "metadata": {},
     "output_type": "execute_result"
    }
   ],
   "source": [
    "# Implementando uma funcao de desvio\n",
    "function desvio(x)\n",
    "    n = length(x)\n",
    "    somatorio = 0\n",
    "    for i in 1:n\n",
    "        somatorio += abs(x[i] - media(x))\n",
    "    end\n",
    "    return somatorio / n\n",
    "end"
   ]
  },
  {
   "cell_type": "code",
   "execution_count": 23,
   "metadata": {},
   "outputs": [
    {
     "data": {
      "text/plain": [
       "2.4"
      ]
     },
     "execution_count": 23,
     "metadata": {},
     "output_type": "execute_result"
    }
   ],
   "source": [
    "numeros = [2,4,6,8,10]\n",
    "desvio(numeros)"
   ]
  },
  {
   "cell_type": "markdown",
   "metadata": {},
   "source": [
    "**Variância**: é a média dos quadrados dos desvios dos valores a contar da média, calculada usando-se n-1 em lugar de n (variância amostral)\n",
    "\n",
    "$${S_x}^2 = \\frac{\\sum (x_i - \\bar{x})^2}{n-1}$$\n",
    "\n",
    "#### Exemplo\n",
    "Calcule a variância para o vetor 2, 4, 6, 8, 10."
   ]
  },
  {
   "cell_type": "code",
   "execution_count": 24,
   "metadata": {},
   "outputs": [
    {
     "data": {
      "text/plain": [
       "variancia (generic function with 1 method)"
      ]
     },
     "execution_count": 24,
     "metadata": {},
     "output_type": "execute_result"
    }
   ],
   "source": [
    "function variancia(x)\n",
    "    n = length(x)\n",
    "    somatorio = 0\n",
    "    for i in 1:n\n",
    "        somatorio += (x[i] - media(x))^2\n",
    "    end\n",
    "    return somatorio / (n-1)\n",
    "end"
   ]
  },
  {
   "cell_type": "code",
   "execution_count": 25,
   "metadata": {},
   "outputs": [
    {
     "data": {
      "text/plain": [
       "10.0"
      ]
     },
     "execution_count": 25,
     "metadata": {},
     "output_type": "execute_result"
    }
   ],
   "source": [
    "variancia([2,4,6,8,10])"
   ]
  },
  {
   "cell_type": "markdown",
   "metadata": {},
   "source": [
    "**Desvio Padrão**: é a raiz quadrada da variância. Formalmente:\n",
    "\n",
    "$${S_x} = \\sqrt{\\frac{\\sum (x_i - \\bar{x})^2}{n-1} }$$\n",
    "\n",
    "#### Exemplo\n",
    "Calcule o desvio padrão da amostra 20, 5, 10, 15, 25."
   ]
  },
  {
   "cell_type": "code",
   "execution_count": 26,
   "metadata": {},
   "outputs": [
    {
     "data": {
      "text/plain": [
       "desvio_padrao (generic function with 1 method)"
      ]
     },
     "execution_count": 26,
     "metadata": {},
     "output_type": "execute_result"
    }
   ],
   "source": [
    "function desvio_padrao(x)\n",
    "    return sqrt(variancia(x))\n",
    "end"
   ]
  },
  {
   "cell_type": "code",
   "execution_count": 27,
   "metadata": {},
   "outputs": [
    {
     "data": {
      "text/plain": [
       "7.905694150420948"
      ]
     },
     "execution_count": 27,
     "metadata": {},
     "output_type": "execute_result"
    }
   ],
   "source": [
    "desvio_padrao([20,5,10,15,25])"
   ]
  },
  {
   "cell_type": "code",
   "execution_count": 28,
   "metadata": {},
   "outputs": [
    {
     "data": {
      "text/plain": [
       "7.91"
      ]
     },
     "execution_count": 28,
     "metadata": {},
     "output_type": "execute_result"
    }
   ],
   "source": [
    "# Arredondando para dois dígitos (como no livro)\n",
    "round(desvio_padrao([20,5,10,15,25]), digits=2)"
   ]
  },
  {
   "cell_type": "code",
   "execution_count": 29,
   "metadata": {},
   "outputs": [
    {
     "name": "stdout",
     "output_type": "stream",
     "text": [
      "Variância do vetor: 62.5\n",
      "Raiz quadrada calculada da variância: 7.905694150420948\n"
     ]
    }
   ],
   "source": [
    "println(\"Variância do vetor: \", variancia([20,5,10,15,25]))\n",
    "println(\"Raiz quadrada calculada da variância: \", sqrt(variancia([20,5,10,15,25])))"
   ]
  },
  {
   "cell_type": "markdown",
   "metadata": {},
   "source": [
    "---\n",
    "# Exercícios\n",
    "Stevenson (1981, p. 30-31), exercícios 1, 2, 3, 5, 6, 7, 9, 10, 11"
   ]
  },
  {
   "cell_type": "code",
   "execution_count": 30,
   "metadata": {},
   "outputs": [],
   "source": [
    "# 1) Seu código aqui"
   ]
  },
  {
   "cell_type": "code",
   "execution_count": null,
   "metadata": {},
   "outputs": [],
   "source": [
    "# 2) Seu código aqui"
   ]
  },
  {
   "cell_type": "code",
   "execution_count": null,
   "metadata": {},
   "outputs": [],
   "source": [
    "# 3) Seu código aqui"
   ]
  },
  {
   "cell_type": "code",
   "execution_count": null,
   "metadata": {},
   "outputs": [],
   "source": [
    "# 5) Seu código aqui"
   ]
  },
  {
   "cell_type": "code",
   "execution_count": null,
   "metadata": {},
   "outputs": [],
   "source": [
    "# 6) Seu código aqui"
   ]
  },
  {
   "cell_type": "code",
   "execution_count": null,
   "metadata": {},
   "outputs": [],
   "source": [
    "# 7) Seu código aqui"
   ]
  },
  {
   "cell_type": "code",
   "execution_count": null,
   "metadata": {},
   "outputs": [],
   "source": [
    "# 9) Seu código aqui"
   ]
  },
  {
   "cell_type": "code",
   "execution_count": null,
   "metadata": {},
   "outputs": [],
   "source": [
    "# 10) Seu código aqui"
   ]
  },
  {
   "cell_type": "code",
   "execution_count": null,
   "metadata": {},
   "outputs": [],
   "source": [
    "# 11) Seu código aqui"
   ]
  },
  {
   "cell_type": "markdown",
   "metadata": {},
   "source": [
    "---\n",
    "# Distribuições de Frequência\n",
    "\n",
    "Uma **distribuição de frequência** é um agrupamento de dados em classes, exibindo o número ou porcentagem de observações em cada classe.\n",
    "\n",
    "#### Distribuição de frequência para dados contínuos\n",
    "\n",
    "Para construir uma distribuição de frequências  para dados contínuos, podemos:\n",
    "\n",
    "1. Estabelecer as classes ou intervalos de grupamento dos dados;\n",
    "2. Enquadrar os dados nas classes mediante contagem;\n",
    "3. Contar o número em cada classe;\n",
    "4. Apresentar os dados.\n",
    "\n",
    "#### Exemplo:\n",
    "Construa uma distribuição de frequências das seguintes idades: 25, 30, 69, 18, 24, 28, 44, 36, 19.\n",
    "\n",
    "1. Vamos organizar os dados em 3 classes: Até 29, de 30 a 60 e acima de 60.\n",
    "2. Fazendo as contagens: Até 29: 5 casos. De 30 a 60: 3 casos. Acima de 60: 1 caso.\n",
    "3. Construindo a tabela ou a visualização:\n",
    "\n",
    "| Classe | Observações | Percentual | Perc. Acumulado |\n",
    "|--------|-------------|------------|-----------------|\n",
    "| Até 29 | 5 |  55.56%| 55.56% |\n",
    "| De 30 a 60 | 3 | 33.33% | 88.89% |\n",
    "| Acima de 60 | 1 | 11.11% | 100.00%\n",
    "| Total | 9 | 100.00% | |"
   ]
  },
  {
   "cell_type": "code",
   "execution_count": 20,
   "metadata": {},
   "outputs": [
    {
     "name": "stderr",
     "output_type": "stream",
     "text": [
      "┌ Info: Precompiling Plots [91a5bcdd-55d7-5caf-9e0b-520d859cae80]\n",
      "└ @ Base loading.jl:1242\n"
     ]
    }
   ],
   "source": [
    "using Plots"
   ]
  },
  {
   "cell_type": "code",
   "execution_count": 25,
   "metadata": {},
   "outputs": [
    {
     "data": {
      "image/svg+xml": [
       "<?xml version=\"1.0\" encoding=\"utf-8\"?>\n",
       "<svg xmlns=\"http://www.w3.org/2000/svg\" xmlns:xlink=\"http://www.w3.org/1999/xlink\" width=\"600\" height=\"400\" viewBox=\"0 0 2400 1600\">\n",
       "<defs>\n",
       "  <clipPath id=\"clip4800\">\n",
       "    <rect x=\"0\" y=\"0\" width=\"2400\" height=\"1600\"/>\n",
       "  </clipPath>\n",
       "</defs>\n",
       "<path clip-path=\"url(#clip4800)\" d=\"\n",
       "M0 1600 L2400 1600 L2400 0 L0 0  Z\n",
       "  \" fill=\"#ffffff\" fill-rule=\"evenodd\" fill-opacity=\"1\"/>\n",
       "<defs>\n",
       "  <clipPath id=\"clip4801\">\n",
       "    <rect x=\"480\" y=\"0\" width=\"1681\" height=\"1600\"/>\n",
       "  </clipPath>\n",
       "</defs>\n",
       "<path clip-path=\"url(#clip4800)\" d=\"\n",
       "M113.754 1487.47 L2352.76 1487.47 L2352.76 121.675 L113.754 121.675  Z\n",
       "  \" fill=\"#ffffff\" fill-rule=\"evenodd\" fill-opacity=\"1\"/>\n",
       "<defs>\n",
       "  <clipPath id=\"clip4802\">\n",
       "    <rect x=\"113\" y=\"121\" width=\"2240\" height=\"1367\"/>\n",
       "  </clipPath>\n",
       "</defs>\n",
       "<polyline clip-path=\"url(#clip4802)\" style=\"stroke:#000000; stroke-width:2; stroke-opacity:0.1; fill:none\" points=\"\n",
       "  521.575,1487.47 521.575,121.675 \n",
       "  \"/>\n",
       "<polyline clip-path=\"url(#clip4802)\" style=\"stroke:#000000; stroke-width:2; stroke-opacity:0.1; fill:none\" points=\"\n",
       "  1233.26,1487.47 1233.26,121.675 \n",
       "  \"/>\n",
       "<polyline clip-path=\"url(#clip4802)\" style=\"stroke:#000000; stroke-width:2; stroke-opacity:0.1; fill:none\" points=\"\n",
       "  1944.93,1487.47 1944.93,121.675 \n",
       "  \"/>\n",
       "<polyline clip-path=\"url(#clip4802)\" style=\"stroke:#000000; stroke-width:2; stroke-opacity:0.1; fill:none\" points=\"\n",
       "  113.754,1448.82 2352.76,1448.82 \n",
       "  \"/>\n",
       "<polyline clip-path=\"url(#clip4802)\" style=\"stroke:#000000; stroke-width:2; stroke-opacity:0.1; fill:none\" points=\"\n",
       "  113.754,1191.12 2352.76,1191.12 \n",
       "  \"/>\n",
       "<polyline clip-path=\"url(#clip4802)\" style=\"stroke:#000000; stroke-width:2; stroke-opacity:0.1; fill:none\" points=\"\n",
       "  113.754,933.424 2352.76,933.424 \n",
       "  \"/>\n",
       "<polyline clip-path=\"url(#clip4802)\" style=\"stroke:#000000; stroke-width:2; stroke-opacity:0.1; fill:none\" points=\"\n",
       "  113.754,675.726 2352.76,675.726 \n",
       "  \"/>\n",
       "<polyline clip-path=\"url(#clip4802)\" style=\"stroke:#000000; stroke-width:2; stroke-opacity:0.1; fill:none\" points=\"\n",
       "  113.754,418.028 2352.76,418.028 \n",
       "  \"/>\n",
       "<polyline clip-path=\"url(#clip4802)\" style=\"stroke:#000000; stroke-width:2; stroke-opacity:0.1; fill:none\" points=\"\n",
       "  113.754,160.33 2352.76,160.33 \n",
       "  \"/>\n",
       "<polyline clip-path=\"url(#clip4800)\" style=\"stroke:#000000; stroke-width:4; stroke-opacity:1; fill:none\" points=\"\n",
       "  113.754,1487.47 2352.76,1487.47 \n",
       "  \"/>\n",
       "<polyline clip-path=\"url(#clip4800)\" style=\"stroke:#000000; stroke-width:4; stroke-opacity:1; fill:none\" points=\"\n",
       "  113.754,1487.47 113.754,121.675 \n",
       "  \"/>\n",
       "<polyline clip-path=\"url(#clip4800)\" style=\"stroke:#000000; stroke-width:4; stroke-opacity:1; fill:none\" points=\"\n",
       "  521.575,1487.47 521.575,1466.99 \n",
       "  \"/>\n",
       "<polyline clip-path=\"url(#clip4800)\" style=\"stroke:#000000; stroke-width:4; stroke-opacity:1; fill:none\" points=\"\n",
       "  1233.26,1487.47 1233.26,1466.99 \n",
       "  \"/>\n",
       "<polyline clip-path=\"url(#clip4800)\" style=\"stroke:#000000; stroke-width:4; stroke-opacity:1; fill:none\" points=\"\n",
       "  1944.93,1487.47 1944.93,1466.99 \n",
       "  \"/>\n",
       "<polyline clip-path=\"url(#clip4800)\" style=\"stroke:#000000; stroke-width:4; stroke-opacity:1; fill:none\" points=\"\n",
       "  113.754,1448.82 147.339,1448.82 \n",
       "  \"/>\n",
       "<polyline clip-path=\"url(#clip4800)\" style=\"stroke:#000000; stroke-width:4; stroke-opacity:1; fill:none\" points=\"\n",
       "  113.754,1191.12 147.339,1191.12 \n",
       "  \"/>\n",
       "<polyline clip-path=\"url(#clip4800)\" style=\"stroke:#000000; stroke-width:4; stroke-opacity:1; fill:none\" points=\"\n",
       "  113.754,933.424 147.339,933.424 \n",
       "  \"/>\n",
       "<polyline clip-path=\"url(#clip4800)\" style=\"stroke:#000000; stroke-width:4; stroke-opacity:1; fill:none\" points=\"\n",
       "  113.754,675.726 147.339,675.726 \n",
       "  \"/>\n",
       "<polyline clip-path=\"url(#clip4800)\" style=\"stroke:#000000; stroke-width:4; stroke-opacity:1; fill:none\" points=\"\n",
       "  113.754,418.028 147.339,418.028 \n",
       "  \"/>\n",
       "<polyline clip-path=\"url(#clip4800)\" style=\"stroke:#000000; stroke-width:4; stroke-opacity:1; fill:none\" points=\"\n",
       "  113.754,160.33 147.339,160.33 \n",
       "  \"/>\n",
       "<g clip-path=\"url(#clip4800)\">\n",
       "<text style=\"fill:#000000; fill-opacity:1; font-family:Arial,Helvetica Neue,Helvetica,sans-serif; font-size:48px; text-anchor:middle;\" transform=\"rotate(0, 521.575, 1541.47)\" x=\"521.575\" y=\"1541.47\">Até 29</text>\n",
       "</g>\n",
       "<g clip-path=\"url(#clip4800)\">\n",
       "<text style=\"fill:#000000; fill-opacity:1; font-family:Arial,Helvetica Neue,Helvetica,sans-serif; font-size:48px; text-anchor:middle;\" transform=\"rotate(0, 1233.26, 1541.47)\" x=\"1233.26\" y=\"1541.47\">De 30 a 60</text>\n",
       "</g>\n",
       "<g clip-path=\"url(#clip4800)\">\n",
       "<text style=\"fill:#000000; fill-opacity:1; font-family:Arial,Helvetica Neue,Helvetica,sans-serif; font-size:48px; text-anchor:middle;\" transform=\"rotate(0, 1944.93, 1541.47)\" x=\"1944.93\" y=\"1541.47\">Acima de 60</text>\n",
       "</g>\n",
       "<g clip-path=\"url(#clip4800)\">\n",
       "<text style=\"fill:#000000; fill-opacity:1; font-family:Arial,Helvetica Neue,Helvetica,sans-serif; font-size:48px; text-anchor:end;\" transform=\"rotate(0, 89.7545, 1466.32)\" x=\"89.7545\" y=\"1466.32\">0</text>\n",
       "</g>\n",
       "<g clip-path=\"url(#clip4800)\">\n",
       "<text style=\"fill:#000000; fill-opacity:1; font-family:Arial,Helvetica Neue,Helvetica,sans-serif; font-size:48px; text-anchor:end;\" transform=\"rotate(0, 89.7545, 1208.62)\" x=\"89.7545\" y=\"1208.62\">1</text>\n",
       "</g>\n",
       "<g clip-path=\"url(#clip4800)\">\n",
       "<text style=\"fill:#000000; fill-opacity:1; font-family:Arial,Helvetica Neue,Helvetica,sans-serif; font-size:48px; text-anchor:end;\" transform=\"rotate(0, 89.7545, 950.924)\" x=\"89.7545\" y=\"950.924\">2</text>\n",
       "</g>\n",
       "<g clip-path=\"url(#clip4800)\">\n",
       "<text style=\"fill:#000000; fill-opacity:1; font-family:Arial,Helvetica Neue,Helvetica,sans-serif; font-size:48px; text-anchor:end;\" transform=\"rotate(0, 89.7545, 693.226)\" x=\"89.7545\" y=\"693.226\">3</text>\n",
       "</g>\n",
       "<g clip-path=\"url(#clip4800)\">\n",
       "<text style=\"fill:#000000; fill-opacity:1; font-family:Arial,Helvetica Neue,Helvetica,sans-serif; font-size:48px; text-anchor:end;\" transform=\"rotate(0, 89.7545, 435.528)\" x=\"89.7545\" y=\"435.528\">4</text>\n",
       "</g>\n",
       "<g clip-path=\"url(#clip4800)\">\n",
       "<text style=\"fill:#000000; fill-opacity:1; font-family:Arial,Helvetica Neue,Helvetica,sans-serif; font-size:48px; text-anchor:end;\" transform=\"rotate(0, 89.7545, 177.83)\" x=\"89.7545\" y=\"177.83\">5</text>\n",
       "</g>\n",
       "<g clip-path=\"url(#clip4800)\">\n",
       "<text style=\"fill:#000000; fill-opacity:1; font-family:Arial,Helvetica Neue,Helvetica,sans-serif; font-size:84px; text-anchor:middle;\" transform=\"rotate(0, 1233.26, 73.2)\" x=\"1233.26\" y=\"73.2\">Gráfico de barras</text>\n",
       "</g>\n",
       "<path clip-path=\"url(#clip4802)\" d=\"\n",
       "M236.904 160.33 L236.904 1448.82 L806.247 1448.82 L806.247 160.33 L236.904 160.33 L236.904 160.33  Z\n",
       "  \" fill=\"#009af9\" fill-rule=\"evenodd\" fill-opacity=\"1\"/>\n",
       "<polyline clip-path=\"url(#clip4802)\" style=\"stroke:#000000; stroke-width:4; stroke-opacity:1; fill:none\" points=\"\n",
       "  236.904,160.33 236.904,1448.82 806.247,1448.82 806.247,160.33 236.904,160.33 \n",
       "  \"/>\n",
       "<path clip-path=\"url(#clip4802)\" d=\"\n",
       "M948.583 675.726 L948.583 1448.82 L1517.93 1448.82 L1517.93 675.726 L948.583 675.726 L948.583 675.726  Z\n",
       "  \" fill=\"#009af9\" fill-rule=\"evenodd\" fill-opacity=\"1\"/>\n",
       "<polyline clip-path=\"url(#clip4802)\" style=\"stroke:#000000; stroke-width:4; stroke-opacity:1; fill:none\" points=\"\n",
       "  948.583,675.726 948.583,1448.82 1517.93,1448.82 1517.93,675.726 948.583,675.726 \n",
       "  \"/>\n",
       "<path clip-path=\"url(#clip4802)\" d=\"\n",
       "M1660.26 1191.12 L1660.26 1448.82 L2229.61 1448.82 L2229.61 1191.12 L1660.26 1191.12 L1660.26 1191.12  Z\n",
       "  \" fill=\"#009af9\" fill-rule=\"evenodd\" fill-opacity=\"1\"/>\n",
       "<polyline clip-path=\"url(#clip4802)\" style=\"stroke:#000000; stroke-width:4; stroke-opacity:1; fill:none\" points=\"\n",
       "  1660.26,1191.12 1660.26,1448.82 2229.61,1448.82 2229.61,1191.12 1660.26,1191.12 \n",
       "  \"/>\n",
       "</svg>\n"
      ]
     },
     "execution_count": 25,
     "metadata": {},
     "output_type": "execute_result"
    }
   ],
   "source": [
    "x = [\"Até 29\", \"De 30 a 60\", \"Acima de 60\"]\n",
    "y = [5,3,1]\n",
    "bar(x,y, legend=false)\n",
    "title!(\"Gráfico de barras\")"
   ]
  },
  {
   "cell_type": "markdown",
   "metadata": {},
   "source": [
    "Podemos utilizar um histograma para obter a distribuição de frequências de uma variável contínua."
   ]
  },
  {
   "cell_type": "code",
   "execution_count": 26,
   "metadata": {},
   "outputs": [],
   "source": [
    "using Random"
   ]
  },
  {
   "cell_type": "code",
   "execution_count": 28,
   "metadata": {},
   "outputs": [
    {
     "data": {
      "image/svg+xml": [
       "<?xml version=\"1.0\" encoding=\"utf-8\"?>\n",
       "<svg xmlns=\"http://www.w3.org/2000/svg\" xmlns:xlink=\"http://www.w3.org/1999/xlink\" width=\"600\" height=\"400\" viewBox=\"0 0 2400 1600\">\n",
       "<defs>\n",
       "  <clipPath id=\"clip5200\">\n",
       "    <rect x=\"0\" y=\"0\" width=\"2400\" height=\"1600\"/>\n",
       "  </clipPath>\n",
       "</defs>\n",
       "<path clip-path=\"url(#clip5200)\" d=\"\n",
       "M0 1600 L2400 1600 L2400 0 L0 0  Z\n",
       "  \" fill=\"#ffffff\" fill-rule=\"evenodd\" fill-opacity=\"1\"/>\n",
       "<defs>\n",
       "  <clipPath id=\"clip5201\">\n",
       "    <rect x=\"480\" y=\"0\" width=\"1681\" height=\"1600\"/>\n",
       "  </clipPath>\n",
       "</defs>\n",
       "<path clip-path=\"url(#clip5200)\" d=\"\n",
       "M167.279 1487.47 L2352.76 1487.47 L2352.76 121.675 L167.279 121.675  Z\n",
       "  \" fill=\"#ffffff\" fill-rule=\"evenodd\" fill-opacity=\"1\"/>\n",
       "<defs>\n",
       "  <clipPath id=\"clip5202\">\n",
       "    <rect x=\"167\" y=\"121\" width=\"2186\" height=\"1367\"/>\n",
       "  </clipPath>\n",
       "</defs>\n",
       "<polyline clip-path=\"url(#clip5202)\" style=\"stroke:#000000; stroke-width:2; stroke-opacity:0.1; fill:none\" points=\"\n",
       "  287.484,1487.47 287.484,121.675 \n",
       "  \"/>\n",
       "<polyline clip-path=\"url(#clip5202)\" style=\"stroke:#000000; stroke-width:2; stroke-opacity:0.1; fill:none\" points=\"\n",
       "  586.725,1487.47 586.725,121.675 \n",
       "  \"/>\n",
       "<polyline clip-path=\"url(#clip5202)\" style=\"stroke:#000000; stroke-width:2; stroke-opacity:0.1; fill:none\" points=\"\n",
       "  885.966,1487.47 885.966,121.675 \n",
       "  \"/>\n",
       "<polyline clip-path=\"url(#clip5202)\" style=\"stroke:#000000; stroke-width:2; stroke-opacity:0.1; fill:none\" points=\"\n",
       "  1185.21,1487.47 1185.21,121.675 \n",
       "  \"/>\n",
       "<polyline clip-path=\"url(#clip5202)\" style=\"stroke:#000000; stroke-width:2; stroke-opacity:0.1; fill:none\" points=\"\n",
       "  1484.45,1487.47 1484.45,121.675 \n",
       "  \"/>\n",
       "<polyline clip-path=\"url(#clip5202)\" style=\"stroke:#000000; stroke-width:2; stroke-opacity:0.1; fill:none\" points=\"\n",
       "  1783.69,1487.47 1783.69,121.675 \n",
       "  \"/>\n",
       "<polyline clip-path=\"url(#clip5202)\" style=\"stroke:#000000; stroke-width:2; stroke-opacity:0.1; fill:none\" points=\"\n",
       "  2082.93,1487.47 2082.93,121.675 \n",
       "  \"/>\n",
       "<polyline clip-path=\"url(#clip5202)\" style=\"stroke:#000000; stroke-width:2; stroke-opacity:0.1; fill:none\" points=\"\n",
       "  167.279,1448.82 2352.76,1448.82 \n",
       "  \"/>\n",
       "<polyline clip-path=\"url(#clip5202)\" style=\"stroke:#000000; stroke-width:2; stroke-opacity:0.1; fill:none\" points=\"\n",
       "  167.279,1092.88 2352.76,1092.88 \n",
       "  \"/>\n",
       "<polyline clip-path=\"url(#clip5202)\" style=\"stroke:#000000; stroke-width:2; stroke-opacity:0.1; fill:none\" points=\"\n",
       "  167.279,736.947 2352.76,736.947 \n",
       "  \"/>\n",
       "<polyline clip-path=\"url(#clip5202)\" style=\"stroke:#000000; stroke-width:2; stroke-opacity:0.1; fill:none\" points=\"\n",
       "  167.279,381.01 2352.76,381.01 \n",
       "  \"/>\n",
       "<polyline clip-path=\"url(#clip5200)\" style=\"stroke:#000000; stroke-width:4; stroke-opacity:1; fill:none\" points=\"\n",
       "  167.279,1487.47 2352.76,1487.47 \n",
       "  \"/>\n",
       "<polyline clip-path=\"url(#clip5200)\" style=\"stroke:#000000; stroke-width:4; stroke-opacity:1; fill:none\" points=\"\n",
       "  167.279,1487.47 167.279,121.675 \n",
       "  \"/>\n",
       "<polyline clip-path=\"url(#clip5200)\" style=\"stroke:#000000; stroke-width:4; stroke-opacity:1; fill:none\" points=\"\n",
       "  287.484,1487.47 287.484,1466.99 \n",
       "  \"/>\n",
       "<polyline clip-path=\"url(#clip5200)\" style=\"stroke:#000000; stroke-width:4; stroke-opacity:1; fill:none\" points=\"\n",
       "  586.725,1487.47 586.725,1466.99 \n",
       "  \"/>\n",
       "<polyline clip-path=\"url(#clip5200)\" style=\"stroke:#000000; stroke-width:4; stroke-opacity:1; fill:none\" points=\"\n",
       "  885.966,1487.47 885.966,1466.99 \n",
       "  \"/>\n",
       "<polyline clip-path=\"url(#clip5200)\" style=\"stroke:#000000; stroke-width:4; stroke-opacity:1; fill:none\" points=\"\n",
       "  1185.21,1487.47 1185.21,1466.99 \n",
       "  \"/>\n",
       "<polyline clip-path=\"url(#clip5200)\" style=\"stroke:#000000; stroke-width:4; stroke-opacity:1; fill:none\" points=\"\n",
       "  1484.45,1487.47 1484.45,1466.99 \n",
       "  \"/>\n",
       "<polyline clip-path=\"url(#clip5200)\" style=\"stroke:#000000; stroke-width:4; stroke-opacity:1; fill:none\" points=\"\n",
       "  1783.69,1487.47 1783.69,1466.99 \n",
       "  \"/>\n",
       "<polyline clip-path=\"url(#clip5200)\" style=\"stroke:#000000; stroke-width:4; stroke-opacity:1; fill:none\" points=\"\n",
       "  2082.93,1487.47 2082.93,1466.99 \n",
       "  \"/>\n",
       "<polyline clip-path=\"url(#clip5200)\" style=\"stroke:#000000; stroke-width:4; stroke-opacity:1; fill:none\" points=\"\n",
       "  167.279,1448.82 200.061,1448.82 \n",
       "  \"/>\n",
       "<polyline clip-path=\"url(#clip5200)\" style=\"stroke:#000000; stroke-width:4; stroke-opacity:1; fill:none\" points=\"\n",
       "  167.279,1092.88 200.061,1092.88 \n",
       "  \"/>\n",
       "<polyline clip-path=\"url(#clip5200)\" style=\"stroke:#000000; stroke-width:4; stroke-opacity:1; fill:none\" points=\"\n",
       "  167.279,736.947 200.061,736.947 \n",
       "  \"/>\n",
       "<polyline clip-path=\"url(#clip5200)\" style=\"stroke:#000000; stroke-width:4; stroke-opacity:1; fill:none\" points=\"\n",
       "  167.279,381.01 200.061,381.01 \n",
       "  \"/>\n",
       "<g clip-path=\"url(#clip5200)\">\n",
       "<text style=\"fill:#000000; fill-opacity:1; font-family:Arial,Helvetica Neue,Helvetica,sans-serif; font-size:48px; text-anchor:middle;\" transform=\"rotate(0, 287.484, 1541.47)\" x=\"287.484\" y=\"1541.47\">-3</text>\n",
       "</g>\n",
       "<g clip-path=\"url(#clip5200)\">\n",
       "<text style=\"fill:#000000; fill-opacity:1; font-family:Arial,Helvetica Neue,Helvetica,sans-serif; font-size:48px; text-anchor:middle;\" transform=\"rotate(0, 586.725, 1541.47)\" x=\"586.725\" y=\"1541.47\">-2</text>\n",
       "</g>\n",
       "<g clip-path=\"url(#clip5200)\">\n",
       "<text style=\"fill:#000000; fill-opacity:1; font-family:Arial,Helvetica Neue,Helvetica,sans-serif; font-size:48px; text-anchor:middle;\" transform=\"rotate(0, 885.966, 1541.47)\" x=\"885.966\" y=\"1541.47\">-1</text>\n",
       "</g>\n",
       "<g clip-path=\"url(#clip5200)\">\n",
       "<text style=\"fill:#000000; fill-opacity:1; font-family:Arial,Helvetica Neue,Helvetica,sans-serif; font-size:48px; text-anchor:middle;\" transform=\"rotate(0, 1185.21, 1541.47)\" x=\"1185.21\" y=\"1541.47\">0</text>\n",
       "</g>\n",
       "<g clip-path=\"url(#clip5200)\">\n",
       "<text style=\"fill:#000000; fill-opacity:1; font-family:Arial,Helvetica Neue,Helvetica,sans-serif; font-size:48px; text-anchor:middle;\" transform=\"rotate(0, 1484.45, 1541.47)\" x=\"1484.45\" y=\"1541.47\">1</text>\n",
       "</g>\n",
       "<g clip-path=\"url(#clip5200)\">\n",
       "<text style=\"fill:#000000; fill-opacity:1; font-family:Arial,Helvetica Neue,Helvetica,sans-serif; font-size:48px; text-anchor:middle;\" transform=\"rotate(0, 1783.69, 1541.47)\" x=\"1783.69\" y=\"1541.47\">2</text>\n",
       "</g>\n",
       "<g clip-path=\"url(#clip5200)\">\n",
       "<text style=\"fill:#000000; fill-opacity:1; font-family:Arial,Helvetica Neue,Helvetica,sans-serif; font-size:48px; text-anchor:middle;\" transform=\"rotate(0, 2082.93, 1541.47)\" x=\"2082.93\" y=\"1541.47\">3</text>\n",
       "</g>\n",
       "<g clip-path=\"url(#clip5200)\">\n",
       "<text style=\"fill:#000000; fill-opacity:1; font-family:Arial,Helvetica Neue,Helvetica,sans-serif; font-size:48px; text-anchor:end;\" transform=\"rotate(0, 143.279, 1466.32)\" x=\"143.279\" y=\"1466.32\">0</text>\n",
       "</g>\n",
       "<g clip-path=\"url(#clip5200)\">\n",
       "<text style=\"fill:#000000; fill-opacity:1; font-family:Arial,Helvetica Neue,Helvetica,sans-serif; font-size:48px; text-anchor:end;\" transform=\"rotate(0, 143.279, 1110.38)\" x=\"143.279\" y=\"1110.38\">50</text>\n",
       "</g>\n",
       "<g clip-path=\"url(#clip5200)\">\n",
       "<text style=\"fill:#000000; fill-opacity:1; font-family:Arial,Helvetica Neue,Helvetica,sans-serif; font-size:48px; text-anchor:end;\" transform=\"rotate(0, 143.279, 754.447)\" x=\"143.279\" y=\"754.447\">100</text>\n",
       "</g>\n",
       "<g clip-path=\"url(#clip5200)\">\n",
       "<text style=\"fill:#000000; fill-opacity:1; font-family:Arial,Helvetica Neue,Helvetica,sans-serif; font-size:48px; text-anchor:end;\" transform=\"rotate(0, 143.279, 398.51)\" x=\"143.279\" y=\"398.51\">150</text>\n",
       "</g>\n",
       "<g clip-path=\"url(#clip5200)\">\n",
       "<text style=\"fill:#000000; fill-opacity:1; font-family:Arial,Helvetica Neue,Helvetica,sans-serif; font-size:84px; text-anchor:middle;\" transform=\"rotate(0, 1260.02, 73.2)\" x=\"1260.02\" y=\"73.2\">Histograma</text>\n",
       "</g>\n",
       "<path clip-path=\"url(#clip5202)\" d=\"\n",
       "M287.484 1427.46 L287.484 1448.82 L437.105 1448.82 L437.105 1427.46 L287.484 1427.46 L287.484 1427.46  Z\n",
       "  \" fill=\"#009af9\" fill-rule=\"evenodd\" fill-opacity=\"1\"/>\n",
       "<polyline clip-path=\"url(#clip5202)\" style=\"stroke:#000000; stroke-width:4; stroke-opacity:1; fill:none\" points=\"\n",
       "  287.484,1427.46 287.484,1448.82 437.105,1448.82 437.105,1427.46 287.484,1427.46 \n",
       "  \"/>\n",
       "<path clip-path=\"url(#clip5202)\" d=\"\n",
       "M437.105 1277.97 L437.105 1448.82 L586.725 1448.82 L586.725 1277.97 L437.105 1277.97 L437.105 1277.97  Z\n",
       "  \" fill=\"#009af9\" fill-rule=\"evenodd\" fill-opacity=\"1\"/>\n",
       "<polyline clip-path=\"url(#clip5202)\" style=\"stroke:#000000; stroke-width:4; stroke-opacity:1; fill:none\" points=\"\n",
       "  437.105,1277.97 437.105,1448.82 586.725,1448.82 586.725,1277.97 437.105,1277.97 \n",
       "  \"/>\n",
       "<path clip-path=\"url(#clip5202)\" d=\"\n",
       "M586.725 1100 L586.725 1448.82 L736.346 1448.82 L736.346 1100 L586.725 1100 L586.725 1100  Z\n",
       "  \" fill=\"#009af9\" fill-rule=\"evenodd\" fill-opacity=\"1\"/>\n",
       "<polyline clip-path=\"url(#clip5202)\" style=\"stroke:#000000; stroke-width:4; stroke-opacity:1; fill:none\" points=\"\n",
       "  586.725,1100 586.725,1448.82 736.346,1448.82 736.346,1100 586.725,1100 \n",
       "  \"/>\n",
       "<path clip-path=\"url(#clip5202)\" d=\"\n",
       "M736.346 893.559 L736.346 1448.82 L885.966 1448.82 L885.966 893.559 L736.346 893.559 L736.346 893.559  Z\n",
       "  \" fill=\"#009af9\" fill-rule=\"evenodd\" fill-opacity=\"1\"/>\n",
       "<polyline clip-path=\"url(#clip5202)\" style=\"stroke:#000000; stroke-width:4; stroke-opacity:1; fill:none\" points=\"\n",
       "  736.346,893.559 736.346,1448.82 885.966,1448.82 885.966,893.559 736.346,893.559 \n",
       "  \"/>\n",
       "<path clip-path=\"url(#clip5202)\" d=\"\n",
       "M885.966 252.873 L885.966 1448.82 L1035.59 1448.82 L1035.59 252.873 L885.966 252.873 L885.966 252.873  Z\n",
       "  \" fill=\"#009af9\" fill-rule=\"evenodd\" fill-opacity=\"1\"/>\n",
       "<polyline clip-path=\"url(#clip5202)\" style=\"stroke:#000000; stroke-width:4; stroke-opacity:1; fill:none\" points=\"\n",
       "  885.966,252.873 885.966,1448.82 1035.59,1448.82 1035.59,252.873 885.966,252.873 \n",
       "  \"/>\n",
       "<path clip-path=\"url(#clip5202)\" d=\"\n",
       "M1035.59 203.042 L1035.59 1448.82 L1185.21 1448.82 L1185.21 203.042 L1035.59 203.042 L1035.59 203.042  Z\n",
       "  \" fill=\"#009af9\" fill-rule=\"evenodd\" fill-opacity=\"1\"/>\n",
       "<polyline clip-path=\"url(#clip5202)\" style=\"stroke:#000000; stroke-width:4; stroke-opacity:1; fill:none\" points=\"\n",
       "  1035.59,203.042 1035.59,1448.82 1185.21,1448.82 1185.21,203.042 1035.59,203.042 \n",
       "  \"/>\n",
       "<path clip-path=\"url(#clip5202)\" d=\"\n",
       "M1185.21 160.33 L1185.21 1448.82 L1334.83 1448.82 L1334.83 160.33 L1185.21 160.33 L1185.21 160.33  Z\n",
       "  \" fill=\"#009af9\" fill-rule=\"evenodd\" fill-opacity=\"1\"/>\n",
       "<polyline clip-path=\"url(#clip5202)\" style=\"stroke:#000000; stroke-width:4; stroke-opacity:1; fill:none\" points=\"\n",
       "  1185.21,160.33 1185.21,1448.82 1334.83,1448.82 1334.83,160.33 1185.21,160.33 \n",
       "  \"/>\n",
       "<path clip-path=\"url(#clip5202)\" d=\"\n",
       "M1334.83 302.704 L1334.83 1448.82 L1484.45 1448.82 L1484.45 302.704 L1334.83 302.704 L1334.83 302.704  Z\n",
       "  \" fill=\"#009af9\" fill-rule=\"evenodd\" fill-opacity=\"1\"/>\n",
       "<polyline clip-path=\"url(#clip5202)\" style=\"stroke:#000000; stroke-width:4; stroke-opacity:1; fill:none\" points=\"\n",
       "  1334.83,302.704 1334.83,1448.82 1484.45,1448.82 1484.45,302.704 1334.83,302.704 \n",
       "  \"/>\n",
       "<path clip-path=\"url(#clip5202)\" d=\"\n",
       "M1484.45 886.44 L1484.45 1448.82 L1634.07 1448.82 L1634.07 886.44 L1484.45 886.44 L1484.45 886.44  Z\n",
       "  \" fill=\"#009af9\" fill-rule=\"evenodd\" fill-opacity=\"1\"/>\n",
       "<polyline clip-path=\"url(#clip5202)\" style=\"stroke:#000000; stroke-width:4; stroke-opacity:1; fill:none\" points=\"\n",
       "  1484.45,886.44 1484.45,1448.82 1634.07,1448.82 1634.07,886.44 1484.45,886.44 \n",
       "  \"/>\n",
       "<path clip-path=\"url(#clip5202)\" d=\"\n",
       "M1634.07 1021.7 L1634.07 1448.82 L1783.69 1448.82 L1783.69 1021.7 L1634.07 1021.7 L1634.07 1021.7  Z\n",
       "  \" fill=\"#009af9\" fill-rule=\"evenodd\" fill-opacity=\"1\"/>\n",
       "<polyline clip-path=\"url(#clip5202)\" style=\"stroke:#000000; stroke-width:4; stroke-opacity:1; fill:none\" points=\"\n",
       "  1634.07,1021.7 1634.07,1448.82 1783.69,1448.82 1783.69,1021.7 1634.07,1021.7 \n",
       "  \"/>\n",
       "<path clip-path=\"url(#clip5202)\" d=\"\n",
       "M1783.69 1342.04 L1783.69 1448.82 L1933.31 1448.82 L1933.31 1342.04 L1783.69 1342.04 L1783.69 1342.04  Z\n",
       "  \" fill=\"#009af9\" fill-rule=\"evenodd\" fill-opacity=\"1\"/>\n",
       "<polyline clip-path=\"url(#clip5202)\" style=\"stroke:#000000; stroke-width:4; stroke-opacity:1; fill:none\" points=\"\n",
       "  1783.69,1342.04 1783.69,1448.82 1933.31,1448.82 1933.31,1342.04 1783.69,1342.04 \n",
       "  \"/>\n",
       "<path clip-path=\"url(#clip5202)\" d=\"\n",
       "M1933.31 1413.23 L1933.31 1448.82 L2082.93 1448.82 L2082.93 1413.23 L1933.31 1413.23 L1933.31 1413.23  Z\n",
       "  \" fill=\"#009af9\" fill-rule=\"evenodd\" fill-opacity=\"1\"/>\n",
       "<polyline clip-path=\"url(#clip5202)\" style=\"stroke:#000000; stroke-width:4; stroke-opacity:1; fill:none\" points=\"\n",
       "  1933.31,1413.23 1933.31,1448.82 2082.93,1448.82 2082.93,1413.23 1933.31,1413.23 \n",
       "  \"/>\n",
       "<path clip-path=\"url(#clip5202)\" d=\"\n",
       "M2082.93 1434.58 L2082.93 1448.82 L2232.55 1448.82 L2232.55 1434.58 L2082.93 1434.58 L2082.93 1434.58  Z\n",
       "  \" fill=\"#009af9\" fill-rule=\"evenodd\" fill-opacity=\"1\"/>\n",
       "<polyline clip-path=\"url(#clip5202)\" style=\"stroke:#000000; stroke-width:4; stroke-opacity:1; fill:none\" points=\"\n",
       "  2082.93,1434.58 2082.93,1448.82 2232.55,1448.82 2232.55,1434.58 2082.93,1434.58 \n",
       "  \"/>\n",
       "</svg>\n"
      ]
     },
     "execution_count": 28,
     "metadata": {},
     "output_type": "execute_result"
    }
   ],
   "source": [
    "# Gerando 1000 números com distribuição normal\n",
    "x = randn(1000)\n",
    "histogram(x, legend=false)\n",
    "title!(\"Histograma\")"
   ]
  },
  {
   "cell_type": "code",
   "execution_count": 44,
   "metadata": {},
   "outputs": [],
   "source": [
    "using StatsPlots"
   ]
  },
  {
   "cell_type": "code",
   "execution_count": 47,
   "metadata": {},
   "outputs": [
    {
     "data": {
      "image/svg+xml": [
       "<?xml version=\"1.0\" encoding=\"utf-8\"?>\n",
       "<svg xmlns=\"http://www.w3.org/2000/svg\" xmlns:xlink=\"http://www.w3.org/1999/xlink\" width=\"600\" height=\"400\" viewBox=\"0 0 2400 1600\">\n",
       "<defs>\n",
       "  <clipPath id=\"clip7200\">\n",
       "    <rect x=\"0\" y=\"0\" width=\"2400\" height=\"1600\"/>\n",
       "  </clipPath>\n",
       "</defs>\n",
       "<path clip-path=\"url(#clip7200)\" d=\"\n",
       "M0 1600 L2400 1600 L2400 0 L0 0  Z\n",
       "  \" fill=\"#ffffff\" fill-rule=\"evenodd\" fill-opacity=\"1\"/>\n",
       "<defs>\n",
       "  <clipPath id=\"clip7201\">\n",
       "    <rect x=\"480\" y=\"0\" width=\"1681\" height=\"1600\"/>\n",
       "  </clipPath>\n",
       "</defs>\n",
       "<path clip-path=\"url(#clip7200)\" d=\"\n",
       "M153.898 1487.47 L2352.76 1487.47 L2352.76 121.675 L153.898 121.675  Z\n",
       "  \" fill=\"#ffffff\" fill-rule=\"evenodd\" fill-opacity=\"1\"/>\n",
       "<defs>\n",
       "  <clipPath id=\"clip7202\">\n",
       "    <rect x=\"153\" y=\"121\" width=\"2200\" height=\"1367\"/>\n",
       "  </clipPath>\n",
       "</defs>\n",
       "<polyline clip-path=\"url(#clip7202)\" style=\"stroke:#000000; stroke-width:2; stroke-opacity:0.1; fill:none\" points=\"\n",
       "  654.171,1487.47 654.171,121.675 \n",
       "  \"/>\n",
       "<polyline clip-path=\"url(#clip7202)\" style=\"stroke:#000000; stroke-width:2; stroke-opacity:0.1; fill:none\" points=\"\n",
       "  1165.59,1487.47 1165.59,121.675 \n",
       "  \"/>\n",
       "<polyline clip-path=\"url(#clip7202)\" style=\"stroke:#000000; stroke-width:2; stroke-opacity:0.1; fill:none\" points=\"\n",
       "  1677.01,1487.47 1677.01,121.675 \n",
       "  \"/>\n",
       "<polyline clip-path=\"url(#clip7202)\" style=\"stroke:#000000; stroke-width:2; stroke-opacity:0.1; fill:none\" points=\"\n",
       "  2188.42,1487.47 2188.42,121.675 \n",
       "  \"/>\n",
       "<polyline clip-path=\"url(#clip7202)\" style=\"stroke:#000000; stroke-width:2; stroke-opacity:0.1; fill:none\" points=\"\n",
       "  153.898,1448.82 2352.76,1448.82 \n",
       "  \"/>\n",
       "<polyline clip-path=\"url(#clip7202)\" style=\"stroke:#000000; stroke-width:2; stroke-opacity:0.1; fill:none\" points=\"\n",
       "  153.898,1097.57 2352.76,1097.57 \n",
       "  \"/>\n",
       "<polyline clip-path=\"url(#clip7202)\" style=\"stroke:#000000; stroke-width:2; stroke-opacity:0.1; fill:none\" points=\"\n",
       "  153.898,746.31 2352.76,746.31 \n",
       "  \"/>\n",
       "<polyline clip-path=\"url(#clip7202)\" style=\"stroke:#000000; stroke-width:2; stroke-opacity:0.1; fill:none\" points=\"\n",
       "  153.898,395.053 2352.76,395.053 \n",
       "  \"/>\n",
       "<polyline clip-path=\"url(#clip7200)\" style=\"stroke:#000000; stroke-width:4; stroke-opacity:1; fill:none\" points=\"\n",
       "  153.898,1487.47 2352.76,1487.47 \n",
       "  \"/>\n",
       "<polyline clip-path=\"url(#clip7200)\" style=\"stroke:#000000; stroke-width:4; stroke-opacity:1; fill:none\" points=\"\n",
       "  153.898,1487.47 153.898,121.675 \n",
       "  \"/>\n",
       "<polyline clip-path=\"url(#clip7200)\" style=\"stroke:#000000; stroke-width:4; stroke-opacity:1; fill:none\" points=\"\n",
       "  654.171,1487.47 654.171,1466.99 \n",
       "  \"/>\n",
       "<polyline clip-path=\"url(#clip7200)\" style=\"stroke:#000000; stroke-width:4; stroke-opacity:1; fill:none\" points=\"\n",
       "  1165.59,1487.47 1165.59,1466.99 \n",
       "  \"/>\n",
       "<polyline clip-path=\"url(#clip7200)\" style=\"stroke:#000000; stroke-width:4; stroke-opacity:1; fill:none\" points=\"\n",
       "  1677.01,1487.47 1677.01,1466.99 \n",
       "  \"/>\n",
       "<polyline clip-path=\"url(#clip7200)\" style=\"stroke:#000000; stroke-width:4; stroke-opacity:1; fill:none\" points=\"\n",
       "  2188.42,1487.47 2188.42,1466.99 \n",
       "  \"/>\n",
       "<polyline clip-path=\"url(#clip7200)\" style=\"stroke:#000000; stroke-width:4; stroke-opacity:1; fill:none\" points=\"\n",
       "  153.898,1448.82 186.881,1448.82 \n",
       "  \"/>\n",
       "<polyline clip-path=\"url(#clip7200)\" style=\"stroke:#000000; stroke-width:4; stroke-opacity:1; fill:none\" points=\"\n",
       "  153.898,1097.57 186.881,1097.57 \n",
       "  \"/>\n",
       "<polyline clip-path=\"url(#clip7200)\" style=\"stroke:#000000; stroke-width:4; stroke-opacity:1; fill:none\" points=\"\n",
       "  153.898,746.31 186.881,746.31 \n",
       "  \"/>\n",
       "<polyline clip-path=\"url(#clip7200)\" style=\"stroke:#000000; stroke-width:4; stroke-opacity:1; fill:none\" points=\"\n",
       "  153.898,395.053 186.881,395.053 \n",
       "  \"/>\n",
       "<g clip-path=\"url(#clip7200)\">\n",
       "<text style=\"fill:#000000; fill-opacity:1; font-family:Arial,Helvetica Neue,Helvetica,sans-serif; font-size:48px; text-anchor:middle;\" transform=\"rotate(0, 654.171, 1541.47)\" x=\"654.171\" y=\"1541.47\">-2</text>\n",
       "</g>\n",
       "<g clip-path=\"url(#clip7200)\">\n",
       "<text style=\"fill:#000000; fill-opacity:1; font-family:Arial,Helvetica Neue,Helvetica,sans-serif; font-size:48px; text-anchor:middle;\" transform=\"rotate(0, 1165.59, 1541.47)\" x=\"1165.59\" y=\"1541.47\">0</text>\n",
       "</g>\n",
       "<g clip-path=\"url(#clip7200)\">\n",
       "<text style=\"fill:#000000; fill-opacity:1; font-family:Arial,Helvetica Neue,Helvetica,sans-serif; font-size:48px; text-anchor:middle;\" transform=\"rotate(0, 1677.01, 1541.47)\" x=\"1677.01\" y=\"1541.47\">2</text>\n",
       "</g>\n",
       "<g clip-path=\"url(#clip7200)\">\n",
       "<text style=\"fill:#000000; fill-opacity:1; font-family:Arial,Helvetica Neue,Helvetica,sans-serif; font-size:48px; text-anchor:middle;\" transform=\"rotate(0, 2188.42, 1541.47)\" x=\"2188.42\" y=\"1541.47\">4</text>\n",
       "</g>\n",
       "<g clip-path=\"url(#clip7200)\">\n",
       "<text style=\"fill:#000000; fill-opacity:1; font-family:Arial,Helvetica Neue,Helvetica,sans-serif; font-size:48px; text-anchor:end;\" transform=\"rotate(0, 129.898, 1466.32)\" x=\"129.898\" y=\"1466.32\">0.0</text>\n",
       "</g>\n",
       "<g clip-path=\"url(#clip7200)\">\n",
       "<text style=\"fill:#000000; fill-opacity:1; font-family:Arial,Helvetica Neue,Helvetica,sans-serif; font-size:48px; text-anchor:end;\" transform=\"rotate(0, 129.898, 1115.07)\" x=\"129.898\" y=\"1115.07\">0.1</text>\n",
       "</g>\n",
       "<g clip-path=\"url(#clip7200)\">\n",
       "<text style=\"fill:#000000; fill-opacity:1; font-family:Arial,Helvetica Neue,Helvetica,sans-serif; font-size:48px; text-anchor:end;\" transform=\"rotate(0, 129.898, 763.81)\" x=\"129.898\" y=\"763.81\">0.2</text>\n",
       "</g>\n",
       "<g clip-path=\"url(#clip7200)\">\n",
       "<text style=\"fill:#000000; fill-opacity:1; font-family:Arial,Helvetica Neue,Helvetica,sans-serif; font-size:48px; text-anchor:end;\" transform=\"rotate(0, 129.898, 412.553)\" x=\"129.898\" y=\"412.553\">0.3</text>\n",
       "</g>\n",
       "<g clip-path=\"url(#clip7200)\">\n",
       "<text style=\"fill:#000000; fill-opacity:1; font-family:Arial,Helvetica Neue,Helvetica,sans-serif; font-size:84px; text-anchor:middle;\" transform=\"rotate(0, 1253.33, 73.2)\" x=\"1253.33\" y=\"73.2\">Density plot</text>\n",
       "</g>\n",
       "<polyline clip-path=\"url(#clip7202)\" style=\"stroke:#009af9; stroke-width:4; stroke-opacity:1; fill:none\" points=\"\n",
       "  216.13,1448.82 226.554,1448.82 236.978,1448.81 247.402,1448.81 257.826,1448.79 268.25,1448.76 278.674,1448.72 289.098,1448.64 299.523,1448.53 309.947,1448.34 \n",
       "  320.371,1448.07 330.795,1447.68 341.219,1447.12 351.643,1446.35 362.067,1445.32 372.491,1443.97 382.915,1442.24 393.339,1440.06 403.763,1437.36 414.188,1434.09 \n",
       "  424.612,1430.17 435.036,1425.54 445.46,1420.14 455.884,1413.92 466.308,1406.86 476.732,1398.96 487.156,1390.24 497.58,1380.78 508.004,1370.69 518.428,1360.1 \n",
       "  528.853,1349.16 539.277,1338.04 549.701,1326.85 560.125,1315.67 570.549,1304.48 580.973,1293.23 591.397,1281.79 601.821,1269.98 612.245,1257.64 622.669,1244.61 \n",
       "  633.093,1230.82 643.518,1216.32 653.942,1201.25 664.366,1185.85 674.79,1170.45 685.214,1155.38 695.638,1140.91 706.062,1127.23 716.486,1114.35 726.91,1102.13 \n",
       "  737.334,1090.22 747.758,1078.18 758.183,1065.43 768.607,1051.41 779.031,1035.56 789.455,1017.44 799.879,996.688 810.303,973.079 820.727,946.496 831.151,916.912 \n",
       "  841.575,884.369 851.999,848.956 862.423,810.798 872.848,770.05 883.272,726.909 893.696,681.624 904.12,634.52 914.544,586.018 924.968,536.652 935.392,487.082 \n",
       "  945.816,438.093 956.24,390.572 966.664,345.479 977.089,303.783 987.513,266.403 997.937,234.128 1008.36,207.548 1018.78,186.997 1029.21,172.513 1039.63,163.818 \n",
       "  1050.06,160.33 1060.48,161.195 1070.91,165.345 1081.33,171.583 1091.75,178.682 1102.18,185.504 1112.6,191.113 1123.03,194.865 1133.45,196.47 1143.87,195.996 \n",
       "  1154.3,193.82 1164.72,190.537 1175.15,186.838 1185.57,183.388 1195.99,180.727 1206.42,179.219 1216.84,179.051 1227.27,180.278 1237.69,182.905 1248.11,186.97 \n",
       "  1258.54,192.622 1268.96,200.162 1279.39,210.036 1289.81,222.803 1300.24,239.045 1310.66,259.285 1321.08,283.886 1331.51,312.979 1341.93,346.418 1352.36,383.772 \n",
       "  1362.78,424.352 1373.2,467.264 1383.63,511.485 1394.05,555.948 1404.48,599.615 1414.9,641.555 1425.32,680.995 1435.75,717.365 1446.17,750.318 1456.6,779.732 \n",
       "  1467.02,805.698 1477.44,828.484 1487.87,848.497 1498.29,866.226 1508.72,882.198 1519.14,896.933 1529.57,910.916 1539.99,924.584 1550.41,938.329 1560.84,952.509 \n",
       "  1571.26,967.458 1581.69,983.496 1592.11,1000.91 1602.53,1019.95 1612.96,1040.76 1623.38,1063.38 1633.81,1087.66 1644.23,1113.3 1654.65,1139.83 1665.08,1166.64 \n",
       "  1675.5,1193.06 1685.93,1218.43 1696.35,1242.15 1706.77,1263.79 1717.2,1283.07 1727.62,1299.93 1738.05,1314.46 1748.47,1326.91 1758.9,1337.58 1769.32,1346.87 \n",
       "  1779.74,1355.11 1790.17,1362.64 1800.59,1369.71 1811.02,1376.53 1821.44,1383.2 1831.86,1389.79 1842.29,1396.3 1852.71,1402.69 1863.14,1408.88 1873.56,1414.75 \n",
       "  1883.98,1420.19 1894.41,1425.09 1904.83,1429.35 1915.26,1432.89 1925.68,1435.69 1936.1,1437.73 1946.53,1439.06 1956.95,1439.76 1967.38,1439.93 1977.8,1439.69 \n",
       "  1988.23,1439.19 1998.65,1438.57 2009.07,1437.96 2019.5,1437.46 2029.92,1437.18 2040.35,1437.16 2050.77,1437.44 2061.19,1438 2071.62,1438.82 2082.04,1439.82 \n",
       "  2092.47,1440.95 2102.89,1442.13 2113.31,1443.3 2123.74,1444.39 2134.16,1445.36 2144.59,1446.2 2155.01,1446.9 2165.43,1447.45 2175.86,1447.87 2186.28,1448.18 \n",
       "  2196.71,1448.4 2207.13,1448.56 2217.56,1448.66 2227.98,1448.73 2238.4,1448.77 2248.83,1448.79 2259.25,1448.81 2269.68,1448.81 2280.1,1448.82 2290.52,1448.82 \n",
       "  \n",
       "  \"/>\n",
       "</svg>\n"
      ]
     },
     "execution_count": 47,
     "metadata": {},
     "output_type": "execute_result"
    }
   ],
   "source": [
    "# Para representar o mesmo conjunto de dados como uma distribuição contínua, usamos um gráfico de densidade\n",
    "density(x, legend=false)\n",
    "title!(\"Density plot\")"
   ]
  },
  {
   "cell_type": "markdown",
   "metadata": {},
   "source": [
    "---\n",
    "## Exercícios\n",
    "Stevenson (1981, p. 51-52), exercícios suplementares 1, 2, 3, 4, 7, 8 e 10."
   ]
  },
  {
   "cell_type": "code",
   "execution_count": 48,
   "metadata": {},
   "outputs": [],
   "source": [
    "# 1) Seu código aqui!"
   ]
  },
  {
   "cell_type": "code",
   "execution_count": 49,
   "metadata": {},
   "outputs": [],
   "source": [
    "# 2) Seu código aqui!"
   ]
  },
  {
   "cell_type": "code",
   "execution_count": 50,
   "metadata": {},
   "outputs": [],
   "source": [
    "# 3) Seu código aqui!"
   ]
  },
  {
   "cell_type": "code",
   "execution_count": 51,
   "metadata": {},
   "outputs": [],
   "source": [
    "# 4) Seu código aqui!"
   ]
  },
  {
   "cell_type": "code",
   "execution_count": 52,
   "metadata": {},
   "outputs": [],
   "source": [
    "# 7) Seu código aqui!"
   ]
  },
  {
   "cell_type": "code",
   "execution_count": 53,
   "metadata": {},
   "outputs": [],
   "source": [
    "# 8) Seu código aqui!"
   ]
  },
  {
   "cell_type": "code",
   "execution_count": null,
   "metadata": {},
   "outputs": [],
   "source": [
    "# 10) Seu código aqui!"
   ]
  }
 ],
 "metadata": {
  "kernelspec": {
   "display_name": "Julia 1.2.0",
   "language": "julia",
   "name": "julia-1.2"
  },
  "language_info": {
   "file_extension": ".jl",
   "mimetype": "application/julia",
   "name": "julia",
   "version": "1.2.0"
  }
 },
 "nbformat": 4,
 "nbformat_minor": 4
}
